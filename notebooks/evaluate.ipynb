{
 "cells": [
  {
   "cell_type": "markdown",
   "metadata": {
    "colab_type": "text",
    "id": "1q4RwdsObp87"
   },
   "source": [
    "<h1 align=\"center\"><a href=\"https://github.com/sborquez/gerumo/\">*</a> GeRUMo - Gamma-ray Events Reconstructor with Uncertain models</h1>\n",
    "\n",
    "<h2 align=\"center\">Evaluate</h2>\n",
    "\n",
    "<center>\n",
    "<img src=\"https://upload.wikimedia.org/wikipedia/commons/2/2f/Cta_concept.jpg\" width=\"30%\" alt=\"icon\"></img>\n",
    "</center>\n",
    "\n"
   ]
  },
  {
   "cell_type": "markdown",
   "metadata": {
    "colab_type": "text",
    "id": "FtjNbkRSbklF"
   },
   "source": [
    "## Setup\n",
    "\n",
    "The first step is to sync this notebook with Google Drive, and change directory to gerumo repository."
   ]
  },
  {
   "cell_type": "markdown",
   "metadata": {},
   "source": [
    "#### Colab Setup"
   ]
  },
  {
   "cell_type": "code",
   "execution_count": null,
   "metadata": {
    "colab": {
     "base_uri": "https://localhost:8080/",
     "height": 87
    },
    "colab_type": "code",
    "executionInfo": {
     "elapsed": 9770,
     "status": "ok",
     "timestamp": 1591747222381,
     "user": {
      "displayName": "Sebastián Bórquez",
      "photoUrl": "https://lh3.googleusercontent.com/a-/AOh14GjxWwI8bJunba57PuyxAam6CPZ6TAt-b6ZBMCcbHw=s64",
      "userId": "11886092938956714392"
     },
     "user_tz": 240
    },
    "id": "Gy0JY8IIV0ku",
    "outputId": "7fa68848-e7be-449e-9b69-93d0037e87e4"
   },
   "outputs": [],
   "source": [
    "!pip install -q ctaplot"
   ]
  },
  {
   "cell_type": "code",
   "execution_count": null,
   "metadata": {
    "colab": {
     "base_uri": "https://localhost:8080/",
     "height": 124
    },
    "colab_type": "code",
    "executionInfo": {
     "elapsed": 30270,
     "status": "ok",
     "timestamp": 1591747258902,
     "user": {
      "displayName": "Sebastián Bórquez",
      "photoUrl": "https://lh3.googleusercontent.com/a-/AOh14GjxWwI8bJunba57PuyxAam6CPZ6TAt-b6ZBMCcbHw=s64",
      "userId": "11886092938956714392"
     },
     "user_tz": 240
    },
    "id": "pbkEdphCBeeR",
    "outputId": "8d64e8f3-692e-4c40-b9ba-7b3ee4363295"
   },
   "outputs": [],
   "source": [
    "from google.colab import drive\n",
    "drive.mount('/content/drive')"
   ]
  },
  {
   "cell_type": "code",
   "execution_count": null,
   "metadata": {
    "colab": {
     "base_uri": "https://localhost:8080/",
     "height": 69
    },
    "colab_type": "code",
    "executionInfo": {
     "elapsed": 6252,
     "status": "ok",
     "timestamp": 1591747280370,
     "user": {
      "displayName": "Sebastián Bórquez",
      "photoUrl": "https://lh3.googleusercontent.com/a-/AOh14GjxWwI8bJunba57PuyxAam6CPZ6TAt-b6ZBMCcbHw=s64",
      "userId": "11886092938956714392"
     },
     "user_tz": 240
    },
    "id": "pECwOoribklH",
    "outputId": "02dbb850-fab7-4a0f-f351-792b0a0150a2"
   },
   "outputs": [],
   "source": [
    "%cd \"/content/drive/My Drive/Projects/gerumo\"\n",
    "!ls"
   ]
  },
  {
   "cell_type": "markdown",
   "metadata": {},
   "source": [
    "#### Local Setup"
   ]
  },
  {
   "cell_type": "code",
   "execution_count": null,
   "metadata": {},
   "outputs": [],
   "source": [
    "%cd D:\\sebas\\Google Drive\\Projects\\gerumo"
   ]
  },
  {
   "cell_type": "code",
   "execution_count": 1,
   "metadata": {},
   "outputs": [
    {
     "name": "stdout",
     "output_type": "stream",
     "text": [
<<<<<<< HEAD
      "/home/bapanes/Research-Now/gerumo\n"
=======
      "/mnt/d/sebas/Google Drive/Projects/gerumo\n"
>>>>>>> master
     ]
    }
   ],
   "source": [
<<<<<<< HEAD
    "%cd /home/bapanes/Research-Now/gerumo"
=======
    "%cd  /mnt/d/sebas/Google Drive/Projects/gerumo/"
>>>>>>> master
   ]
  },
  {
   "cell_type": "markdown",
   "metadata": {
    "colab_type": "text",
    "id": "4rkXfwQxbklb"
   },
   "source": [
    "## Load Gerumo and extra modules."
   ]
  },
  {
   "cell_type": "code",
   "execution_count": 2,
   "metadata": {
    "colab": {
     "base_uri": "https://localhost:8080/",
     "height": 72
    },
    "colab_type": "code",
    "executionInfo": {
     "elapsed": 24526,
     "status": "ok",
     "timestamp": 1591747312960,
     "user": {
      "displayName": "Sebastián Bórquez",
      "photoUrl": "https://lh3.googleusercontent.com/a-/AOh14GjxWwI8bJunba57PuyxAam6CPZ6TAt-b6ZBMCcbHw=s64",
      "userId": "11886092938956714392"
     },
     "user_tz": 240
    },
    "id": "pGxLKB3-bklc",
    "outputId": "23b25e92-9be1-408b-c587-501f73169a6f"
   },
   "outputs": [],
   "source": [
    "from gerumo import *\n",
    "\n",
    "import logging\n",
    "import time\n",
    "from os import path\n",
    "\n",
    "import numpy as np\n",
    "import pandas as pd\n",
    "from tensorflow import keras\n",
    "from tensorflow.keras.utils import plot_model\n",
    "from sklearn.metrics import r2_score\n",
    "import json\n",
    "from tqdm.notebook import tqdm\n",
    "from IPython.core.display import display, HTML\n",
    "import pprint"
   ]
  },
  {
   "cell_type": "markdown",
   "metadata": {
    "colab_type": "text",
    "id": "e8rmaFQ9BFRF"
   },
   "source": [
    "# Angular Reconstruction"
   ]
  },
  {
   "cell_type": "markdown",
   "metadata": {
    "colab_type": "text",
    "id": "kObcrwL6bkli"
   },
   "source": [
    "## Load Configuration file"
   ]
  },
  {
   "cell_type": "code",
<<<<<<< HEAD
   "execution_count": 3,
   "metadata": {
    "colab": {},
    "colab_type": "code",
    "id": "yBT-ByKXk1ST"
   },
   "outputs": [],
   "source": [
    "#@title Select config file. { display-mode: \"form\" }\n",
    "\n",
    "#config_file = \"umonna_assembler_colab_all.json\" #@param [\"umonna_assembler_colab_all.json\", \"umonna_assembler_colab.json\"]\n",
    "#config_file = \"/content/drive/My Drive/Projects/gerumo/train/config/colab/alt_az/\" + config_file"
   ]
  },
  {
   "cell_type": "code",
   "execution_count": 4,
   "metadata": {},
   "outputs": [],
   "source": [
    "#config_file = \"D:/sebas/Google Drive/Projects/gerumo/train/config/local/alt_az/pumonna_assembler_local.json\"\n",
    "#config_file = \"D:/sebas/Google Drive/Projects/gerumo/train/config/local/alt_az/umonna_assembler_local.json\"\n",
    "#config_file = \"D:/sebas/Google Drive/Projects/gerumo/train/config/local/alt_az/umonna_assembler_local_hd.json\"\n",
    "#config_file = \"D:/sebas/Google Drive/Projects/gerumo/train/config/local/alt_az/bmo_assembler_local.json\""
=======
   "execution_count": 41,
   "metadata": {},
   "outputs": [],
   "source": [
    "config_file = \"/mnt/d/sebas/Google Drive/Projects/gerumo/train/config/local/alt_az/bmo_assembler_local.json\""
>>>>>>> master
   ]
  },
  {
   "cell_type": "code",
<<<<<<< HEAD
   "execution_count": 3,
   "metadata": {},
   "outputs": [],
   "source": [
    "config_file = \"/home/bapanes/Research-Now/gerumo/train/config/local/alt_az/bmo_det_assembler_local.json\""
   ]
  },
  {
   "cell_type": "code",
   "execution_count": 4,
=======
   "execution_count": 42,
>>>>>>> master
   "metadata": {
    "colab": {
     "base_uri": "https://localhost:8080/",
     "height": 35
    },
    "colab_type": "code",
    "executionInfo": {
     "elapsed": 3131,
     "status": "ok",
     "timestamp": 1591747321045,
     "user": {
      "displayName": "Sebastián Bórquez",
      "photoUrl": "https://lh3.googleusercontent.com/a-/AOh14GjxWwI8bJunba57PuyxAam6CPZ6TAt-b6ZBMCcbHw=s64",
      "userId": "11886092938956714392"
     },
     "user_tz": 240
    },
    "id": "LgzJF0aHBFRG",
    "outputId": "c7bb5d1d-4322-4062-b3bb-7eee7a7f1557"
   },
   "outputs": [
    {
     "name": "stdout",
     "output_type": "stream",
     "text": [
<<<<<<< HEAD
      "Loading config from: /home/bapanes/Research-Now/gerumo/train/config/local/alt_az/bmo_det_assembler_local.json\n"
=======
      "Loading config from: /mnt/d/sebas/Google Drive/Projects/gerumo/train/config/local/alt_az/bmo_assembler_local.json\n"
>>>>>>> master
     ]
    }
   ],
   "source": [
    "print(f\"Loading config from: {config_file}\")\n",
    "with open(config_file) as cfg_file:\n",
    "    config = json.load(cfg_file)\n",
    "\n",
    "# Model\n",
    "model_name = config[\"model_name\"]\n",
    "\n",
    "#ASSEMBLERS is a predefined list in gerumo/models/__init__.py\n",
    "assembler_constructor = ASSEMBLERS[config[\"assembler_constructor\"]]\n",
    "\n",
    "# Dataset Parameters\n",
    "version = config[\"version\"]\n",
    "output_folder = config[\"output_folder\"]\n",
    "replace_folder_test = config[\"replace_folder_test\"]\n",
    "test_events_csv    = config[\"test_events_csv\"]\n",
    "test_telescope_csv = config[\"test_telescope_csv\"]\n",
    "\n",
    "# Input and Target Parameters \n",
    "telescopes = config[\"telescopes\"]\n",
    "min_observations = config[\"min_observations\"]\n",
    "input_image_mode = config[\"input_image_mode\"]\n",
    "input_image_mask = config[\"input_image_mask\"]\n",
    "input_features = config[\"input_features\"]\n",
    "targets = config[\"targets\"]\n",
    "target_mode = \"lineal\" if config[\"assembler_constructor\"] != 'umonna' else config['target_mode']\n",
    "target_shapes = config[\"target_shapes\"]\n",
    "target_domains = config[\"target_domains\"]\n",
    "if  config[\"assembler_constructor\"] == 'umonna':\n",
    "    target_resolutions = get_resolution(targets, target_domains, target_shapes)\n",
    "\n",
    "    # Prepare Generator target_mode_config \n",
    "    target_mode_config = {\n",
    "        \"target_shapes\":      tuple([target_shapes[target]      for target in targets]),\n",
    "        \"target_domains\":     tuple([target_domains[target]     for target in targets]),\n",
    "        \"target_resolutions\": tuple([target_resolutions[target] for target in targets])\n",
    "    }\n",
    "    if target_mode == \"probability_map\":\n",
    "        target_sigmas = config[\"target_sigmas\"]\n",
    "        target_mode_config[\"target_sigmas\"] = tuple([target_sigmas[target] for target in targets])\n",
    "else:\n",
    "    target_mode_config = {\n",
    "        \"target_domains\":     tuple([target_domains[target]     for target in targets]),\n",
    "        \"target_shapes\":      tuple([np.inf      for target in targets]),\n",
    "        \"target_resolutions\": tuple([np.inf      for target in targets])\n",
    "    }\n",
    "    target_resolutions = tuple([np.inf      for target in targets])\n",
    "\n",
    "# Preprocessing\n",
    "preprocessing_parameters = config.get(\"preprocessing\", {})    \n",
    "\n",
    "# Evaluation Parameters\n",
    "evaluation_config = config[\"evaluation\"]\n",
    "seed = evaluation_config[\"seed\"]"
   ]
  },
  {
   "cell_type": "code",
<<<<<<< HEAD
   "execution_count": 5,
=======
   "execution_count": 43,
>>>>>>> master
   "metadata": {},
   "outputs": [
    {
     "data": {
      "text/plain": [
       "{'target_domains': ([1.05, 1.382],),\n",
       " 'target_shapes': (inf,),\n",
       " 'target_resolutions': (inf,)}"
      ]
     },
<<<<<<< HEAD
     "execution_count": 5,
=======
     "execution_count": 43,
>>>>>>> master
     "metadata": {},
     "output_type": "execute_result"
    }
   ],
   "source": [
    "target_mode_config"
   ]
  },
  {
   "cell_type": "code",
<<<<<<< HEAD
   "execution_count": 6,
=======
   "execution_count": 44,
>>>>>>> master
   "metadata": {
    "colab": {
     "base_uri": "https://localhost:8080/",
     "height": 1000
    },
    "colab_type": "code",
    "executionInfo": {
     "elapsed": 1024,
     "status": "ok",
     "timestamp": 1591747322642,
     "user": {
      "displayName": "Sebastián Bórquez",
      "photoUrl": "https://lh3.googleusercontent.com/a-/AOh14GjxWwI8bJunba57PuyxAam6CPZ6TAt-b6ZBMCcbHw=s64",
      "userId": "11886092938956714392"
     },
     "user_tz": 240
    },
    "id": "qBgKkBMaBFRL",
    "outputId": "86d219e7-865a-44b5-fa0c-21dd2512d14e"
   },
   "outputs": [
    {
     "name": "stdout",
     "output_type": "stream",
     "text": [
      "{'assembler_constructor': 'bmo_det',\n",
      " 'evaluation': {'Assembler': {'metrics_plot': False,\n",
      "                              'predictions_points': True,\n",
      "                              'predictions_raw': 'sample',\n",
      "                              'probability_plot': 'sample',\n",
      "                              'skip': False},\n",
      "                'LST_LSTCam': {'metrics_plot': False,\n",
      "                               'predictions_points': True,\n",
      "                               'predictions_raw': 'sample',\n",
      "                               'probability_plot': 'sample',\n",
      "                               'skip': False},\n",
      "                'MST_FlashCam': {'metrics_plot': False,\n",
      "                                 'predictions_points': True,\n",
      "                                 'predictions_raw': 'sample',\n",
      "                                 'probability_plot': 'sample',\n",
      "                                 'skip': False},\n",
      "                'SST1M_DigiCam': {'metrics_plot': False,\n",
      "                                  'predictions_points': True,\n",
      "                                  'predictions_raw': 'sample',\n",
      "                                  'probability_plot': 'sample',\n",
      "                                  'skip': False},\n",
      "                'seed': 1312},\n",
      " 'input_features': ['x',\n",
      "                    'y'],\n",
      " 'input_image_mask': True,\n",
      " 'input_image_mode': 'simple',\n",
      " 'min_observations': [0,\n",
      "                      0,\n",
      "                      0],\n",
<<<<<<< HEAD
      " 'model_name': 'BMO_DET_ALT_AZ_SIMPLE_200LV_alt',\n",
      " 'output_folder': '/home/bapanes/Research-Now/local/ml-valpo-local/umonna/dataset/ML1/train_output_models/',\n",
      " 'replace_folder_test': '/home/bapanes/Research-Now/local/ml-valpo-local/umonna/dataset/ML1/raw_data_generation_list/',\n",
=======
      " 'model_name': 'BMO_ALT_AZ',\n",
      " 'output_folder': '/mnt/d/sebas/Google '\n",
      "                  'Drive/Projects/gerumo/train/output',\n",
      " 'preprocessing': {'MultiCameraPipe': {'LST_LSTCam': {'charge_scaler_value': 36.852122955322265,\n",
      "                                                      'peak_scaler_path': 'ML1_LST_LSTCam_peak_scaler',\n",
      "                                                      'tailcuts_clean_params': {'boundary_thresh': 3,\n",
      "                                                                                'picture_thresh': 5}},\n",
      "                                       'MST_FlashCam': {'charge_scaler_value': 62.652400970459,\n",
      "                                                        'peak_scaler_path': 'ML1_MST_FlashCam_peak_scaler',\n",
      "                                                        'tailcuts_clean_params': {'boundary_thresh': 6,\n",
      "                                                                                  'picture_thresh': 14}},\n",
      "                                       'SST1M_DigiCam': {'charge_scaler_value': 39.223409118652356,\n",
      "                                                         'peak_scaler_path': 'ML1_SST1M_DigiCam_peak_scaler',\n",
      "                                                         'tailcuts_clean_params': {'boundary_thresh': 2,\n",
      "                                                                                   'picture_thresh': 4}}},\n",
      "                   'TelescopeFeaturesPipe': {'array_scaler_path': 'ML1_array-scaler'}},\n",
      " 'replace_folder_test': None,\n",
>>>>>>> master
      " 'target_domains': {'alt': [1.05,\n",
      "                            1.382],\n",
      "                    'az': [-0.52,\n",
      "                           0.52],\n",
      "                    'log10_mc_energy': [-2.351,\n",
      "                                        2.47]},\n",
      " 'target_mode': 'lineal',\n",
      " 'target_shapes': None,\n",
      " 'target_sigmas': None,\n",
<<<<<<< HEAD
      " 'targets': ['alt'],\n",
      " 'telescopes': {'MST_FlashCam': '/home/bapanes/Research-Now/local/ml-valpo-local/umonna/dataset/ML1/train_output_models/BMO_DET_UNIT_MST_SIMPLE_200LV_alt_MST_FlashCam_mse_e050_0.0079.h5'},\n",
      " 'test_events_csv': '/home/bapanes/Research-Now/local/ml-valpo-local/umonna/dataset/ML1/ML1_small_20_0/validation_events.csv',\n",
      " 'test_telescope_csv': '/home/bapanes/Research-Now/local/ml-valpo-local/umonna/dataset/ML1/ML1_small_20_0/validation_telescopes.csv',\n",
=======
      " 'targets': ['alt',\n",
      "             'az'],\n",
      " 'telescopes': {'MST_FlashCam': '/mnt/d/sebas/Google '\n",
      "                                'Drive/Projects/gerumo/train/output/BMO_UNIT_MST_MST_FlashCam_mae_e020_0.0746.h5'},\n",
      " 'test_events_csv': '/mnt/e/datasets/astronomical/cta/gerumo/validation_events.csv',\n",
      " 'test_telescope_csv': '/mnt/e/datasets/astronomical/cta/gerumo/validation_telescopes.csv',\n",
>>>>>>> master
      " 'version': 'ML1'}\n"
     ]
    }
   ],
   "source": [
    "pprint.pprint(config, width=1)"
   ]
  },
  {
   "cell_type": "markdown",
   "metadata": {
    "colab_type": "text",
    "id": "ElfiIdjOdS0O"
   },
   "source": [
    "## Load Dataset"
   ]
  },
  {
   "cell_type": "code",
<<<<<<< HEAD
   "execution_count": 7,
=======
   "execution_count": 45,
>>>>>>> master
   "metadata": {
    "colab": {},
    "colab_type": "code",
    "id": "gEdKeOuDdTWd"
   },
   "outputs": [],
   "source": [
    "# Prepare datasets\n",
    "test_dataset = load_dataset(test_events_csv, test_telescope_csv, replace_folder_test)\n",
    "test_dataset = aggregate_dataset(test_dataset, az=True, log10_mc_energy=True)\n",
    "test_dataset = filter_dataset(test_dataset, telescopes, min_observations, target_domains)\n",
    "\n",
    "\n",
    "# Preprocessing pipes\n",
    "## input preprocessing\n",
    "preprocess_input_pipes = {}\n",
    "if \"MultiCameraPipe\" in preprocessing_parameters:\n",
    "    cameras_parameters = preprocessing_parameters[\"MultiCameraPipe\"]\n",
    "    multicamera_pipe = MultiCameraPipe(version=version, \n",
    "                                       sst1m_camerapipe_or_parameters=cameras_parameters.get('SST1M_DigiCam', None),\n",
    "                                       mst_camerapipe_or_parameters=cameras_parameters.get('MST_FlashCam', None),\n",
    "                                       lst_camerapipe_or_parameters=cameras_parameters.get('LST_LSTCam', None))\n",
    "    preprocess_input_pipes['MultiCameraPipe'] = multicamera_pipe\n",
    "if \"TelescopeFeaturesPipe\" in preprocessing_parameters:\n",
    "    telescopefeatures_parameters = preprocessing_parameters[\"TelescopeFeaturesPipe\"]\n",
    "    telescope_features_pipe = TelescopeFeaturesPipe(telescope_type=None, version=version, **telescopefeatures_parameters)\n",
    "    preprocess_input_pipes['TelescopeFeaturesPipe'] = telescope_features_pipe\n",
    "\n",
    "## output preprocessing\n",
    "preprocess_output_pipes = {}"
   ]
  },
  {
   "cell_type": "markdown",
   "metadata": {
    "colab_type": "text",
    "id": "ULeR_OADduz7"
   },
   "source": [
    "## Data Generator"
   ]
  },
  {
   "cell_type": "code",
<<<<<<< HEAD
   "execution_count": 8,
=======
   "execution_count": 46,
>>>>>>> master
   "metadata": {
    "colab": {
     "base_uri": "https://localhost:8080/",
     "height": 191
    },
    "colab_type": "code",
    "executionInfo": {
     "elapsed": 150408,
     "status": "ok",
     "timestamp": 1591747492927,
     "user": {
      "displayName": "Sebastián Bórquez",
      "photoUrl": "https://lh3.googleusercontent.com/a-/AOh14GjxWwI8bJunba57PuyxAam6CPZ6TAt-b6ZBMCcbHw=s64",
      "userId": "11886092938956714392"
     },
     "user_tz": 240
    },
    "id": "LFbMopYLddpj",
    "outputId": "49d3586e-f3ad-4b99-de3f-afff470ebed2"
   },
   "outputs": [
    {
     "data": {
      "text/plain": [
<<<<<<< HEAD
       "['00346458e01c43c58eab',\n",
       " '007a0bc292114a01ae8f',\n",
       " '0094b48245b94403ade2',\n",
       " '017a0534300342358030',\n",
       " '019128051cf14648bffe',\n",
       " '01bb0dc9737249baa470',\n",
       " '0255f955be424a58a6e1',\n",
       " '03ca9627b1db48dbbef8',\n",
       " '04b7cbd4bc054915a1b7',\n",
       " '054c8251fb454b31a062']"
      ]
     },
     "execution_count": 8,
=======
       "['00c8fb2450d842229c6e',\n",
       " '00e5ef904c4642b0a352',\n",
       " '011837cb9b5b44d5b5ba',\n",
       " '011f6a90f62241898aa9',\n",
       " '01396bce3cdc45758efb',\n",
       " '013b244b1d6f440ab78a',\n",
       " '014ba874bf244284896b',\n",
       " '029c11be2c7d4aa99a0b',\n",
       " '036a9f53e8f14af3a974',\n",
       " '03a2c5d1d37f4a09b415',\n",
       " '04804553eee64a2583ce',\n",
       " '048f79f8f31346fcb901',\n",
       " '049e5741ee8e4495b4dc',\n",
       " '04b14827ae1e4038a7cd',\n",
       " '04b8ff363be540d899cb']"
      ]
     },
     "execution_count": 46,
>>>>>>> master
     "metadata": {},
     "output_type": "execute_result"
    }
   ],
   "source": [
    "# Generators\n",
    "batch_size = 64\n",
    "telescope_types = [t for t in telescopes.keys() if telescopes[t] is not None]\n",
    "test_generator = AssemblerGenerator(test_dataset, telescope_types,\n",
    "                                    batch_size, \n",
    "                                    input_image_mode=input_image_mode, \n",
    "                                    input_image_mask=input_image_mask, \n",
    "                                    input_features=input_features,\n",
    "                                    targets=targets,\n",
    "                                    target_mode=target_mode, \n",
    "                                    target_mode_config=target_mode_config,\n",
    "                                    preprocess_input_pipes=preprocess_input_pipes,\n",
    "                                    preprocess_output_pipes=preprocess_output_pipes,\n",
    "                                    include_event_id=True,\n",
    "                                    include_true_energy=True,\n",
    "                                    version=version\n",
    ")\n",
    "\n",
    "# Small test sample\n",
    "sample_size = 1000\n",
    "np.random.seed(seed)\n",
    "sample_events = np.random.choice(test_dataset.event_unique_id.unique(), sample_size)\n",
    "sample_dataset = test_dataset[test_dataset.event_unique_id.isin(sample_events)]\n",
    "\n",
    "sample_generator = AssemblerGenerator(sample_dataset, telescope_types,\n",
    "                                    batch_size, \n",
    "                                    input_image_mode=input_image_mode, \n",
    "                                    input_image_mask=input_image_mask, \n",
    "                                    input_features=input_features,\n",
    "                                    targets=targets,\n",
    "                                    target_mode=\"lineal\", \n",
    "                                    target_mode_config=target_mode_config,\n",
    "                                    preprocess_input_pipes=preprocess_input_pipes,\n",
    "                                    preprocess_output_pipes=preprocess_output_pipes,\n",
    "                                    include_event_id=True,\n",
    "                                    include_true_energy=True,\n",
    "                                    version=version\n",
    ")\n",
    "\n",
    "display_events = [i for i,df in sample_dataset.groupby(\"event_unique_id\") if set(df.type.unique()) == set(telescope_types)][:15]\n",
    "display_events"
   ]
  },
  {
   "cell_type": "code",
   "execution_count": 8,
   "metadata": {},
   "outputs": [
    {
     "data": {
      "text/html": [
       "<div>\n",
       "<style scoped>\n",
       "    .dataframe tbody tr th:only-of-type {\n",
       "        vertical-align: middle;\n",
       "    }\n",
       "\n",
       "    .dataframe tbody tr th {\n",
       "        vertical-align: top;\n",
       "    }\n",
       "\n",
       "    .dataframe thead th {\n",
       "        text-align: right;\n",
       "    }\n",
       "</style>\n",
       "<table border=\"1\" class=\"dataframe\">\n",
       "  <thead>\n",
       "    <tr style=\"text-align: right;\">\n",
       "      <th></th>\n",
       "      <th>event_unique_id</th>\n",
       "      <th>event_id</th>\n",
       "      <th>source</th>\n",
       "      <th>folder</th>\n",
       "      <th>core_x</th>\n",
       "      <th>core_y</th>\n",
       "      <th>h_first_int</th>\n",
       "      <th>alt</th>\n",
       "      <th>az</th>\n",
       "      <th>mc_energy</th>\n",
       "      <th>telescope_id</th>\n",
       "      <th>type</th>\n",
       "      <th>x</th>\n",
       "      <th>y</th>\n",
       "      <th>z</th>\n",
       "      <th>observation_indice</th>\n",
       "      <th>log10_mc_energy</th>\n",
       "      <th>hdf5_filepath</th>\n",
       "    </tr>\n",
       "  </thead>\n",
       "  <tbody>\n",
       "    <tr>\n",
       "      <th>0</th>\n",
       "      <td>2fc8f571d79d4966899f</td>\n",
       "      <td>1002919</td>\n",
       "      <td>gamma_20deg_0deg_srun9049-18670___cta-prod3_de...</td>\n",
       "      <td>/home/bapanes/Research-Now/local/ml-valpo-loca...</td>\n",
       "      <td>-634.794678</td>\n",
       "      <td>-208.913361</td>\n",
       "      <td>16697.128906</td>\n",
       "      <td>1.198666</td>\n",
       "      <td>-0.076937</td>\n",
       "      <td>0.177663</td>\n",
       "      <td>29</td>\n",
       "      <td>MST_FlashCam</td>\n",
       "      <td>-582.169983</td>\n",
       "      <td>0.000000</td>\n",
       "      <td>10.0</td>\n",
       "      <td>1942</td>\n",
       "      <td>-0.750404</td>\n",
       "      <td>/home/bapanes/Research-Now/local/ml-valpo-loca...</td>\n",
       "    </tr>\n",
       "    <tr>\n",
       "      <th>3</th>\n",
       "      <td>2cec0c76a6ba4981b654</td>\n",
       "      <td>1016718</td>\n",
       "      <td>gamma_20deg_0deg_srun9049-18670___cta-prod3_de...</td>\n",
       "      <td>/home/bapanes/Research-Now/local/ml-valpo-loca...</td>\n",
       "      <td>698.125183</td>\n",
       "      <td>144.255447</td>\n",
       "      <td>24183.134766</td>\n",
       "      <td>1.206322</td>\n",
       "      <td>-0.032040</td>\n",
       "      <td>0.575362</td>\n",
       "      <td>26</td>\n",
       "      <td>MST_FlashCam</td>\n",
       "      <td>582.169983</td>\n",
       "      <td>0.000000</td>\n",
       "      <td>10.0</td>\n",
       "      <td>1943</td>\n",
       "      <td>-0.240059</td>\n",
       "      <td>/home/bapanes/Research-Now/local/ml-valpo-loca...</td>\n",
       "    </tr>\n",
       "    <tr>\n",
       "      <th>19</th>\n",
       "      <td>d9a2cf3965154bb28888</td>\n",
       "      <td>1136405</td>\n",
       "      <td>gamma_20deg_0deg_srun9049-18670___cta-prod3_de...</td>\n",
       "      <td>/home/bapanes/Research-Now/local/ml-valpo-loca...</td>\n",
       "      <td>-141.223877</td>\n",
       "      <td>-257.423248</td>\n",
       "      <td>20221.152344</td>\n",
       "      <td>1.272948</td>\n",
       "      <td>0.067920</td>\n",
       "      <td>0.202715</td>\n",
       "      <td>28</td>\n",
       "      <td>MST_FlashCam</td>\n",
       "      <td>-291.084991</td>\n",
       "      <td>-450.154999</td>\n",
       "      <td>10.0</td>\n",
       "      <td>1981</td>\n",
       "      <td>-0.693114</td>\n",
       "      <td>/home/bapanes/Research-Now/local/ml-valpo-loca...</td>\n",
       "    </tr>\n",
       "    <tr>\n",
       "      <th>20</th>\n",
       "      <td>d9a2cf3965154bb28888</td>\n",
       "      <td>1136405</td>\n",
       "      <td>gamma_20deg_0deg_srun9049-18670___cta-prod3_de...</td>\n",
       "      <td>/home/bapanes/Research-Now/local/ml-valpo-loca...</td>\n",
       "      <td>-141.223877</td>\n",
       "      <td>-257.423248</td>\n",
       "      <td>20221.152344</td>\n",
       "      <td>1.272948</td>\n",
       "      <td>0.067920</td>\n",
       "      <td>0.202715</td>\n",
       "      <td>23</td>\n",
       "      <td>MST_FlashCam</td>\n",
       "      <td>-315.468018</td>\n",
       "      <td>-162.621002</td>\n",
       "      <td>10.0</td>\n",
       "      <td>1980</td>\n",
       "      <td>-0.693114</td>\n",
       "      <td>/home/bapanes/Research-Now/local/ml-valpo-loca...</td>\n",
       "    </tr>\n",
       "    <tr>\n",
       "      <th>21</th>\n",
       "      <td>d9a2cf3965154bb28888</td>\n",
       "      <td>1136405</td>\n",
       "      <td>gamma_20deg_0deg_srun9049-18670___cta-prod3_de...</td>\n",
       "      <td>/home/bapanes/Research-Now/local/ml-valpo-loca...</td>\n",
       "      <td>-141.223877</td>\n",
       "      <td>-257.423248</td>\n",
       "      <td>20221.152344</td>\n",
       "      <td>1.272948</td>\n",
       "      <td>0.067920</td>\n",
       "      <td>0.202715</td>\n",
       "      <td>19</td>\n",
       "      <td>MST_FlashCam</td>\n",
       "      <td>0.000000</td>\n",
       "      <td>-325.242004</td>\n",
       "      <td>10.0</td>\n",
       "      <td>1979</td>\n",
       "      <td>-0.693114</td>\n",
       "      <td>/home/bapanes/Research-Now/local/ml-valpo-loca...</td>\n",
       "    </tr>\n",
       "    <tr>\n",
       "      <th>...</th>\n",
       "      <td>...</td>\n",
       "      <td>...</td>\n",
       "      <td>...</td>\n",
       "      <td>...</td>\n",
       "      <td>...</td>\n",
       "      <td>...</td>\n",
       "      <td>...</td>\n",
       "      <td>...</td>\n",
       "      <td>...</td>\n",
       "      <td>...</td>\n",
       "      <td>...</td>\n",
       "      <td>...</td>\n",
       "      <td>...</td>\n",
       "      <td>...</td>\n",
       "      <td>...</td>\n",
       "      <td>...</td>\n",
       "      <td>...</td>\n",
       "      <td>...</td>\n",
       "    </tr>\n",
       "    <tr>\n",
       "      <th>8859</th>\n",
       "      <td>c23fc737c95d4255a163</td>\n",
       "      <td>817609</td>\n",
       "      <td>gamma_20deg_0deg_srun958-4920___cta-prod3_dese...</td>\n",
       "      <td>/home/bapanes/Research-Now/local/ml-valpo-loca...</td>\n",
       "      <td>-150.576355</td>\n",
       "      <td>264.733612</td>\n",
       "      <td>34544.414062</td>\n",
       "      <td>1.206226</td>\n",
       "      <td>0.117063</td>\n",
       "      <td>0.197083</td>\n",
       "      <td>15</td>\n",
       "      <td>MST_FlashCam</td>\n",
       "      <td>-154.205002</td>\n",
       "      <td>238.473999</td>\n",
       "      <td>10.0</td>\n",
       "      <td>712</td>\n",
       "      <td>-0.705350</td>\n",
       "      <td>/home/bapanes/Research-Now/local/ml-valpo-loca...</td>\n",
       "    </tr>\n",
       "    <tr>\n",
       "      <th>8860</th>\n",
       "      <td>c23fc737c95d4255a163</td>\n",
       "      <td>817609</td>\n",
       "      <td>gamma_20deg_0deg_srun958-4920___cta-prod3_dese...</td>\n",
       "      <td>/home/bapanes/Research-Now/local/ml-valpo-loca...</td>\n",
       "      <td>-150.576355</td>\n",
       "      <td>264.733612</td>\n",
       "      <td>34544.414062</td>\n",
       "      <td>1.206226</td>\n",
       "      <td>0.117063</td>\n",
       "      <td>0.197083</td>\n",
       "      <td>18</td>\n",
       "      <td>MST_FlashCam</td>\n",
       "      <td>0.000000</td>\n",
       "      <td>325.242004</td>\n",
       "      <td>10.0</td>\n",
       "      <td>713</td>\n",
       "      <td>-0.705350</td>\n",
       "      <td>/home/bapanes/Research-Now/local/ml-valpo-loca...</td>\n",
       "    </tr>\n",
       "    <tr>\n",
       "      <th>8861</th>\n",
       "      <td>c23fc737c95d4255a163</td>\n",
       "      <td>817609</td>\n",
       "      <td>gamma_20deg_0deg_srun958-4920___cta-prod3_dese...</td>\n",
       "      <td>/home/bapanes/Research-Now/local/ml-valpo-loca...</td>\n",
       "      <td>-150.576355</td>\n",
       "      <td>264.733612</td>\n",
       "      <td>34544.414062</td>\n",
       "      <td>1.206226</td>\n",
       "      <td>0.117063</td>\n",
       "      <td>0.197083</td>\n",
       "      <td>27</td>\n",
       "      <td>MST_FlashCam</td>\n",
       "      <td>-291.084991</td>\n",
       "      <td>450.154999</td>\n",
       "      <td>10.0</td>\n",
       "      <td>714</td>\n",
       "      <td>-0.705350</td>\n",
       "      <td>/home/bapanes/Research-Now/local/ml-valpo-loca...</td>\n",
       "    </tr>\n",
       "    <tr>\n",
       "      <th>8862</th>\n",
       "      <td>2e6e955d9d6d46ee9cb5</td>\n",
       "      <td>831801</td>\n",
       "      <td>gamma_20deg_0deg_srun958-4920___cta-prod3_dese...</td>\n",
       "      <td>/home/bapanes/Research-Now/local/ml-valpo-loca...</td>\n",
       "      <td>240.335892</td>\n",
       "      <td>401.236328</td>\n",
       "      <td>40149.074219</td>\n",
       "      <td>1.204889</td>\n",
       "      <td>-0.153745</td>\n",
       "      <td>0.800393</td>\n",
       "      <td>18</td>\n",
       "      <td>MST_FlashCam</td>\n",
       "      <td>0.000000</td>\n",
       "      <td>325.242004</td>\n",
       "      <td>10.0</td>\n",
       "      <td>715</td>\n",
       "      <td>-0.096697</td>\n",
       "      <td>/home/bapanes/Research-Now/local/ml-valpo-loca...</td>\n",
       "    </tr>\n",
       "    <tr>\n",
       "      <th>8863</th>\n",
       "      <td>2e6e955d9d6d46ee9cb5</td>\n",
       "      <td>831801</td>\n",
       "      <td>gamma_20deg_0deg_srun958-4920___cta-prod3_dese...</td>\n",
       "      <td>/home/bapanes/Research-Now/local/ml-valpo-loca...</td>\n",
       "      <td>240.335892</td>\n",
       "      <td>401.236328</td>\n",
       "      <td>40149.074219</td>\n",
       "      <td>1.204889</td>\n",
       "      <td>-0.153745</td>\n",
       "      <td>0.800393</td>\n",
       "      <td>24</td>\n",
       "      <td>MST_FlashCam</td>\n",
       "      <td>291.084991</td>\n",
       "      <td>450.154999</td>\n",
       "      <td>10.0</td>\n",
       "      <td>716</td>\n",
       "      <td>-0.096697</td>\n",
       "      <td>/home/bapanes/Research-Now/local/ml-valpo-loca...</td>\n",
       "    </tr>\n",
       "  </tbody>\n",
       "</table>\n",
       "<p>2367 rows × 18 columns</p>\n",
       "</div>"
      ],
      "text/plain": [
       "           event_unique_id  event_id  \\\n",
       "0     2fc8f571d79d4966899f   1002919   \n",
       "3     2cec0c76a6ba4981b654   1016718   \n",
       "19    d9a2cf3965154bb28888   1136405   \n",
       "20    d9a2cf3965154bb28888   1136405   \n",
       "21    d9a2cf3965154bb28888   1136405   \n",
       "...                    ...       ...   \n",
       "8859  c23fc737c95d4255a163    817609   \n",
       "8860  c23fc737c95d4255a163    817609   \n",
       "8861  c23fc737c95d4255a163    817609   \n",
       "8862  2e6e955d9d6d46ee9cb5    831801   \n",
       "8863  2e6e955d9d6d46ee9cb5    831801   \n",
       "\n",
       "                                                 source  \\\n",
       "0     gamma_20deg_0deg_srun9049-18670___cta-prod3_de...   \n",
       "3     gamma_20deg_0deg_srun9049-18670___cta-prod3_de...   \n",
       "19    gamma_20deg_0deg_srun9049-18670___cta-prod3_de...   \n",
       "20    gamma_20deg_0deg_srun9049-18670___cta-prod3_de...   \n",
       "21    gamma_20deg_0deg_srun9049-18670___cta-prod3_de...   \n",
       "...                                                 ...   \n",
       "8859  gamma_20deg_0deg_srun958-4920___cta-prod3_dese...   \n",
       "8860  gamma_20deg_0deg_srun958-4920___cta-prod3_dese...   \n",
       "8861  gamma_20deg_0deg_srun958-4920___cta-prod3_dese...   \n",
       "8862  gamma_20deg_0deg_srun958-4920___cta-prod3_dese...   \n",
       "8863  gamma_20deg_0deg_srun958-4920___cta-prod3_dese...   \n",
       "\n",
       "                                                 folder      core_x  \\\n",
       "0     /home/bapanes/Research-Now/local/ml-valpo-loca... -634.794678   \n",
       "3     /home/bapanes/Research-Now/local/ml-valpo-loca...  698.125183   \n",
       "19    /home/bapanes/Research-Now/local/ml-valpo-loca... -141.223877   \n",
       "20    /home/bapanes/Research-Now/local/ml-valpo-loca... -141.223877   \n",
       "21    /home/bapanes/Research-Now/local/ml-valpo-loca... -141.223877   \n",
       "...                                                 ...         ...   \n",
       "8859  /home/bapanes/Research-Now/local/ml-valpo-loca... -150.576355   \n",
       "8860  /home/bapanes/Research-Now/local/ml-valpo-loca... -150.576355   \n",
       "8861  /home/bapanes/Research-Now/local/ml-valpo-loca... -150.576355   \n",
       "8862  /home/bapanes/Research-Now/local/ml-valpo-loca...  240.335892   \n",
       "8863  /home/bapanes/Research-Now/local/ml-valpo-loca...  240.335892   \n",
       "\n",
       "          core_y   h_first_int       alt        az  mc_energy  telescope_id  \\\n",
       "0    -208.913361  16697.128906  1.198666 -0.076937   0.177663            29   \n",
       "3     144.255447  24183.134766  1.206322 -0.032040   0.575362            26   \n",
       "19   -257.423248  20221.152344  1.272948  0.067920   0.202715            28   \n",
       "20   -257.423248  20221.152344  1.272948  0.067920   0.202715            23   \n",
       "21   -257.423248  20221.152344  1.272948  0.067920   0.202715            19   \n",
       "...          ...           ...       ...       ...        ...           ...   \n",
       "8859  264.733612  34544.414062  1.206226  0.117063   0.197083            15   \n",
       "8860  264.733612  34544.414062  1.206226  0.117063   0.197083            18   \n",
       "8861  264.733612  34544.414062  1.206226  0.117063   0.197083            27   \n",
       "8862  401.236328  40149.074219  1.204889 -0.153745   0.800393            18   \n",
       "8863  401.236328  40149.074219  1.204889 -0.153745   0.800393            24   \n",
       "\n",
       "              type           x           y     z  observation_indice  \\\n",
       "0     MST_FlashCam -582.169983    0.000000  10.0                1942   \n",
       "3     MST_FlashCam  582.169983    0.000000  10.0                1943   \n",
       "19    MST_FlashCam -291.084991 -450.154999  10.0                1981   \n",
       "20    MST_FlashCam -315.468018 -162.621002  10.0                1980   \n",
       "21    MST_FlashCam    0.000000 -325.242004  10.0                1979   \n",
       "...            ...         ...         ...   ...                 ...   \n",
       "8859  MST_FlashCam -154.205002  238.473999  10.0                 712   \n",
       "8860  MST_FlashCam    0.000000  325.242004  10.0                 713   \n",
       "8861  MST_FlashCam -291.084991  450.154999  10.0                 714   \n",
       "8862  MST_FlashCam    0.000000  325.242004  10.0                 715   \n",
       "8863  MST_FlashCam  291.084991  450.154999  10.0                 716   \n",
       "\n",
       "      log10_mc_energy                                      hdf5_filepath  \n",
       "0           -0.750404  /home/bapanes/Research-Now/local/ml-valpo-loca...  \n",
       "3           -0.240059  /home/bapanes/Research-Now/local/ml-valpo-loca...  \n",
       "19          -0.693114  /home/bapanes/Research-Now/local/ml-valpo-loca...  \n",
       "20          -0.693114  /home/bapanes/Research-Now/local/ml-valpo-loca...  \n",
       "21          -0.693114  /home/bapanes/Research-Now/local/ml-valpo-loca...  \n",
       "...               ...                                                ...  \n",
       "8859        -0.705350  /home/bapanes/Research-Now/local/ml-valpo-loca...  \n",
       "8860        -0.705350  /home/bapanes/Research-Now/local/ml-valpo-loca...  \n",
       "8861        -0.705350  /home/bapanes/Research-Now/local/ml-valpo-loca...  \n",
       "8862        -0.096697  /home/bapanes/Research-Now/local/ml-valpo-loca...  \n",
       "8863        -0.096697  /home/bapanes/Research-Now/local/ml-valpo-loca...  \n",
       "\n",
       "[2367 rows x 18 columns]"
      ]
     },
     "execution_count": 8,
     "metadata": {},
     "output_type": "execute_result"
    }
   ],
   "source": [
    "sample_dataset"
   ]
  },
  {
   "cell_type": "code",
   "execution_count": 9,
   "metadata": {},
   "outputs": [
    {
     "data": {
      "text/plain": [
       "1.2210360629980606"
      ]
     },
     "execution_count": 9,
     "metadata": {},
     "output_type": "execute_result"
    }
   ],
   "source": [
    "sample_dataset[\"alt\"].mean()"
   ]
  },
  {
   "cell_type": "code",
   "execution_count": 10,
   "metadata": {},
   "outputs": [
    {
     "data": {
      "text/plain": [
       "-0.0005256555515535558"
      ]
     },
     "execution_count": 10,
     "metadata": {},
     "output_type": "execute_result"
    }
   ],
   "source": [
    "sample_dataset[\"az\"].mean()"
   ]
  },
  {
   "cell_type": "code",
   "execution_count": 11,
   "metadata": {},
   "outputs": [
    {
     "data": {
      "text/plain": [
       "array([-0.07693702, -0.03203994,  0.06791988, -0.07668621,  0.0018951 ,\n",
       "        0.128544  ,  0.12355247,  0.00524178, -0.10261137, -0.01888067,\n",
       "       -0.22016985,  0.15481845,  0.02035704,  0.11942855,  0.10523191,\n",
       "       -0.01677829,  0.08169714,  0.12803999,  0.02187792,  0.01701513,\n",
       "        0.1454629 , -0.09809906,  0.05590597, -0.02733022,  0.18236604,\n",
       "       -0.07546932,  0.01751033, -0.06870348,  0.15147009,  0.1618115 ,\n",
       "       -0.14824039,  0.10049167, -0.12226516, -0.13013345, -0.02894146,\n",
       "       -0.30638582,  0.00775114, -0.05064136,  0.21114054,  0.1783208 ,\n",
       "       -0.04314739,  0.12768236, -0.05478174, -0.14303047,  0.13443151,\n",
       "        0.02265421, -0.0863064 ,  0.1652011 ,  0.04298583,  0.08771935,\n",
       "       -0.33412058, -0.03533203,  0.2709581 , -0.1019457 ,  0.01197472,\n",
       "        0.00226465,  0.24744907, -0.05131466,  0.08951846, -0.03120405,\n",
       "        0.174714  , -0.08889229, -0.00919277,  0.118817  ,  0.06259957,\n",
       "       -0.1479953 ,  0.1036748 , -0.07411987, -0.07972986,  0.24640861,\n",
       "       -0.20420105,  0.03490201,  0.02878705,  0.18304482, -0.14611084,\n",
       "        0.18651977, -0.02694112,  0.03303448, -0.06050522, -0.10017616,\n",
       "        0.11638585, -0.06011278,  0.0510625 , -0.03908664,  0.14821449,\n",
       "       -0.12326509, -0.25988418,  0.07952872, -0.04964573, -0.01024181,\n",
       "       -0.0281027 ,  0.12451592, -0.12366468,  0.2559537 ,  0.1508421 ,\n",
       "       -0.09052831,  0.22856465,  0.07058898,  0.04103604, -0.1133464 ,\n",
       "       -0.03643066, -0.14302522, -0.15874178,  0.16410223, -0.1344865 ,\n",
       "       -0.14824707, -0.13049061, -0.06055767, -0.15526992,  0.12644449,\n",
       "       -0.08023054, -0.20045311, -0.17990333,  0.21465197, -0.00531656,\n",
       "       -0.05078584, -0.15300018, -0.08262426,  0.0259451 , -0.17721492,\n",
       "        0.01898876,  0.23701635,  0.04289022, -0.21862823,  0.15796056,\n",
       "       -0.15961391, -0.11667234,  0.04307953,  0.13071743, -0.06163389,\n",
       "        0.09645906,  0.13633171, -0.1970771 ,  0.24039736, -0.03603012,\n",
       "        0.1101729 ,  0.08734503,  0.19372764, -0.12772924,  0.13664165,\n",
       "        0.00562254, -0.14198763, -0.12113649, -0.10380489,  0.03029624,\n",
       "       -0.12563736, -0.16273815, -0.00266773,  0.02046529, -0.14915401,\n",
       "       -0.08902342,  0.12228122, -0.33920604, -0.11289627, -0.07044775,\n",
       "       -0.17459852,  0.04661098,  0.02484766,  0.01684371, -0.02148229,\n",
       "       -0.11100942,  0.06341091, -0.21237594,  0.12086812,  0.05919114,\n",
       "        0.04482451, -0.19412691,  0.12989631,  0.09492078, -0.09922535,\n",
       "       -0.00470192, -0.00980789,  0.32834473,  0.09895936,  0.31046358,\n",
       "        0.00632993,  0.1609408 , -0.15095979, -0.03107101,  0.14731637,\n",
       "       -0.34755832,  0.0972046 , -0.21723825,  0.18589965, -0.17046911,\n",
       "        0.05419341, -0.16464216, -0.1251691 ,  0.07148185, -0.08938915,\n",
       "        0.03060594, -0.09544641,  0.10229769, -0.16828806,  0.04198376,\n",
       "        0.00102988,  0.26260152, -0.26520521, -0.11009485, -0.3619755 ,\n",
       "       -0.02369577,  0.17161646,  0.0677959 ,  0.19439426, -0.11948568,\n",
       "       -0.00570327,  0.26718822, -0.0554331 ,  0.11398807, -0.12490493,\n",
       "       -0.0873316 , -0.28690082,  0.14952269,  0.30253664,  0.12497941,\n",
       "        0.11109176,  0.09853378, -0.11180526, -0.22878391,  0.05021397,\n",
       "        0.04985014,  0.10980263,  0.02681223,  0.12706009, -0.01744491,\n",
       "       -0.05429727, -0.01916677,  0.19937006, -0.19333774,  0.02511516,\n",
       "       -0.0926593 ,  0.16144314, -0.04741937, -0.03084404, -0.25544864,\n",
       "        0.05964294, -0.04377777,  0.10768452, -0.02345401,  0.02788845,\n",
       "        0.04409042, -0.14863235, -0.12696582,  0.02956429,  0.09405056,\n",
       "        0.16011444, -0.01178104,  0.15937367,  0.24460569, -0.05783397,\n",
       "       -0.17049057, -0.18855411, -0.21428329,  0.11381832,  0.0712947 ,\n",
       "        0.08388725,  0.05019084,  0.15470281,  0.02778807, -0.13986522,\n",
       "       -0.11136705, -0.05206091,  0.14214984,  0.04494587,  0.11310354,\n",
       "        0.01401797,  0.12214008,  0.06586352, -0.0620721 ,  0.059894  ,\n",
       "        0.14616123,  0.13184205,  0.05322138, -0.01039488, -0.00747902,\n",
       "       -0.0956834 , -0.20884926,  0.01888004, -0.16258127,  0.06698313,\n",
       "        0.01535097,  0.07739845, -0.02203113, -0.0110057 , -0.35086567,\n",
       "       -0.1040929 , -0.17256958, -0.03700048, -0.07497865,  0.06870714,\n",
       "       -0.19375784, -0.13112957, -0.05390436,  0.17896572,  0.17127958,\n",
       "       -0.00803644, -0.07753736, -0.10861618, -0.02574283, -0.01531822,\n",
       "       -0.04295427, -0.07134611, -0.05870516,  0.01948396, -0.03768999,\n",
       "        0.03628102, -0.03710348,  0.06182924,  0.10513535,  0.02580586,\n",
       "       -0.13626415,  0.01383081, -0.00444585, -0.1381715 ,  0.28131834,\n",
       "        0.20836416,  0.03809205, -0.10785896,  0.05457512, -0.00151521,\n",
       "        0.10236636,  0.03919736,  0.05925933, -0.15025407, -0.03487236,\n",
       "       -0.04643184, -0.11775953,  0.19327155, -0.17979652,  0.10059419,\n",
       "       -0.07910997,  0.08384696,  0.16911855, -0.0011738 ,  0.09302583,\n",
       "       -0.14402467, -0.04341823,  0.03026524, -0.25202543,  0.21296397,\n",
       "       -0.04954082, -0.02085287,  0.03747383, -0.14966757,  0.16180149,\n",
       "       -0.19673092, -0.03756601,  0.24053994,  0.10448685, -0.13227874,\n",
       "       -0.03895599, -0.10770256,  0.15662828,  0.11397114, -0.08033401,\n",
       "       -0.19321853, -0.28278333,  0.16373268,  0.06837216, -0.11602909,\n",
       "        0.20114365,  0.0740253 , -0.24429399,  0.47642866,  0.19334641,\n",
       "        0.08074036, -0.0264681 ,  0.21278158, -0.0807274 , -0.15217239,\n",
       "        0.0120205 , -0.18189603,  0.12065426,  0.11975041, -0.11257965,\n",
       "        0.0236713 , -0.03376133,  0.09087124,  0.02327672, -0.26742441,\n",
       "       -0.06365854,  0.2866067 , -0.0621894 ,  0.05382815,  0.13621178,\n",
       "       -0.19183189,  0.11648932, -0.14271576,  0.0591859 ,  0.04131309,\n",
       "       -0.00295431, -0.14996273,  0.1374599 , -0.09605724, -0.0135873 ,\n",
       "        0.09863749, -0.19150764,  0.02987972, -0.10740024,  0.01602546,\n",
       "        0.1871728 , -0.14587051,  0.15691677, -0.0920561 , -0.14018661,\n",
       "        0.22466555, -0.09650737,  0.36781517,  0.00848857, -0.10415394,\n",
       "       -0.12409813,  0.22331873, -0.13800651,  0.38643208,  0.19212809,\n",
       "       -0.09680254, -0.07876045,  0.08652845,  0.17931166, -0.12128717,\n",
       "       -0.06422884, -0.05734665, -0.07867128,  0.23845854, -0.07383711,\n",
       "        0.10390583,  0.19567242,  0.10475484,  0.04489151,  0.01203695,\n",
       "       -0.34470255,  0.06662479,  0.12437668,  0.02940789, -0.0825494 ,\n",
       "        0.1331729 ,  0.01546851,  0.11640373, -0.08667022,  0.11814871,\n",
       "        0.01084724,  0.05523983, -0.10434038, -0.21734602, -0.01716358,\n",
       "        0.04224745,  0.21488538, -0.18056328, -0.00496275,  0.1770052 ,\n",
       "       -0.12039787,  0.35278597, -0.0124057 , -0.21089489,  0.00141803,\n",
       "        0.05054012, -0.14582044,  0.08827248,  0.06169573,  0.02411333,\n",
       "        0.15898529, -0.1839512 ,  0.34012905, -0.06052906, -0.02296812,\n",
       "       -0.11155063, -0.30030042, -0.11486894,  0.21912733,  0.07361212,\n",
       "       -0.01136142,  0.2332758 ,  0.2414023 , -0.05519563,  0.15356293,\n",
       "        0.0698711 , -0.1357525 , -0.05279094,  0.0752584 ,  0.19671836,\n",
       "        0.02870146, -0.06502992, -0.18475801, -0.46748478,  0.12651744,\n",
       "       -0.06970436,  0.07610145,  0.12580433,  0.0854384 ,  0.11345401,\n",
       "        0.1393806 , -0.10077697,  0.07887688,  0.01780787, -0.14402134,\n",
       "       -0.04641468, -0.03236515, -0.06669933, -0.37461311,  0.01804176,\n",
       "       -0.07900554, -0.16537506,  0.06703678,  0.04746881, -0.2678445 ,\n",
       "        0.12132993, -0.04813224, -0.10494787, -0.12406093, -0.34553224,\n",
       "       -0.12400705,  0.03972713,  0.21694484, -0.05509979,  0.22464576,\n",
       "       -0.14226467, -0.28984338,  0.01228824, -0.07102758,  0.10845891,\n",
       "       -0.01471264, -0.1511243 , -0.0510071 ,  0.29639021, -0.0445841 ,\n",
       "       -0.20826179, -0.17688162,  0.15468207, -0.17624027, -0.14874679,\n",
       "       -0.09557516, -0.14291412,  0.07573238,  0.19518533, -0.20879108,\n",
       "       -0.11523611,  0.11801782,  0.09515491,  0.1092464 , -0.01399261,\n",
       "       -0.23820335,  0.13925496, -0.35192377,  0.08462611,  0.07567278,\n",
       "        0.17324105, -0.16377765,  0.05144516, -0.20178396, -0.06817657,\n",
       "       -0.07688743,  0.06507245, -0.07081253,  0.00864902,  0.09214345,\n",
       "       -0.08726246, -0.17779857,  0.01396933, -0.13449508,  0.1609396 ,\n",
       "        0.02312985,  0.05731455,  0.05286637,  0.0810155 , -0.06888229,\n",
       "        0.20577851, -0.05576593, -0.02541429, -0.38366205,  0.15063968,\n",
       "        0.23722377,  0.14580575,  0.14265361, -0.37281782, -0.08791954,\n",
       "       -0.1474765 ,  0.01059333, -0.1818412 , -0.0791691 , -0.04979784,\n",
       "        0.02626267, -0.14309484, -0.25845462,  0.10062972,  0.10764852,\n",
       "       -0.08293468,  0.41341057, -0.17086965,  0.00742951,  0.0217661 ,\n",
       "       -0.06874639,  0.13594356, -0.09757406,  0.01242963,  0.00919166,\n",
       "        0.0600392 , -0.11424667,  0.08958617, -0.18221885,  0.00229922,\n",
       "       -0.00468666, -0.11862022,  0.13994637, -0.1533745 , -0.02406675,\n",
       "        0.07510057,  0.21310344, -0.08740646,  0.10726038,  0.24590769,\n",
       "        0.14096084, -0.21277029,  0.17429247,  0.00844255,  0.12603512,\n",
       "       -0.18288118,  0.11706272, -0.15374548])"
      ]
     },
     "execution_count": 11,
     "metadata": {},
     "output_type": "execute_result"
    }
   ],
   "source": [
    "sample_dataset[\"az\"].unique()"
   ]
  },
  {
   "cell_type": "markdown",
   "metadata": {
    "colab_type": "text",
    "id": "9XGkI1t-eKO0"
   },
   "source": [
    "### Generator sample"
   ]
  },
  {
   "cell_type": "code",
<<<<<<< HEAD
   "execution_count": 12,
=======
   "execution_count": 47,
>>>>>>> master
   "metadata": {
    "colab": {
     "base_uri": "https://localhost:8080/",
     "height": 67,
     "referenced_widgets": [
      "d9effc8d2fdd40a3816cf420e87d0e16",
      "43a047f4344c41d29de317a987548025",
      "a4ce4d194fda46c1a392aab1fbdd687c",
      "9c2e635fa2c741978dea3e0a53a289be",
      "1fa6f738b3e4441c9fdfcefb3d3669a8",
      "01d981c98416459dbae5a7a3e0aa9e25",
      "8e31ca2da94942e7ba43d1eb753691de",
      "c0444bc14be844e1acb44eccba554bfc"
     ]
    },
    "colab_type": "code",
    "executionInfo": {
     "elapsed": 3017446,
     "status": "ok",
     "timestamp": 1591750391149,
     "user": {
      "displayName": "Sebastián Bórquez",
      "photoUrl": "https://lh3.googleusercontent.com/a-/AOh14GjxWwI8bJunba57PuyxAam6CPZ6TAt-b6ZBMCcbHw=s64",
      "userId": "11886092938956714392"
     },
     "user_tz": 240
    },
    "id": "HQ5qEhs9iC1d",
    "outputId": "83e3c8dd-e131-4c52-f6d6-2aa5aa046273"
   },
   "outputs": [
    {
     "data": {
      "application/vnd.jupyter.widget-view+json": {
<<<<<<< HEAD
       "model_id": "201582dde60545859e8c03dbc0e177c5",
=======
       "model_id": "2ba964f6494c468b9a545a66fe4e6305",
>>>>>>> master
       "version_major": 2,
       "version_minor": 0
      },
      "text/plain": [
<<<<<<< HEAD
       "HBox(children=(FloatProgress(value=0.0, max=11.0), HTML(value='')))"
=======
       "HBox(children=(FloatProgress(value=0.0, max=23.0), HTML(value='')))"
>>>>>>> master
      ]
     },
     "metadata": {},
     "output_type": "display_data"
    },
    {
     "name": "stdout",
     "output_type": "stream",
     "text": [
      "\n"
     ]
    }
   ],
   "source": [
    "# Debug: Check if test dataset is loadable\n",
    "all_ = []\n",
    "for i in tqdm(range(len(test_generator))):\n",
    "    _ = test_generator[i]\n",
    "    all_.append(_[1])\n",
    "# Debug: Check if sample dataset is loadable\n",
    "#for i in tqdm(range(len(sample_generator))):\n",
    "\n",
    "    #_ = sample_generator[i]"
   ]
  },
  {
   "cell_type": "code",
   "execution_count": 48,
   "metadata": {},
   "outputs": [
    {
     "data": {
      "text/plain": [
       "<matplotlib.collections.PolyCollection at 0x7f46e7b665d0>"
      ]
     },
     "execution_count": 48,
     "metadata": {},
     "output_type": "execute_result"
    },
    {
     "data": {
      "image/png": "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\n",
      "text/plain": [
       "<Figure size 432x288 with 1 Axes>"
      ]
     },
     "metadata": {
      "needs_background": "light"
     },
     "output_type": "display_data"
    }
   ],
   "source": [
    "import matplotlib.pyplot as plt\n",
    "\n",
    "ts = np.array(all_).reshape((-1, 2))\n",
    "\n",
    "plt.hexbin(ts[:,0], ts[:,1], gridsize=30)\n"
   ]
  },
  {
   "cell_type": "markdown",
   "metadata": {
    "colab_type": "text",
    "id": "WJQSNR4EBFRZ"
   },
   "source": [
    "## Load Models"
   ]
  },
  {
   "cell_type": "code",
<<<<<<< HEAD
   "execution_count": 13,
=======
   "execution_count": 49,
>>>>>>> master
   "metadata": {
    "colab": {
     "base_uri": "https://localhost:8080/",
     "height": 121
    },
    "colab_type": "code",
    "executionInfo": {
     "elapsed": 1380,
     "status": "ok",
     "timestamp": 1591750392595,
     "user": {
      "displayName": "Sebastián Bórquez",
      "photoUrl": "https://lh3.googleusercontent.com/a-/AOh14GjxWwI8bJunba57PuyxAam6CPZ6TAt-b6ZBMCcbHw=s64",
      "userId": "11886092938956714392"
     },
     "user_tz": 240
    },
    "id": "LVAKdX0YescG",
    "outputId": "4b03ac67-63aa-44db-a93e-58ed7e3bbc5c"
   },
   "outputs": [
    {
     "name": "stdout",
     "output_type": "stream",
     "text": [
<<<<<<< HEAD
      "{'MST_FlashCam': '/home/bapanes/Research-Now/local/ml-valpo-local/umonna/dataset/ML1/train_output_models/BMO_DET_UNIT_MST_MST_FlashCam_mse_e001_0.1518.h5'}\n"
=======
      "{'MST_FlashCam': '/mnt/d/sebas/Google '\n",
      "                 'Drive/Projects/gerumo/train/output/BMO_UNIT_MST_MST_FlashCam_mae_e020_0.0746.h5'}\n"
>>>>>>> master
     ]
    }
   ],
   "source": [
    "sst = telescopes.get(\"SST1M_DigiCam\", None)\n",
    "mst = telescopes.get(\"MST_FlashCam\", None)\n",
    "lst = telescopes.get(\"LST_LSTCam\", None)\n",
    "pprint.pprint(telescopes, width=1)"
   ]
  },
  {
   "cell_type": "code",
<<<<<<< HEAD
   "execution_count": 14,
=======
   "execution_count": 50,
>>>>>>> master
   "metadata": {
    "colab": {
     "base_uri": "https://localhost:8080/",
     "height": 141
    },
    "colab_type": "code",
    "executionInfo": {
     "elapsed": 33511,
     "status": "ok",
     "timestamp": 1591750424765,
     "user": {
      "displayName": "Sebastián Bórquez",
      "photoUrl": "https://lh3.googleusercontent.com/a-/AOh14GjxWwI8bJunba57PuyxAam6CPZ6TAt-b6ZBMCcbHw=s64",
      "userId": "11886092938956714392"
     },
     "user_tz": 240
    },
    "id": "5cA1OttcBFRd",
    "outputId": "b784888d-8194-471f-dad0-2119c8948101"
   },
   "outputs": [
    {
     "name": "stdout",
     "output_type": "stream",
     "text": [
<<<<<<< HEAD
      "WARNING:tensorflow:AutoGraph could not transform <bound method HexConvLayer.call of <gerumo.models.layers.HexConvLayer object at 0x7f3383a53490>> and will run it as-is.\n",
      "Cause: mangled names are not yet supported\n",
      "To silence this warning, decorate the function with @tf.autograph.experimental.do_not_convert\n",
      "WARNING: AutoGraph could not transform <bound method HexConvLayer.call of <gerumo.models.layers.HexConvLayer object at 0x7f3383a53490>> and will run it as-is.\n",
      "Cause: mangled names are not yet supported\n",
      "To silence this warning, decorate the function with @tf.autograph.experimental.do_not_convert\n"
=======
      "WARNING:tensorflow:AutoGraph could not transform <bound method HexConvLayer.call of <gerumo.models.layers.HexConvLayer object at 0x7f46bef80ed0>> and will run it as-is.\n",
      "Please report this to the TensorFlow team. When filing the bug, set the verbosity to 10 (on Linux, `export AUTOGRAPH_VERBOSITY=10`) and attach the full output.\n",
      "Cause: Mangled names are not yet supported by AutoGraph\n",
      "WARNING: AutoGraph could not transform <bound method HexConvLayer.call of <gerumo.models.layers.HexConvLayer object at 0x7f46bef80ed0>> and will run it as-is.\n",
      "Please report this to the TensorFlow team. When filing the bug, set the verbosity to 10 (on Linux, `export AUTOGRAPH_VERBOSITY=10`) and attach the full output.\n",
      "Cause: Mangled names are not yet supported by AutoGraph\n"
>>>>>>> master
     ]
    }
   ],
   "source": [
    "#assembler_constructor is calling the model.py class assembler routine\n",
    "assembler = assembler_constructor(sst1m_model_or_path=sst,\n",
    "                mst_model_or_path=mst,\n",
    "                lst_model_or_path=lst,\n",
    "                targets=targets, \n",
    "                target_shapes=target_mode_config[\"target_shapes\"],\n",
    "                target_domains=target_mode_config[\"target_domains\"],\n",
    "                target_resolutions=target_mode_config[\"target_resolutions\"],\n",
    ")\n",
    "mode = assembler.mode"
   ]
  },
  {
   "cell_type": "markdown",
   "metadata": {
    "colab_type": "text",
    "id": "y7W6ZKniBFRf"
   },
   "source": [
    "## Model Unit Predictions"
   ]
  },
  {
   "cell_type": "code",
<<<<<<< HEAD
   "execution_count": 15,
=======
   "execution_count": 51,
>>>>>>> master
   "metadata": {
    "colab": {},
    "colab_type": "code",
    "id": "Mnr8N4lZBFRf"
   },
   "outputs": [],
   "source": [
    "target_domains_ = target_domains if isinstance(target_domains, dict) else target_domains_\n",
    "targets = assembler.targets\n",
    "models_results = {}"
   ]
  },
  {
   "cell_type": "code",
<<<<<<< HEAD
   "execution_count": 16,
   "metadata": {},
   "outputs": [],
   "source": [
    "sample_dataset = sample_dataset.iloc[0:2,:]"
   ]
  },
  {
   "cell_type": "code",
   "execution_count": 17,
   "metadata": {},
   "outputs": [
    {
     "data": {
      "text/html": [
       "<div>\n",
       "<style scoped>\n",
       "    .dataframe tbody tr th:only-of-type {\n",
       "        vertical-align: middle;\n",
       "    }\n",
       "\n",
       "    .dataframe tbody tr th {\n",
       "        vertical-align: top;\n",
       "    }\n",
       "\n",
       "    .dataframe thead th {\n",
       "        text-align: right;\n",
       "    }\n",
       "</style>\n",
       "<table border=\"1\" class=\"dataframe\">\n",
       "  <thead>\n",
       "    <tr style=\"text-align: right;\">\n",
       "      <th></th>\n",
       "      <th>event_unique_id</th>\n",
       "      <th>event_id</th>\n",
       "      <th>source</th>\n",
       "      <th>folder</th>\n",
       "      <th>core_x</th>\n",
       "      <th>core_y</th>\n",
       "      <th>h_first_int</th>\n",
       "      <th>alt</th>\n",
       "      <th>az</th>\n",
       "      <th>mc_energy</th>\n",
       "      <th>telescope_id</th>\n",
       "      <th>type</th>\n",
       "      <th>x</th>\n",
       "      <th>y</th>\n",
       "      <th>z</th>\n",
       "      <th>observation_indice</th>\n",
       "      <th>log10_mc_energy</th>\n",
       "      <th>hdf5_filepath</th>\n",
       "    </tr>\n",
       "  </thead>\n",
       "  <tbody>\n",
       "    <tr>\n",
       "      <th>0</th>\n",
       "      <td>2fc8f571d79d4966899f</td>\n",
       "      <td>1002919</td>\n",
       "      <td>gamma_20deg_0deg_srun9049-18670___cta-prod3_de...</td>\n",
       "      <td>/home/bapanes/Research-Now/local/ml-valpo-loca...</td>\n",
       "      <td>-634.794678</td>\n",
       "      <td>-208.913361</td>\n",
       "      <td>16697.128906</td>\n",
       "      <td>1.198666</td>\n",
       "      <td>-0.076937</td>\n",
       "      <td>0.177663</td>\n",
       "      <td>29</td>\n",
       "      <td>MST_FlashCam</td>\n",
       "      <td>-582.169983</td>\n",
       "      <td>0.0</td>\n",
       "      <td>10.0</td>\n",
       "      <td>1942</td>\n",
       "      <td>-0.750404</td>\n",
       "      <td>/home/bapanes/Research-Now/local/ml-valpo-loca...</td>\n",
       "    </tr>\n",
       "    <tr>\n",
       "      <th>3</th>\n",
       "      <td>2cec0c76a6ba4981b654</td>\n",
       "      <td>1016718</td>\n",
       "      <td>gamma_20deg_0deg_srun9049-18670___cta-prod3_de...</td>\n",
       "      <td>/home/bapanes/Research-Now/local/ml-valpo-loca...</td>\n",
       "      <td>698.125183</td>\n",
       "      <td>144.255447</td>\n",
       "      <td>24183.134766</td>\n",
       "      <td>1.206322</td>\n",
       "      <td>-0.032040</td>\n",
       "      <td>0.575362</td>\n",
       "      <td>26</td>\n",
       "      <td>MST_FlashCam</td>\n",
       "      <td>582.169983</td>\n",
       "      <td>0.0</td>\n",
       "      <td>10.0</td>\n",
       "      <td>1943</td>\n",
       "      <td>-0.240059</td>\n",
       "      <td>/home/bapanes/Research-Now/local/ml-valpo-loca...</td>\n",
       "    </tr>\n",
       "  </tbody>\n",
       "</table>\n",
       "</div>"
      ],
      "text/plain": [
       "        event_unique_id  event_id  \\\n",
       "0  2fc8f571d79d4966899f   1002919   \n",
       "3  2cec0c76a6ba4981b654   1016718   \n",
       "\n",
       "                                              source  \\\n",
       "0  gamma_20deg_0deg_srun9049-18670___cta-prod3_de...   \n",
       "3  gamma_20deg_0deg_srun9049-18670___cta-prod3_de...   \n",
       "\n",
       "                                              folder      core_x      core_y  \\\n",
       "0  /home/bapanes/Research-Now/local/ml-valpo-loca... -634.794678 -208.913361   \n",
       "3  /home/bapanes/Research-Now/local/ml-valpo-loca...  698.125183  144.255447   \n",
       "\n",
       "    h_first_int       alt        az  mc_energy  telescope_id          type  \\\n",
       "0  16697.128906  1.198666 -0.076937   0.177663            29  MST_FlashCam   \n",
       "3  24183.134766  1.206322 -0.032040   0.575362            26  MST_FlashCam   \n",
       "\n",
       "            x    y     z  observation_indice  log10_mc_energy  \\\n",
       "0 -582.169983  0.0  10.0                1942        -0.750404   \n",
       "3  582.169983  0.0  10.0                1943        -0.240059   \n",
       "\n",
       "                                       hdf5_filepath  \n",
       "0  /home/bapanes/Research-Now/local/ml-valpo-loca...  \n",
       "3  /home/bapanes/Research-Now/local/ml-valpo-loca...  "
      ]
     },
     "execution_count": 17,
     "metadata": {},
     "output_type": "execute_result"
    }
   ],
   "source": [
    "sample_dataset"
   ]
  },
  {
   "cell_type": "code",
   "execution_count": 18,
=======
   "execution_count": 52,
>>>>>>> master
   "metadata": {
    "colab": {
     "base_uri": "https://localhost:8080/",
     "height": 1000,
     "referenced_widgets": [
      "0bb658917bd046dda274b416b3133733",
      "3e1f77d31dde4cf5891c1e8b28902c8a",
      "47a48d0ee4a34a2badf79fe20d4da187",
      "805b6a40731c475da2a10b226029a78e",
      "0255bb020f0c47d39211fc79fe62e6a0",
      "60ef8cdf28314040a691a63873f4b68c",
      "13d66d8f98364de89b6f1d2ca9aa5b20",
      "53d75915eb7e4fc09fc01ae2179b77f4",
      "3389fe9541674f33924d63b8825828a0",
      "61cd07c7dca4442f9eb033a8576d7f29",
      "3970ccced8cd40f6b465fa9b72dc8773",
      "e9021739a74745e78ab3f378459cf21f",
      "3e566513291d4a77bb53b709949479d8",
      "10d9d4454df6469c8f9695d9c219f95d",
      "2b52d8edc73e450983dfd14b57a1edba",
      "b906b5d57fc2415597a951c1b1895920",
      "c904155a7fb946bb9e1529e555cab58d",
      "1854396b20914da7b5c4cd5bcf55f47c",
      "deab6cc737964756a73bada6da91325b",
      "f021b51f0cff41cd96835ff263399afa",
      "8255582be886419ab0079ce6f7bfcb6f",
      "17bc452daac44045afd23e0f8c295120",
      "0b6145324ac54970b0f853675d03570d",
      "97ec21ad78af43b2891c5c57475f80f5"
     ]
    },
    "colab_type": "code",
    "executionInfo": {
     "elapsed": 2195047,
     "status": "ok",
     "timestamp": 1591752586325,
     "user": {
      "displayName": "Sebastián Bórquez",
      "photoUrl": "https://lh3.googleusercontent.com/a-/AOh14GjxWwI8bJunba57PuyxAam6CPZ6TAt-b6ZBMCcbHw=s64",
      "userId": "11886092938956714392"
     },
     "user_tz": 240
    },
    "id": "Q7SfE1BY6yR6",
    "outputId": "191fd325-67d9-4ccb-f810-bae225858d57",
    "scrolled": false
   },
   "outputs": [
    {
     "data": {
      "text/html": [
       "<h3>MST_FlashCam</h3>"
      ],
      "text/plain": [
       "<IPython.core.display.HTML object>"
      ]
     },
     "metadata": {},
     "output_type": "display_data"
    },
    {
     "name": "stdout",
     "output_type": "stream",
     "text": [
      "1\n"
     ]
    },
    {
     "data": {
      "application/vnd.jupyter.widget-view+json": {
<<<<<<< HEAD
       "model_id": "ce0b870f9780425a83a3660ba36c1ab0",
=======
       "model_id": "961d45fedb76415fa9f547b8ebafedca",
>>>>>>> master
       "version_major": 2,
       "version_minor": 0
      },
      "text/plain": [
<<<<<<< HEAD
       "HBox(children=(FloatProgress(value=0.0, max=2.0), HTML(value='')))"
=======
       "HBox(children=(FloatProgress(value=0.0, max=36.0), HTML(value='')))"
>>>>>>> master
      ]
     },
     "metadata": {},
     "output_type": "display_data"
    },
    {
<<<<<<< HEAD
     "name": "stdout",
     "output_type": "stream",
     "text": [
      "[[[[1.4205873  0.22085391]]]] [[ 1.19866562 -0.07693702]]\n",
      "\n"
     ]
    },
    {
     "ename": "TypeError",
     "evalue": "'NoneType' object is not iterable",
     "output_type": "error",
     "traceback": [
      "\u001b[0;31m---------------------------------------------------------------------------\u001b[0m",
      "\u001b[0;31mTypeError\u001b[0m                                 Traceback (most recent call last)",
      "\u001b[0;32m<ipython-input-18-7c3195007c00>\u001b[0m in \u001b[0;36m<module>\u001b[0;34m\u001b[0m\n\u001b[1;32m     40\u001b[0m         \u001b[0mprint\u001b[0m\u001b[0;34m(\u001b[0m\u001b[0mp\u001b[0m\u001b[0;34m,\u001b[0m \u001b[0mt\u001b[0m\u001b[0;34m)\u001b[0m\u001b[0;34m\u001b[0m\u001b[0;34m\u001b[0m\u001b[0m\n\u001b[1;32m     41\u001b[0m         \u001b[0mp_points\u001b[0m \u001b[0;34m=\u001b[0m \u001b[0massembler\u001b[0m\u001b[0;34m.\u001b[0m\u001b[0mpoint_estimation\u001b[0m\u001b[0;34m(\u001b[0m\u001b[0mp\u001b[0m\u001b[0;34m)\u001b[0m\u001b[0;34m\u001b[0m\u001b[0;34m\u001b[0m\u001b[0m\n\u001b[0;32m---> 42\u001b[0;31m         \u001b[0mpredictions_points\u001b[0m\u001b[0;34m.\u001b[0m\u001b[0mextend\u001b[0m\u001b[0;34m(\u001b[0m\u001b[0mp_points\u001b[0m\u001b[0;34m)\u001b[0m\u001b[0;34m\u001b[0m\u001b[0;34m\u001b[0m\u001b[0m\n\u001b[0m\u001b[1;32m     43\u001b[0m \u001b[0;34m\u001b[0m\u001b[0m\n\u001b[1;32m     44\u001b[0m         \u001b[0;31m# save some predictions\u001b[0m\u001b[0;34m\u001b[0m\u001b[0;34m\u001b[0m\u001b[0;34m\u001b[0m\u001b[0m\n",
      "\u001b[0;31mTypeError\u001b[0m: 'NoneType' object is not iterable"
=======
     "name": "stderr",
     "output_type": "stream",
     "text": [
      "/mnt/d/sebas/Google Drive/Projects/gerumo/gerumo/visualization/metrics.py:192: MatplotlibDeprecationWarning: The 'extend' parameter to Colorbar has no effect because it is overridden by the mappable; it is deprecated since 3.3 and will be removed two minor releases later.\n",
      "  plt.colorbar(im, ax=axis, extend='max')\n"
     ]
    },
    {
     "data": {
      "image/png": "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\n",
      "text/plain": [
       "<Figure size 576x576 with 2 Axes>"
      ]
     },
     "metadata": {
      "needs_background": "light"
     },
     "output_type": "display_data"
    },
    {
     "data": {
      "image/png": "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\n",
      "text/plain": [
       "<Figure size 576x576 with 2 Axes>"
      ]
     },
     "metadata": {
      "needs_background": "light"
     },
     "output_type": "display_data"
    },
    {
     "name": "stderr",
     "output_type": "stream",
     "text": [
      "/mnt/d/sebas/Google Drive/Projects/gerumo/gerumo/visualization/metrics.py:192: MatplotlibDeprecationWarning: The 'extend' parameter to Colorbar has no effect because it is overridden by the mappable; it is deprecated since 3.3 and will be removed two minor releases later.\n",
      "  plt.colorbar(im, ax=axis, extend='max')\n"
     ]
    },
    {
     "data": {
      "image/png": "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\n",
      "text/plain": [
       "<Figure size 576x576 with 2 Axes>"
      ]
     },
     "metadata": {
      "needs_background": "light"
     },
     "output_type": "display_data"
    },
    {
     "data": {
      "image/png": "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\n",
      "text/plain": [
       "<Figure size 576x576 with 2 Axes>"
      ]
     },
     "metadata": {
      "needs_background": "light"
     },
     "output_type": "display_data"
    },
    {
     "data": {
      "image/png": "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\n",
      "text/plain": [
       "<Figure size 576x576 with 2 Axes>"
      ]
     },
     "metadata": {
      "needs_background": "light"
     },
     "output_type": "display_data"
    },
    {
     "data": {
      "image/png": "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\n",
      "text/plain": [
       "<Figure size 576x576 with 2 Axes>"
      ]
     },
     "metadata": {
      "needs_background": "light"
     },
     "output_type": "display_data"
    },
    {
     "data": {
      "image/png": "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\n",
      "text/plain": [
       "<Figure size 576x576 with 2 Axes>"
      ]
     },
     "metadata": {
      "needs_background": "light"
     },
     "output_type": "display_data"
    },
    {
     "data": {
      "image/png": "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\n",
      "text/plain": [
       "<Figure size 576x576 with 2 Axes>"
      ]
     },
     "metadata": {
      "needs_background": "light"
     },
     "output_type": "display_data"
    },
    {
     "data": {
      "image/png": "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\n",
      "text/plain": [
       "<Figure size 576x576 with 2 Axes>"
      ]
     },
     "metadata": {
      "needs_background": "light"
     },
     "output_type": "display_data"
    },
    {
     "data": {
      "image/png": "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\n",
      "text/plain": [
       "<Figure size 576x576 with 2 Axes>"
      ]
     },
     "metadata": {
      "needs_background": "light"
     },
     "output_type": "display_data"
    },
    {
     "data": {
      "image/png": "iVBORw0KGgoAAAANSUhEUgAAAesAAAH/CAYAAAB3tPUsAAAAOXRFWHRTb2Z0d2FyZQBNYXRwbG90bGliIHZlcnNpb24zLjMuMCwgaHR0cHM6Ly9tYXRwbG90bGliLm9yZy86wFpkAAAACXBIWXMAAAsTAAALEwEAmpwYAABG4UlEQVR4nO3debyWc/7H8de7RUXaFFLI2LcppLJlyZZmkCUVJvuYwWCM3YxsI4OZYTAmJhkzZWkwITMaivFLyBKSCJVKpVIkqlOf3x/XdY6709k6nfvcV/V+Ph73o/v+Xtv3vs7pvO/v97ru71cRgZmZmWVXnUJXwMzMzCrmsDYzM8s4h7WZmVnGOazNzMwyzmFtZmaWcQ5rMzOzjHNYr0ckDZZ0Y/r8AEmTqrmfeyX9umZrB0o8IOlLSa/V9P7XF5J+Jmm2pEWSNlnDfW0m6SVJX0u6vabXL5TV+V2TNFrSWbVVN7OyOKwzRtIUSd+mf2hnpwHbuKaPExH/i4gdq1Cf0yS9XGrbcyPihpquE7A/cBjQNiI65WH/tSL3Q1EF67STNErSYkkfSDq0nPWelxSS6uWUdZD0P0kLJU3P/eAkqT7we+DwiGgMbJT+LuU+QtIl6fqSdLWkaZK+kvSwpCY5VTgHmAs0iYhL0vVvlDQjPf5oSbtWsH5vSZPSdedIejB3/5LOlzRO0hJJg0u9913SZV+mj/9K2qWMc7SBpImSppcqr5vWdWb64eEtSc3SxTX2uybpx5LeS8/tmNJ1lHSxpFnp+R0kqUHOshskvSupSFL/NamHrdsc1tn04/QP7Z5AR+Ca0ivk/vFeh2wNTImIb1Z3w7XwfAwF3gI2Aa4GhklqlbuCpJOB+mVsOwR4CWgBHAj8XNLR6bLNgIbABICImBYRjYsfwO7ACuCf6fo/AU4F9gO2ABoBf8o51tbA+/H96EknAmcAB6THfwV4qIL1/w/YLyKaAj8A6gG5H2Rmpq8HlfE+ZwInpMdpCQwHHi5jvUuBL8oovw7YF9gHaJK+z+9y6lmt37VckrYH/gGcCzQDngKGF/8+SjoCuALolh7zB2m9ik0GLgOeWZN62HogIvzI0AOYAhya8/pW4On0eQDnAR8Bn6ZlPwLeBhYAY4Af5my7B/Am8DXwCMkfuhvTZQcB03PW3RJ4nOSP3jzgLmBnkj9uy4FFwIJ03cHF+0lfn03yR2c+yR/ULXKWBckfso/SOt4NqIz3fWapY11XxX2vdD7K2G+X9LwsAMYDB6XlJwHjSq17MTA8fd4AuA2YBswG7gUa5Z474BJgDvA5cHq67BxgGbA0fR9PlVGnHYAlwMY5Zf8Dzs153RT4MK1/APVyli0Gdsl5/RhwZbrfb9L1FwEvlHHsa4FROa+HAZfmvN43/TlsmP6cc9/LocDlwKM56+8KfJfze7HS+qWO3Rj4GzCijHrdCAyu4P9FvfRnvbhU+TbARKA7K/8+N0/rsO1q/K4dQ/J/6SvgY+DItHw0cDPwWrrsX0CLdNn5wDM5+64DfAt0S18PAX6bs7wbMKuMOv0d6F/ovz9+ZPdR8Ar4UeoHkhPWJAE6AbghfR3ASJKWRiOSMJ4DdAbqAv3S7RsAGwBTSQKoPkkLZRllhHW67XjgD8BGJC2z/dNlpwEvl6rj4Jz9HELS7blnetw/AS/lrBvA0yStjq1IPgwcWc57X+lYVdx3yfkoY39tSD54HJX+ET0sfd2KJIy+BrbPWf91oHf6/A8kHw5aABuTtJhuzjl3RcD16bk9iiRAm5c+P+W8z57AxFJldwF/ynl9d/qza8eqYf1bYEB67B1JPjjsnS5bZf2c7UQSQqfllA0DLst5vV+6ffuy3gtJ6/ANkg8G9YHfAU+W9buRU7Y/sDDd7zckXfSl61ZuWJN80Coi6RG4ptSyp9PzeRArh3XXdLvLgVkkH3zOq+B3rVNax8PS35U2wE7pstHADGA3kv8f/wT+ni47n5wPHyT/l74DLkxfjwdOylneMj0Pm5R6Hw5rPyp8uBs8m56UtAB4GXiR5I9zsZsjYn5EfEvSivtLRLwaEcsj4kGSFluX9FEf+GNELIuIYSRhVJZOJF2gl0bENxHxXUS8XM66pZ0MDIqINyNiCUkLbx9J7XLWGRARCyJiGjAK6FCD+849H6WdQvKHdERErIiIkcA44KiIWEzSQuoDJd2ZO5F0YYrk3F6c7vtrkp9B75x9LwOuT8/tCJIWWqX3AKQakwRDroUkHwqQ1JEkNP9E2Z4m+fD1LfAB8NeIKO9nm2t/km7yYTll/wbOSq+hNyUJN0g+zJTlc5Lfy0np8U8k+VBRroh4OZJu8LYkPUVTqlDX3O2bkfQ0nE9y6QAAST2BuhHxRBmbtU232YGk9X0C0F/SYeUc5kyS37WR6e/KjIj4IGf5QxHxXiTd5r8GekmqC/wXOFDSQZI2AK4i+aBcfP5K/6yLn29cxbdvBviadVYdGxHNImLriPh5qSD6LOf51sAlkhYUP0ha41ukjxkRkTtTy9RyjrclMDUiiqpR1y1y9xsRi0har21y1pmV83wxyR+wmtr3Z6U3yrE1cGKp87M/0DpdPoQ0rIG+JC3ExXzf8n4jZ7t/p+XF5pU6X6vzvhaRXEPN1QT4WlId4B6SltkqPw9JLdK6XE/SA7IlcISkn1fhuP2Af6bnsdggkuvno0l6cUal5dMp22+AvdPjNiS5/vqCpPLCvUREzEjrXtZ158q2/YbkUsTfJG0qaSOSVv0vytmk+P/M9RHxbUS8kx73qHLW35Kk16E8ub9nU0k+CLdMA70fSc/I5yQt5/f5/vyV/lkXP/+6gmOZrcJhvfbJDd/PgJvSYC9+bBgRQ0n+cLRJW4nFtipnn58BW5Vzk1aUUZZrJkkoApD+Ed2EpNtwTVVl3xXV7zOSFlHu+dkoIgaky0cCrSR1IAntIWn5XJI/9rvmbNc0khu0qqKyczYB+IGk3NZV+7S8CclNhY9ImsX3vSHTJR1AcoPS8oj4W0QURcR0Kg4hACQ1ImkFP7hSRZNW5LUR0S4i2qZ1mEH5P78OwCMRMT09/mCS68Or3KVdjnrAtlVct7Q6JB+i2gDbk3T5/y89T48DrdO7rtsB76Tb5P4sKvtdqaheW+Y834qkZ2UuQEQMi4jdImITknsC2vH9z20Cyc+2WHtgdkTMq+BYZqtwWK/d7gPOldQ5/UrNRpJ6pCHwCsl1vl9Iqi/pOJLu7rK8RhLuA9J9NJS0X7psNtA27eIry1DgdCVfJ2pA0l38akRMqYH3t6b7/jvwY0lHpF/jaZh2V7YFiIhlJDdn3UpybXpkWr6C5Nz+QdKmAJLapHf2VsVsklAtU0R8SHIj07VpnXoCPyS5FrqQpEehQ/ooDuG9gFdJrr1KUl9JdSRtTnKz3DtUrCfwJd+3nEnfVwtJ26a/P7uQfO3r+vQclOV1kt6KzdLjn0rSypxc1sqSTpa0Vfp8a+Am4Pmc5fUkNSS51lv8Myq+k/owSXukP7smad2+JLmh7D2SAC0+T2eRnPcOwGcR8THJTXtXS2ogaWeSyxhPl/O+/kryu9YtfV9tJO2Us/wUJV8l25CkV2NYRCxP67lXWsdWwECSmxSLu9D/BpyZbtuM5Jsdg3Pef/30/dcB6qXvv245dbT1mMN6LRYR40julr6L5I/YZJIbZ4iIpcBx6ev5JH/QHy9nP8uBHwPbkdz9PD1dH+AFktbBLElzy9j2vyTX8P5JEvjbsvK13Wpb031HxGckd/heRXJj22ckX/PJ/b0fQnKX82Olup0vJzmfYyV9RXJtsqrXpP8K7JJ2oT9Zzjq9SVrQX5LcLHZCRHwRiVnFD77/StLsiFgaEV+R/FwvTrd9myS4KvxeN0lX7UOlLotA0m07guTGr2dJrtsOrGA/t5DcNPU2yQ1cFwPHR8SCctbfBRgj6RuSr3FNIvmdLXYNSS/GFST3GHzL919VbEbygW0hSRf1tiQ3J36Xtupzz9N8YEX6enm6fR+Snpl5JF+N+nVElHxQyBURrwGnk9xYuJDkXpGtc1Z5iCRkZ5F0/+d2v9+RnotJJD+TkvcXEf8m6a4fRfJ/aypJ67vYfel77kPyFb5vSb5iZrYSrfp/18zMzLLELWszM7OMc1ibmZllnMPazMws4xzWZmZmGeewNquA1pHpEZXMCFXm18lUxsxqZpYtDmtbryiZgrTM6SjXZZHMuvVJdbZVMqXmN/p+is37a7p+ZlaxtW1aQTMrjPYRUebAJ2aWf25Z23pD0kMkQ0U+lbYQL0vLu0gakw5iMl7SQRXs4wxJEyV9Kek/6ahcpCOA/UHSHElfSXpX0m7pskaSbpc0VdJCSS+nw38i6WhJE9Jjj05H2io+1hRJV0p6Pz3eA+loV8XLfyTp7XTbMZJ+WEG9Q9J26fNNJA1P6/ka1R/+08xqicPa1hsRcSrJKFI/TruFfyepDcnoVjeSDDn6K+Cf6dCRK5FUPBracSSTevyPZIQtgMNJpmXcgWS2p14kI2dBMi/2XiRzRbcALgNWSNoh3f6idH8jSD5I5A7tejJwBEmg7kA6upekPUgm4fgpyXjpfyGZMaxBFU7F3STTOLYGzkgflXlJybjbj2vlWc/MrBY4rG19V+40mmWsey7JlJwT06FJfwt0SFvXy0imPdyJZGTAiRHxuZJZtM4gmUVrRiRTmY6JZMrPk4Bn0mkZl5GEeiOSUC92V0R8FhHzScbVLp4lrKLpUcuVjjt9PPCbSKZDfY9Sk3uU4UCSySl2Iplc5WmVPemLmeWJw9rWd5VNo1l63Tty1psPCGgTES+QjNF+NzBH0sB08omWJGNJlzX9YukpQFeQjF9e3hSgU9NtiutS3vSoFWlFcq9K6f2WKyJeSsclXwBcSDI/9M4VbWNmNcthbeub0oPhVzaNZul1f1pq3UYRMQYgIu6MiL1IJq/YgWTSkLkkXc5lXRcuPQWoSAI3d3rK0lMzzsypS3nTo1bkC5LZ2Ervd3UEyYcUM6slDmtb35SevrLCaTRLuRe4UtKuAJKaSjoxfb63kqlK65PMYPUdySxQK0iuLf9e0hbpMfZJry0/CvRIp2WsD1xC0pU9JueY50lqK6kFyaxMj6TlFU2PWq50RqrHgf6SNlQyLWa/8taXtKuSKUrrSmoM3E7yYWJiRccxs5rlsLb1zc3ANWnX8a+qOI0mABHxBMkUkQ8rmTbzPaB7urgJSYB+SdKtPI9knmxIblp7l2Qu6PnpPupExCSSa+Z/ImmB/5jk5relOYcdAjwHfELSlX5jWpdyp0etgvOBxiTTPQ4GHqhg3c1IPiB8ldahHfCj9Bq7mdUST5FpllGSpgBnpfN6m9l6zC1rMzOzjHNYm5mZVYGkQenAR+/llN0q6QNJ70h6QlKznGVXSposaZKkI3LKj0zLJku6okrHdje4mZlZ5SR1BRYBf4uI4hEKDwdeiIgiSbcARMTl6c2bQ4FOJF+p/C/Jt0QAPgQOA6aT3MvSJyLer+jYblmbmZlVQUS8RHKTaG7Zc+kgSQBjgeJvkhwDPBwRSyLiU5KbQDulj8kR8Ul6M+nD6boVclibmZnVjDOAZ9PnbVh58KHpaVl55RVap4YMbNmyZbRr167Q1TAzM+CNN96YGxGrjLO/pjpLsbCmdwpMggkkYyQUGxgRA6uyraSrSQYc+kceqrZuhXW7du0YN25coathZmaApAqHsq2uhcBf87Df/eG7iOi4uttJOg34EdAtvr8RbAYrjxTYlu9HJyyvvFzrVFi/8cY3SK8WuhpmZuu1iM6FrkKtkXQkyUx6B0bE4pxFw4Ehkn5PcoPZ9sBrJEP1bi9pG5KQ7g30rew461RYm5mZ5YukocBBQEtJ04FrgSuBBsDIZHh/xkbEuRExQdKjwPsk3ePnpcP9Iul84D9AXWBQREyo7NgOazMzsyqIiD5lFJfbIx8RN5FMbVu6fATJ/PVV5rA2K6DmzaF///pst10d6vi7GbYWWrECJk9eQf/+y/jyy0LXZt3lsDYroP7969Op06bUq9cUzzppa6egRYuF9O8/hwsv9Pwu+eLP8mYFtN12dRzUtpYT9eo1ZbvtHCf55LNrVkBJ17eD2tZ28mWcPPPpNbMa88Yb/+Pii08A4MUXn2Hw4NvLXffrrxfw2GP3lbz+4ovPufzyU/JavyFD7uaZZ4YA8N//PkGvXnvTqVMT3n//zTLXnzVrOueeexS9enWkV6+9GTr0npJld9xxNSecsCd9+nTh0kv78PXXC0qWPfDAbfTs2Z7jj9+DV175fobTr79ewOWXn8IJJ+zJiSfuxTvvVPxV04jgttsupWfP9vTp04UPPni7zPUmTnyL3r0707Nne2677VKKv+q7cOF8zjvvaI47rgPnnXc0X32VXFSeMmUSZ5xxCPvuuwkPPXRHld7vH/94Fa+//mKF9bX8cVibWaWWL1++2tsceGAPTjvtknKXf/31QoYN+z6sW7VqzS23/L1a9auKoqIinnrqIY44ohcA2267M7/73T/YY4/9yt2mXr16XHTRb3n00XE88MALDBs2kE8++QCAzp0P4eGHX2Po0LFstdV2JR9MPvnkA0aO/CePPPIad975BLfc8suS83f77Zexzz6HMmzYmwwZ8grbbLNjhXUeM+Y5pk37mMcff5urrrqTAQMuLnO9AQMu5uqr/8Tjj7/NtGkfM2bMSAAefPD37L33gTz++NvsvfeBPPjg7wFo0qQFl1xyK6ec8osqv9+TTjq3ZHurfQ5rs7VMnTqw444Na6TbcebMqZxwwp5cc82ZnHjiXlx++Sl8910yrsPRR+/Kn/70a045ZX+ef/4Jxo59njPOOIRTTtmfK644lcWLFwEwZsxITjhhT045ZX9GjRpesu+nnvo7v/tdEtbz5s3h0kv70LfvPvTtuw/jx4/lrruuZcaMT+nbd1/uuONqZs6cykkndQJgyZLvuO66c+nduzMnn7wf48a9VLLPSy/tywUX9OS44zpw553XVPm9jhv3Ijvu2J569ZL7arfZZifatduhwm1attycnXbqAMBGG21Mu3Y78sUXMwHo0qVbyb52221vZs9Oyl988WkOO+x4NtigAW3atGPLLX/AhAnjWLRoIW+9NYZjjukHQP36G7Dxxs0qPP6LLz5Djx59kMTuu3fi668XMHfurJXWmTt3Ft988xW7794JSfTo0YcXX3y6ZPsf/ehkAH70o5MZPTopb9GiFbvuuhf16tWv8vtt3XorFi6cz9y5syuss+WH7wY3W8s0aVKXDTesS5MmdVmwYPVbvKVNnfoRv/713bRvvw/XX/8zHnvsPk499UIAmjZtwd///jILFszlsstO5u67n6JRo4148MHf849/3MVPfnIRN910AX/+89NsueW2XHVVvzKPcdttl7LHHvtz661DWb58Od9+u4jzz7+Ojz9+nyFDxgDJB4dijz02EEk8/PCrTJkyifPPP5Z//vMtAD788F3+8Y+XqV+/ASecsCe9ep3L5pu35cor+zF16kerHPvkk8+nR4++jB8/lp133qPa52nmzKlMmvQOu+666miUw4c/xGGHHQ8k3fm77bZ3ybJNN92CL774nAYNGtGsWUuuu+5cPvroPXbeuQOXXPI7GjXaqNxjfvHFTDbbrE3OvtowZ85MWrbcvKRszpyZbLpp7jpblATs/PlflKy7ySabMX/+F2v0fnfcsT3vvDOWQw6pdJIoq2EOa7O1xFZbbUCzZvWoUye5Ia1du4asWBEsWFDEtGlLq73fzTZrS/v2+wDQvXtvHnnkzyVhXRxA7777Op988gFnnnkYAEVFS9l9905MmfIhbdpszVZbbQfAkUeexJNPPrDKMcaNe5HrrkvmQ6hbty6NGzflq68WlFun8eNfoVevc9P3uSOtW2/JtGmTAdh77wNp3LgpkLSOZ82axuabt+Xmmx+s8H3OnTur0m7n8ixevIjLLz+FX/5yAI0bN1lp2aBBt1KvXj26dz+pwn0sX17EpElvc+mlt7Lbbntz222XMXjw7/nZz35drTqtLkmkI2xVqrz326JFK7744vN8VdEq4LA2W0vMmrWMRo3q0rBhMhCFBEuWBLNmrdl3W0v/Ac993ajRhkByo1Pnzodw000rB/GkSe+s0bGrY4MNGpQ8r1u3Tsn14Mpa1g0aNGLJku9WWV6ZoqJlXH75KRx5ZK9VWpRPPfV3Xn75We655+mS89aqVWtmz55ess6cOTNp1ao1m27ahk03bVPS6u7W7ZhKrwG3arUFs2d/P8fDnDkz2HTTLVZaZ9NNt2DOnNx1ZtKqVbJOixatmDt3Fi1bbs7cubNo3rzlGr3fJUu+o0GDhpXuw2qer1mbrSWWLg1mzVpKnTpCgjp1xKxZS1m6NCrfuAKzZn1Wclfyf/7zaEkrO9fuu+/N+PFj+eyzjwH49ttvmDr1I9q124GZM6cxffonADz33LAyj7H33gcxbNj9QHKz2qJFC9lww8Yl171L69BhX/7970eApJt+1qzpbL319hW+j5tvfpAhQ8as8ujRI5kjYZttdiypZ1VFBDfccB7t2u3IySdfsNKyMWNG8tBDf+T22x+hYcMNS8q7du3ByJH/ZOnSJcyYMYVp0z5m11070rLlZmy2WRumTPkQgNdff5FtttkJgEcf/QuPPvqXVY7ftetRPPPMUCKCd999jcaNm67UBQ7JdeaNNmrCu+++RkTwzDNDOfDAHiXbP/10MmPj00//o6S8Ou8XYNq0yWy77S6VnTbLA4e12VqkWbO6FBUFM2cupagoaNq07hrvc+utt+exx+7jxBP34quvFnDCCWetsk7z5q249tp7ufrqM+jTpwtnnNGNKVM+pEGDhlx11Z1cdNEJnHLK/jRvXvbUxZdc8jveeOMlevfuzKmnHsAnn3xAs2ab0L59F046qRN33HH1SuufcMLZrFixgt69O3PVVadx7bX3rtSiro599z2Mt976v5LXo0YNp0ePHXn33de4+OITuOCCY4HkmvOFFybd/+PHv8KIEUMZN+5F+vbdl7599+X//u8/ANx666/45ptFnHfeMfTtuy8335xcOth225059NDj6NVrb37xi55cdtnt1K2b/Jx+9avb+M1vzqJPny58+OE7nH76rwCYMuVDmjZtsUqd99vvCNq0aUfPnu256aYLuPzy71viffvuW/L88st/z403nk/Pnu1p23Yb9t33cAD69fslr746iuOO68Brr42mX79fAjB37mx69NiRIUPuYtCgW+nRY0cWLfqqwvdbVLSM6dM/Yeed91yjn4NVj76fenPtJ+0cMLjQ1TCrsmefbUDLlttVef1GjeqwbNkKioqgXj2oX78O3367otrHnzlzKhdffCKPPPJatfexNrn00j5ccMENJdfYs+Lii0/gd78bQv36GxS6KuUaNWo4H3wwvtxr7HPnTqZ79yXA91NkSnqjOvNDV2YnKfI0n3Ve6lsT3LI2W4t8+20S1ABFRaxRUK+PzjvvulW++pQFf/jDsEwHNSSXL045ZdWucasdvsHMbD22xRZbrzetaoB27Xao9LvVVrZDD+1Z6Cqs19yyNjMzyziHtZmZWcY5rM3MzDLOYW1mZpZxDmuz9VjpaSrzafTop0pmcKqqSZPGc8MNPwfKn9axtGuuOZPjj9+Dk07qxPXX/4yiopVHeJsw4Q26dGnG888/uVL5okVf0aPHjiWTjwA899w/6dOnC7167c2f/rT6w4KWN0VlaU8//Q+OO64Dxx3XoWQQE4B77rmOHj12omvXzVfZZuTIx0umsrzmmjNKyu+88xp69dqbE0/ca6XpMn/+8x+Xe3zLPoe12Xqs9DSVVRERrFix+l8ZGz36aT79dPXC+oEHbuOkk34GlD+tY2ndu/di2LA3efjhV1my5DuefPL7McOXL1/OXXf9hs6du62y3b333rjSdJkLFszjzjuv4Z57nuLRR19n3rzZvPba6NWqf3lTVOZauHA+9903gAceeIHBg0dx330DSkL1gAO68+CDqx5z2rTJDB58O/ffP5JHH32dX/7yFgDGjx/L+PFjGTp0LA8//Brvv/8Gb775MgBHHdW7ZBQ5W/s4rM3WIqNGDadv3305+OA29O2770pTUlZH6WkqFy9exM9+9iNOOWV/evfuXDLV4syZUzn++D249tpzOOmkTsyePZ3777+F44/fg7POOoyrrz69pLU7ffonXHBBT0499QDOPvtwpkyZxPjxY/nf/57lzjuvoW/ffas07Oc333zNRx+9xw477A6UP61jafvtd0TJpBW77rrXSuNmP/LIvRx88DGrjJE9ceJbzJ8/h86dDykpmzFjCltuuW3JqGydOh3MCy/8qwpn9XvlTVGZa+zY5+nc+WCaNm1BkybN6dz5YF555b8A7L57p1WGFwV48snBnHji2TRp0hxIzg0k47ovXbqEZcuWsmzZEoqKikqWde16FP/5z2OrVX/LDn/P2mwtMWrUcH77218QETRo0Ig5c2bw298mrcyDDz66WvssPU1lUVERt946hMaNm7BgwVxOP70bXbsm40l/9tnH9O//F3bfvRMTJrzBCy/8iyFDXqGoaBmnnnpAyTzIN930C6688o9stdV2vPfe69xyyy/585+f4YADunPAAd3p1u1YAB566I88++yjq9Rpzz3341e/upWJE99ao3Goi4qWMWLEw1xySdLqnDNnJqNHP8W9947g+uvfKFlvxYoV/PGPV3H99ffz2mujSsq33PIHTJv2ETNnTmXTTdswevTTLFu2erObVWWKyjlzZrLZZm1LXhdPg1mR4hnIzjzzUFasWM7ZZ1/Fvvsexg9/2Jm99jqA7t23JyLo1euckvHHmzRpzrJlS1mwYB7Nmm2yWu/DCs9hbbaWuO++AUREyUhX9etvwLJlS7nvvgHVDutVBffccx1vvfV/SHX44ouZzJs3B4DWrbdi9907AUl364EH9qBBg4Y0aNCQAw44EkimVnz33Ve54oqflOxx2bIlZR7p1FMv4tRTLyq3JlWdJao8AwZczB577FfStf3731/OBRdcT506K3coDht2H/vtd/hK80ZDEm6XX/4HrrrqNOrUEbvv3pkZMz6tdn1WZ4rKyixfXsRnn33MX/7yLLNnz+Ccc47k4YfHsmDBPKZMmcQzzySXG84//2jeeuv/Ss5B8+YtmTt3lsN6LeSwNltLfP75VBo0aLRSWb169fn886k1doxnn32EL7+cy0MP/Y969epz9NG7snRpMq1k7sxS5VmxYgWNGzctaalXpLKWdYMGDas1pSXAfffdzIIFc7nqqjtLyiZOfIurrz4dSK5HjxnzHHXr1uWdd17j7bfHMGzY/SxevIiiomU0arQRF1xwPV27HkXXrkcB8Pjjg0om5CjPddedy6RJ79CqVWvuuOOfVZqictNNt+CNN/5X8nrOnBnstdcBFR5n003bsOuuHalXrz5t2rRjq622Y9q0j3nzzf+x226d2HDDxgDss8/hvPvuayVhvXTpEk9xuZZyWJutJVq33po5c2asNIZ0UdEyWrfeutr7LD1N5aJFX9GiRSvq1avPuHEv8fnn08rcrn37Ltx884WcdtolLF9exMsv/5tjjz2dxo2bsMUWW/Pf/z7BoYf2JCJKrjtvtNHGfPPN1yX7qKxlvc02O/KPf/xptd/Tk08O5pVX/ss99zy9Uiv6X/96r+R5//4/5YADunPQQT/moIN+XFL+1FN/Z+LEt7jgguuBpBu7RYtWfPXVlwwbdj8335zcrDZq1HAmTHiD88+/bqVjX3vtvSu9Lp6i8rTTLil3isouXbpxzz3XldxU9uqrL3Deef0rfI8HHvgjnnvuMY4++lQWLJjLtGmTadOmHTNmTOHJJwdTVHQJELz55sv06ZPcTR8RzJs3e41+X6xwfIOZ2Vri7LOvQBLLli0lIli2bCmSOPvsK6q9z9LTVHbv3ouJE9+kd+/OPPPMkHLH0d51173o2vUo+vbtwoUXHse22+5K48ZNALjhhr/yr3/9jb599+Gkk/bmxRefAeDww4/n73+/g5NP3q9KN5i1a5dM21gc8OVN6whw4YXH88UXnwMwYMBFzJ//BWec0Y2+ffflvvsGVPv83H77ZfTq1ZGzzjqM0077Zcmc2tOnf8pGG21c6fblTVH5/vtvcuON5wHQtGkLzjzzMvr1O4h+/Q7izDMvL5ku8847r6FHjx357rvF9OixIwMH/haAffY5lKZNW9CrV0fOPbcHF154I82abUK3bsfStu029OnTmb5992GHHXYr6RmYOPEtdtttb+rVcxttbeQpMs0KaHWnyBw1ajj33TeAzz+fSuvWW3P22VfU4PXq1bN48SI23LAx3323mHPOOZKrrrqz5CazmjJkyF1suGFjjj32tBrd75r69a/P4pe/vLnc+buz6LbbLqNr16Po1OmgvOzfU2Tmlz9ima1FDj746IKFc2m//e0v+OSTD1i69Dt69Ohb40ENcPzxZ/H880/U+H7X1A03rH3fV952253zFtSWfw5rM6uWG28clPdjNGjQkKOO6pP346wPevY8vdBVsDXga9ZmZmYZ57A2K6Bk1M51574RW18F1RiB1laDw9qsgCZPXkFR0UIc2Lb2CoqKFjJ5stM6n/J2zVrSIOBHwJyI2K2M5ccANwArgCLgooh4OV22HHg3XXVaRGTjjhqzGta//zL695/DdtvNpY4/OttaaMWK5ENn//7LKl/Zqi2fN5gNBu4C/lbO8ueB4RERkn4IPArslC77NiI65LFuZpnw5Zdw4YX+I2dmFcvbZ/mIeAmYX8HyRfH9l7w3wv2AZmZmZSpox5uknpI+AJ4BzshZ1FDSOEljJR1bmNqZmZllQ0HDOiKeiIidgGNJrl8X2zodRaYv8EdJ25a3D0nnpME+Dhbktb5mZmaFkIlbWtIu8x9Iapm+npH++wkwGtijgm0HRkTHJNyb1UJtzczMalfBwlrSdkond5W0J9AAmCepuaQGaXlLYD/g/ULV08zMrNDy+dWtocBBQEtJ04FrgfoAEXEvcDzwE0nLgG+Bk9I7w3cG/iJpBcmHiQER4bA2M7P1Vt7COiIqHNA3Im4BbimjfAywe77qZWZmtrbJxDVrMzMzK5/D2szMLOMc1mZmZhnnsDYzM8s4h7WZmVkVSBokaY6k93LKWkgaKemj9N/maflBkhZKejt9/CZnmyMlTZI0WdIVVTm2w9rMzKxqBgNHliq7Ang+IrYnmaAqN3z/FxEd0sf1AJLqAncD3YFdgD6SdqnswA5rMzOzKihngqpjgAfT5w+SDJ9dkU7A5Ij4JCKWAg+n+6iQw9rMzCzRsniuifRxThW22SwiPk+fzwI2y1m2j6Txkp6VtGta1gb4LGed6WlZhfI5n7WZmVmNa9wC9jsiDzseytx0EqlqSUfhLJ7u+U2SSakWSToKeBLYvrr7dsvazMys+mZLag2Q/jsHICK+iohF6fMRQP10vosZwJY527dNyyrksDYzM6u+4UC/9Hk/4F8AkjbPmayqE0nezgNeB7aXtI2kDYDe6T4q5G5wMzOzKihngqoBwKOSzgSmAr3S1U8AfiapiGSyqt4REUCRpPOB/wB1gUERMaGyYzuszczMqqCCCaq6lbHuXcBd5exnBDBidY7tbnAzM7OMc1ibmZllnMPazMws4xzWZmZmGeewNjMzyziHtZmZWcY5rM3MzDLOYW1mZpZxDmszM7OMc1ibmZllnMPazMws4xzWZmZmGeewNjMzyziHtZmZWcY5rM3MzDLOYW1mZpZxDmszM7OMc1ibmZllnMPazMws4xzWZmZmGeewNjMzyziHtZmZWcY5rM3MzDLOYW1mZpZxDmszM7OMc1ibmZllnMPazMws4xzWZmZmGeewNjMzyziHtZmZWcY5rM3MzDLOYW1mZpZxDmszM7OMc1ibmZllnMPazMws4xzWZmZmGeewNjMzyziHtZmZWcY5rM3MzDLOYW1mZpZxDmszM7OMc1ibmZllnMPazMws4xzWZmZmGZfXsJY0SNIcSe+Vs/wYSe9IelvSOEn75yzrJ+mj9NEvn/U0MzPLsny3rAcDR1aw/HmgfUR0AM4A7geQ1AK4FugMdAKuldQ8rzU1MzOrgKQLJb0naYKki9KyFpJGpg3LkcVZpcSdkianjdI91+TYeQ3riHgJmF/B8kUREenLjYDi50cAIyNifkR8CYyk4tA3MzPLG0m7AWeTNCDbAz+StB1wBfB8RGxP0gC9It2kO7B9+jgH+POaHL/g16wl9ZT0AfAMSesaoA3wWc5q09OysrY/J+1CHwcL8lpXMzNbb+0MvBoRiyOiCHgROA44BngwXedB4Nj0+THA3yIxFmgmqXV1D17wsI6IJyJiJ5I3eEM1th8YER0joiM0q+nqmZmZAbwHHCBpE0kbAkcBWwKbRcTn6TqzgM3S51VudFZFvepuWNMi4iVJP5DUEpgBHJSzuC0wuhD1MjOzjNkcuDwP+x1Ky6SXtsTAiBgIEBETJd0CPAd8A7wNLM/dPCJCUpAHBW1ZS9pOktLnewINgHnAf4DDJTVPL9YfnpaZmZnly9zintr0MTB3YUT8NSL2ioiuwJfAh8Ds4u7t9N856eozSFrexdqmZdWS15a1pKEkLeSWkqaT3OFdHyAi7gWOB34iaRnwLXBSesPZfEk3AK+nu7o+Isq9Uc3MzCzfJG0aEXMkbUVyvboLsA3QDxiQ/vuvdPXhwPmSHib5ZtPCnO7y1ZbXsI6IPpUsvwW4pZxlg4BB+aiXmZlZNfxT0ibAMuC8iFggaQDwqKQzgalAr3TdESTXtScDi4HT1+TAmblmbWZmlmURcUAZZfOAbmWUB3BeTR274HeDm5mZWcUc1mZmZhnnsDYzM8s4h7WZmVnGOazNzMwyzmFtZmaWcQ5rMzOzjHNYm5mZZZzD2szMLOMc1mZmZhnnsDYzM8s4h7WZmVnGOazNzMwyzmFtZmaWcQ5rMzOzjHNYm5mZZZzD2szMLOMc1mZmZhnnsDYzM8s4h7WZmVnGOazNzMwyzmFtZmaWcQ5rMzOzjHNYm5mZZZzD2szMLOMc1mZmZhnnsDYzM8s4h7WZmVnGOazNzMwyzmFtljUHdy50DcwsYxzWZlnioDazMjiszczMMs5hbZYVblWbWTkc1mZZ5OA2sxwOazMzs4xzWJuZmWWcw9osC9ztbWYVcFibmZllnMPaLKvc2jazlMPazMws4xzWZmZmGeewNjMzyziHtZmZWcY5rM3MzDKuXqErYGap/uU8N7P1nlvWZmZmVSBpR0lv5zy+knSRpP6SZuSUH5WzzZWSJkuaJOmI6h7bYW2WRf0LXQEzKy0iJkVEh4joAOwFLAaeSBf/oXhZRIwAkLQL0BvYFTgSuEdS3eoc22FtZma2+roBH0fE1ArWOQZ4OCKWRMSnwGSgU3UO5rA2yzKPYmaWVb2BoTmvz5f0jqRBkpqnZW2Az3LWmZ6WrTbfYGZmZmuVBY2aMLx9lzzs+bmWksblFAyMiIGl15K0AXA0cGVa9GfgBiDSf28HzqjJmjmszczMEnMjomMV1usOvBkRswGK/wWQdB/wdPpyBrBlznZt07LV5m5wsyzoX8UyM8uCPuR0gUtqnbOsJ/Be+nw40FtSA0nbANsDr1XngG5Zm5mZVZGkjYDDgJ/mFP9OUgeSbvApxcsiYoKkR4H3gSLgvIhYXp3jOqzNMqR718cBePal4wpcEzMrS0R8A2xSquzUCta/CbhpTY/rbnAzM7OMy1tYp7evz5H0XjnLT05vc39X0hhJ7XOWTUnL3y51Z57ZOqu4VW1mVlo+W9aDSUZsKc+nwIERsTvJre6lb48/OB0Jpip35pmtUxzcZpYrb9esI+IlSe0qWD4m5+VYklvazdY/HvjEzCqRlWvWZwLP5rwO4DlJb0g6p0B1MjMzy4SC3w0u6WCSsN4/p3j/iJghaVNgpKQPIuKlcrY/B0gDffM819bMzKz2FbRlLemHwP3AMRExr7g8Imak/84hmdGk3IHPI2JgRHRMrm03y3ONzczMal/BwlrSVsDjwKkR8WFO+UaSNi5+DhzO96PBmK3zzuUvha6CmWVM3rrBJQ0FDgJaSpoOXAvUB4iIe4HfkHyx/B5JAEXpnd+bAU+kZfWAIRHx73zV0yxLHNRmVpZ83g3ep5LlZwFnlVH+CdB+1S3M1hWjgEHA50BrmDMAWHXEsu5dH+fZMsrNbP2TlbvBzdYTo4BbgDlAg+TfD38KL1XwvWp/tctsveewNqtVg0i+mVgfUPJvBAy+vuzV+9daxcwswxzWZrXqc1a5+qT6MGvKSkW+dm1muRzWZrWqNclMeTliGRtv19wBbWblclib1aozSLq/l5F0hy8Die1+c2Jhq2VmmVbwEczM1i8Hp//m3A2+wwA2Pw5gfMFqZWbZ5pa1Wa07GHgI+G/y76Yrfz3r6PHPFaJSZpZhDmuzDHFQm1lZHNZmZmYZ57A2MzPLOIe1mZlZxjmszTLK37s2s2IOa7MM8o1mZpbLYW1mZpZxDmszM7OMc1ibZc0tha6AmWWNw9rMzCzjHNZmWeJWtZmVwWFtZmaWcQ5rMzOzjHNYm5mZZVyF81lLGl6FfcyPiNNqpjpmZmZWWoVhDewMnFXBcgF311x1zCxX966P8yzHVb6ima3TKgvrqyPixYpWkHRdDdbHzMzMSqnwmnVEPFrZDqqyjplVbqXxwP0VLjPLUdk166eAKG95RBxd4zUyMyAJ73vb/7TQ1TCzDKisG/y29N/jgM2Bv6ev+wCz81UpMzMz+16FYV18vVrS7RHRMWfRU5LG5bVmZmZmBlT9e9YbSfpB8QtJ2wAb5adKZmZmlquqYX0xMFrSaEkvAqOAi/JWK7P10PD2hxe6CmaWUZVdswYgIv4taXtgp7Tog4hYkr9qma2/xj69MV1efQqKflzoqphZRlQprFPbAzsCDYH2koiIv+WnWmbrr6bdusEPOsLMQwpdFTPLiCqFtaRrgYOAXYARQHfgZcBhbVZDdud8uGsQ261okBRseT8PsRGPXAjnjSps3cyssKp6zfoEoBswKyJOB9oDTfNWK7P10GQegy+mEBGweCEQzOIbfvdwoWtmZoVW1bD+NiJWAEWSmgBzgC3zVy2z9c+3zIbhN1OnYUOoUxfUgMf4kKke0cBsvVfVsB4nqRlwH/AG8CbwSr4qZba+efaldLKOvY6maN48GHYtLJ9PZzYvbMXMLBMqDWtJAm6OiAURcS9wGNAv7Q43s5o08h4a3rw3PP8X+HBvnubTQtfIzHJIaiZpmKQPJE2UtI+kFpJGSvoo/bd5uq4k3SlpsqR3JO1Z3eNWGtYRESQ3lRW/nhIR71T3gGZWganj4eu5yfPlc/mUhYWtj5mVdgfw74jYieT+rYnAFcDzEbE98Hz6GpKbsbdPH+cAf67uQavaDf6mpL2rexAzM7O1naSmQFfgrwARsTQiFgDHAA+mqz0IHJs+Pwb4WyTGAs0kta7Osasa1p2BVyR9nDbl35Xk1rWZma1LWkoal/M4p9TybYAvgAckvSXpfkkbAZtFxOfpOrOAzdLnbYDPcrafnpattqoOinJEdXZuZmZW076gFfeSj+ljn5tbatKq0uoBewIXRMSrku7g+y5vILl0LKncqaWrq6rDjU6t6QObmZmtZaYD0yPi1fT1MJKwni2pdUR8nnZzz0mXz2Dlrzm3TctWW4Xd4JLerGwHVVnHzMxsbRcRs4DPJO2YFnUD3geGA/3Ssn7Av9Lnw4GfpHeFdwEW5nSXr5bKWtY7V3JtWngkMzMzW39cAPxD0gbAJ8DpJA3fRyWdCUwFeqXrjgCOAiYDi9N1q6WysN6pkuUAy6t7cDMzs7VJRLwNlHVdu1sZ6wZwXk0ct8Kw9rVqMzOzwqvqV7fMrDZdXugKmFmWOKzNMuJefuqQNrMyVSmsJd1SlTIzMzOreVVtWR9WRln3mqyImaXcujazUiq8wUzSz4CfAz8o9RWujYH/y2fFzMzMLFHZV7eGAM8CN7PykGpfR8T8vNXKzMzMSlQW1nWBryjje2KSWjiwzczM8q+ysH4DKB6QXKWWBfCDGq+RmQEwvP3hha6CmWVEZYOibFNbFTGzVT370nGFroKZZUCVv2ctqbmkTpK6Fj/yWTGz9Ur/5B+3ps2sLFWaIlPSWcCFJNN7vQ10AV4BDslbzczWYw5tM8tV1Zb1hcDewNSIOBjYA1hQ0QaSBkmaI+m9cpafLOkdSe9KGiOpfc6yIyVNkjRZ0hVlbW+2rnJQm1lpVQ3r7yLiOwBJDSLiA2DHSrYZDBxZwfJPgQMjYnfgBmBguv+6wN0kg67sAvSRtEsV62lmZrbOqVI3ODBdUjPgSWCkpC9J5uwsV0S8JKldBcvH5LwcS9LFDtAJmBwRnwBIehg4hmSCbzMzs/VOlcI6InqmT/tLGgU0Bf5dg/U4k2TwFYA2wGc5y6YDncvbUNI5wDnJq81rsEpmZmbZsNqzbkXEixExPCKW1kQFJB1MEtbVGhE5IgZGRMeI6AjNaqJKZgVR+mta9/LTAtXEzLKmqt3geSHph8D9QPeImJcWzwC2zFmtbVpmZma2XirYfNaStgIeB06NiA9zFr0ObC9pG0kbAL2B4YWoo5mZWRbkrWUtaShwENBS0nTgWqA+QETcC/wG2AS4RxJAUdqdXSTpfOA/JGOTD4qICfmqp1kWuQvczHLlLawjok8ly88Czipn2QhgRD7qZZZl9/JTzuUv3xf0L1hVzCxDCtYNbmZlW6VVPerVwlTEzDLDYW2WUZ7Ew8yKOazNCs0tZzOrhMPazMws4xzWZmZmGeewNjMzyziHtVkG+eYyM8vlsDYzM8s4h7WZmVnGOazNzMwyzmFtliErXavuX7BqmFnGOKzNMsY3l5lZaQ5rMzOzjHNYm2WZhyI1MxzWZtnRv9AVMLOsclibmZllnMPazMws4xzWZlnUv9AVMLMscVibmZllnMPazMws4xzWZmZmGeewNsuS/oWugJllkcPaLGv6F7oCZpY1DmszM7OMc1ibZYGHFTVbK0iqK+ktSU+nrwdL+lTS2+mjQ1ouSXdKmizpHUl7rslx69VA3c3MzNYXFwITgSY5ZZdGxLBS63UHtk8fnYE/p/9Wi1vWZmZmVSCpLdADuL8Kqx8D/C0SY4FmklpX99gOazMzs6r5I3AZsKJU+U1pV/cfJDVIy9oAn+WsMz0tqxZ3g5tlla9jm5Xpq0XNePal4/Kx65aSxuW8HhgRAwEk/QiYExFvSDooZ50rgVnABsBA4HLg+pqumMPazMwsMTciOpazbD/gaElHAQ2BJpL+HhGnpMuXSHoA+FX6egawZc72bdOyanE3uJmZWSUi4sqIaBsR7YDewAsRcUrxdWhJAo4F3ks3GQ78JL0rvAuwMCI+r+7x3bI2MzOrvn9IagUIeBs4Ny0fARwFTAYWA6evyUEc1mZZ5OvVZpkVEaOB0enzQ8pZJ4DzauqY7gY3ywoHtJmVw2FtZmaWce4GN8sSt67NrAxuWZuZmWWcw9rMzCzjHNZmZmYZ57A2MzPLOIe1mZlZxjmszczMMs5hbWZmlnEOazMzs4xzWJuZmWWcw9rMzCzjHNZmZmYZ57A2MzPLOIe1mZlZxjmszczMMs5hbWZmlnEOazMzs4xzWJuZmWWcw9rMzCzjHNZmZmYZ57A2MzPLuLyFtaRBkuZIeq+c5TtJekXSEkm/KrVsiqR3Jb0taVy+6mhmZrY2yGfLejBwZAXL5wO/AG4rZ/nBEdEhIjrWdMXMzMzWJnkL64h4iSSQy1s+JyJeB5blqw5mZmbrgqxesw7gOUlvSDqn0JUxMzMrpHqFrkA59o+IGZI2BUZK+iBtqa8iDfM00DevvRqamZnVkky2rCNiRvrvHOAJoFMF6w6MiI7Jte1mtVRDMzOz2pO5sJa0kaSNi58DhwNl3lFuZma2PshbN7ikocBBQEtJ04FrgfoAEXGvpM2BcUATYIWki4BdgJbAE5KK6zckIv6dr3qamZllXd7COiL6VLJ8FtC2jEVfAe3zUikzM7O1UOa6wc3MzGxlDmszM7OMc1ibmZllnMPazMws4xzWZmZmGeewNjMzyziHtZmZWcY5rM3MzDLOYW1mZpZxDmszM7OMc1ibmZllnMPazMws4xzWZmZmGeewNjMzq4SkhpJekzRe0gRJ16Xl20h6VdJkSY9I2iAtb5C+npwub7cmx3dYm5mZVW4JcEhEtAc6AEdK6gLcAvwhIrYDvgTOTNc/E/gyLf9Dul61OazNzMwqEYlF6cv66SOAQ4BhafmDwLHp82PS16TLu0lSdY/vsDYzM6sCSXUlvQ3MAUYCHwMLIqIoXWU60CZ93gb4DCBdvhDYpLrHdlibmZklWkoal/M4J3dhRCyPiA5AW6ATsFNtVaxebR3IzMysRswE+udlz3MjomNlK0XEAkmjgH2AZpLqpa3ntsCMdLUZwJbAdEn1gKbAvOpWzC1rMzOzSkhqJalZ+rwRcBgwERgFnJCu1g/4V/p8ePqadPkLERHVPb5b1mZmZpVrDTwoqS5JQ/fRiHha0vvAw5JuBN4C/pqu/1fgIUmTgflA7zU5uMPazMysEhHxDrBHGeWfkFy/Ll3+HXBiTR3f3eBmZmYZ57A2MzPLOIe1mZlZxjmszczMMs5hbWZmlnEOazMzs4xzWJuZmWWcw9rMzCzjHNZmZmYZ57A2MzPLOIe1mZlZxjmszczMMs5hbWZmlnEOazMzs4xzWJuZmWWcw9rMzCzjHNZmZmYZ57A2MzPLOIe1mZlZxjmszczMMs5hbWZmlnEOazMzs4xzWJuZmWWcw9rMzCzjHNZmZmYZ57A2MzPLOIe1mZlZxjmszczMMs5hbWZmlnEOazMzs4xzWJuZmWWcw9rMzCzjHNZmZmYZ57A2MzPLOIe1mZlZxuUtrCUNkjRH0nvlLN9J0iuSlkj6VallR0qaJGmypCvyVUczM7O1QT5b1oOBIytYPh/4BXBbbqGkusDdQHdgF6CPpF3yVEczM7PMy1tYR8RLJIFc3vI5EfE6sKzUok7A5Ij4JCKWAg8Dx+SrnmZmZlmXxWvWbYDPcl5PT8vKJOkcSeMkjYMF+a6bmZlZrctiWK+WiBgYER0joiM0K3R1zMzMalwWw3oGsGXO67ZpmZmZ2Xopi2H9OrC9pG0kbQD0BoYXuE5mZmYFUy9fO5Y0FDgIaClpOnAtUB8gIu6VtDkwDmgCrJB0EbBLRHwl6XzgP0BdYFBETMhXPc3MzLIub2EdEX0qWT6LpIu7rGUjgBH5qJeZmdnaJovd4GZmZpbDYW1mZpZxDmszM7MqKGsYbUn9Jc2Q9Hb6OCpn2ZXpsNmTJB2xJsd2WJuZmVXNYMoeRvsPEdEhfYwASIfJ7g3smm5zTzqcdrU4rM3MzKqgsmG0SzkGeDgilkTEp8BkkuG0q8VhbWZmlmhZPHx1+jinitudL+mdtJu8eVq2WkNnVyZvX90yMzPLi6+/gVGv5mPPc5Ohq1fLn4EbgEj/vR04o6Yr5pa1mZlZNUXE7IhYHhErgPv4vqu7RofOdlibmZlVk6TWOS97AsV3ig8HektqIGkbYHvgteoex93gZmZmVVDOMNoHSepA0g0+BfgpQERMkPQo8D5QBJwXEcure2yHtZmZWRWUM4z2XytY/ybgppo4trvBzczMMs5hbWZmlnEOazMzs4xzWJuZmWWcw9rMzCzjHNZmZmYZ57A2MzPLOIe1mZlZxjmszczMMs5hbWZmlnEOazMzs4xzWJuZmWWcw9rMzCzjHNZmZmYZ57A2MzPLOIe1mZlZxjmszczMMs5hbWZmlnEOazMzs4xzWJuZmWWcw9rMzCzjHNZmZmYZ57A2MzPLOIe1mZlZxjmszczMMs5hbWZmlnEOazMzs4xzWJuZmWWcw9rMzCzjHNZmZmYZ57A2MzPLOIe1mZlZxjmszczMMs5hbWZmlnEOazMzs4xzWJuZmWWcw9rMzCzjHNZmZmYZ57A2MzPLOIe1mZlZxjmszczMMs5hbWZmlnEOazMzs4xzWJuZmWWcw9rMzCzj8hbWkgZJmiPpvXKWS9KdkiZLekfSnjnLlkt6O30Mz1cdzczMqkrSkZImpbl1RW0eO58t68HAkRUs7w5snz7OAf6cs+zbiOiQPo7OXxXNzMwqJ6kucDdJdu0C9JG0S20dP29hHREvAfMrWOUY4G+RGAs0k9Q6X/UxMzNbA52AyRHxSUQsBR4mybFaUchr1m2Az3JeT0/LABpKGidprKRja71mZmZmK6sos/KuXm0daDVtHREzJP0AeEHSuxHxcVkrSjqHpBsdYBF0mVRrtayelsDcQlciQ3w+VuVzsiqfk5Vl+nxIJU+3zs8RPvgPdGmZhx03lDQu5/XAiBiYh+OstkKG9Qxgy5zXbdMyIqL4308kjQb2AMoM6/REZuJkVoWkcRHRsdD1yAqfj1X5nKzK52Rl6/v5iIiK7ofKl3IzqzYUsht8OPCT9K7wLsDCiPhcUnNJDQAktQT2A94vYD3NzMxeB7aXtI2kDYDeJDlWK/LWspY0FDgIaClpOnAtUB8gIu4FRgBHAZOBxcDp6aY7A3+RtILkw8SAiHBYm5lZwUREkaTzgf8AdYFBETGhto6ft7COiD6VLA/gvDLKxwC756teGbDWdNnXEp+PVfmcrMrnZGU+HwUQESNIGpq1TklmmpmZWVZ5uFEzM7OMc1jnmaQWkkZK+ij9t3kF6zaRNF3SXbVZx9pUlfMhqYOkVyRNSIeiPakQdc23yoYulNRA0iPp8lcltStANWtNFc7HLyW9n/5OPC8pT18Lyo6qDm8p6XhJIWm9vUN8Xeewzr8rgOcjYnvg+fR1eW4AXqqVWhVOVc7HYuAnEbEryZC1f5TUrPaqmH9VHLrwTODLiNgO+ANwS+3WsvZU8Xy8BXSMiB8Cw4Df1W4ta1dVh7eUtDFwIfBq7dbQapPDOv+OAR5Mnz8IHFvWSpL2AjYDnqudahVMpecjIj6MiI/S5zOBOUCr2qpgLanK0IW552oY0E3KGW5i3VLp+YiIURGxOH05luR7ruuyqg5veQPJB7nvarNyVrsc1vm3WUR8nj6fRRLIK5FUB7gd+FVtVqxAKj0fuSR1AjagnEFx1mJVGbqwZJ2IKAIWApvUSu1q3+oO5Xgm8Gxea1R4lZ6TdLbCLSPimdqsmNW+rA43ulaR9F9g8zIWXZ37IiJCUlm33/8cGBER09eFhlMNnI/i/bQGHgL6RcSKmq2lra0knQJ0BA4sdF0KKf2Q/3vgtAJXxWqBw7oGRMSh5S2TNFtS63R0ttYkXbql7QMcIOnnQGNgA0mLIqJW50utKTVwPpDUBHgGuDqdlW1dU5WhC4vXmS6pHtAUmFc71at1VRrKUdKhJB/6DoyIJbVUt0Kp7JxsDOwGjE4/5G8ODJd0dETkjm9t6wB3g+ffcKBf+rwf8K/SK0TEyRGxVUS0I+kK/9vaGtRVUOn5SIfye4LkPAyrxbrVpqoMXZh7rk4AXoh1d2CESs+HpD2AvwBHR0SZH/LWMRWek4hYGBEtI6Jd+rdjLMm5cVCvgxzW+TcAOEzSR8Ch6WskdZR0f0FrVhhVOR+9gK7AaZLeTh8dClLbPEmvQRcPXTgReDQiJki6XtLR6Wp/BTaRNBn4JRV/k2CtVsXzcStJz9Nj6e9ErY3LXAhVPCe2nvAIZmZmZhnnlrWZmVnGOazNzMwyzmFtZmaWcQ5rMzOzjHNYm5mZZZzD2szMLOMc1mYFJml0Og3iGn13VtIUSS0lNUq/h7xUUsuaqqeZFY6HGzXLhpPLGnlKUr10cIwqi4hvgQ6SptRU5cyssBzWZjVE0pMkYzk3BO6IiIFpa/n6dJVGwAYRsU0l+xkNvA3sDwyV9CFwDcnsY/NIgn22pE2AoSQzMb0CrP2zwJhZmRzWZjXnjIiYL6kR8Lqkf0bEcNLxnCU9CrxYxX1tEBEd0+2aA13SWcrOAi4DLgGuBV6OiOsl9SCZNtLM1kEOa7Oa8wtJPdPnWwLbk86SJeky4NuIuLuK+3ok53lb4JF0lrINgE/T8q7AcQAR8YykL9ew/maWUb7BzKwGSDqIZGKSfSKiPfAWSXd48bSOJwLnrsYuv8l5/ifgrojYHfhp8X7NbP3hsDarGU2BLyNisaSdgC4AkrYG7gZOTG/8qu6+i+cx7pdT/hLQNz1Od6B5NfdvZhnnsDarGf8G6kmaSDLt59i0/DRgE+DJ9OtUI6qx7/4k00K+AczNKb8O6CppAkl3+LRq1t3MMs5TZJoVWHr396/K+urWGu53CtAxIuZWtq6ZZZtb1maFNx8YvKaDohQrHhQFqA+sqIl9mllhuWVtZmaWcW5Zm5mZZZzD2szMLOMc1mZmZhnnsDYzM8s4h7WZmVnG/T/fl6IItowkggAAAABJRU5ErkJggg==\n",
      "text/plain": [
       "<Figure size 576x576 with 2 Axes>"
      ]
     },
     "metadata": {
      "needs_background": "light"
     },
     "output_type": "display_data"
    },
    {
     "data": {
      "image/png": "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\n",
      "text/plain": [
       "<Figure size 576x576 with 2 Axes>"
      ]
     },
     "metadata": {
      "needs_background": "light"
     },
     "output_type": "display_data"
    },
    {
     "data": {
      "image/png": "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\n",
      "text/plain": [
       "<Figure size 576x576 with 2 Axes>"
      ]
     },
     "metadata": {
      "needs_background": "light"
     },
     "output_type": "display_data"
    },
    {
     "name": "stderr",
     "output_type": "stream",
     "text": [
      "/mnt/d/sebas/Google Drive/Projects/gerumo/gerumo/visualization/metrics.py:192: MatplotlibDeprecationWarning: The 'extend' parameter to Colorbar has no effect because it is overridden by the mappable; it is deprecated since 3.3 and will be removed two minor releases later.\n",
      "  plt.colorbar(im, ax=axis, extend='max')\n"
     ]
    },
    {
     "data": {
      "image/png": "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\n",
      "text/plain": [
       "<Figure size 576x576 with 2 Axes>"
      ]
     },
     "metadata": {
      "needs_background": "light"
     },
     "output_type": "display_data"
    },
    {
     "data": {
      "image/png": "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\n",
      "text/plain": [
       "<Figure size 576x576 with 2 Axes>"
      ]
     },
     "metadata": {
      "needs_background": "light"
     },
     "output_type": "display_data"
    },
    {
     "name": "stdout",
     "output_type": "stream",
     "text": [
      "\n"
     ]
    },
    {
     "ename": "KeyboardInterrupt",
     "evalue": "",
     "output_type": "error",
     "traceback": [
      "\u001b[0;31m---------------------------------------------------------------------------\u001b[0m",
      "\u001b[0;31mKeyboardInterrupt\u001b[0m                         Traceback (most recent call last)",
      "\u001b[0;32m<ipython-input-52-d918311c6f48>\u001b[0m in \u001b[0;36m<module>\u001b[0;34m\u001b[0m\n\u001b[1;32m     34\u001b[0m \u001b[0;34m\u001b[0m\u001b[0m\n\u001b[1;32m     35\u001b[0m         \u001b[0;31m# Predictions\u001b[0m\u001b[0;34m\u001b[0m\u001b[0;34m\u001b[0m\u001b[0;34m\u001b[0m\u001b[0m\n\u001b[0;32m---> 36\u001b[0;31m         \u001b[0mp\u001b[0m \u001b[0;34m=\u001b[0m \u001b[0massembler\u001b[0m\u001b[0;34m.\u001b[0m\u001b[0mmodel_estimation\u001b[0m\u001b[0;34m(\u001b[0m\u001b[0mx\u001b[0m\u001b[0;34m,\u001b[0m \u001b[0mtelescope_i\u001b[0m\u001b[0;34m,\u001b[0m \u001b[0;36m0\u001b[0m\u001b[0;34m)\u001b[0m\u001b[0;34m\u001b[0m\u001b[0;34m\u001b[0m\u001b[0m\n\u001b[0m\u001b[1;32m     37\u001b[0m         \u001b[0mp_points\u001b[0m \u001b[0;34m=\u001b[0m \u001b[0massembler\u001b[0m\u001b[0;34m.\u001b[0m\u001b[0mpoint_estimation\u001b[0m\u001b[0;34m(\u001b[0m\u001b[0mp\u001b[0m\u001b[0;34m)\u001b[0m\u001b[0;34m\u001b[0m\u001b[0;34m\u001b[0m\u001b[0m\n\u001b[1;32m     38\u001b[0m         \u001b[0mpredictions_points\u001b[0m\u001b[0;34m.\u001b[0m\u001b[0mextend\u001b[0m\u001b[0;34m(\u001b[0m\u001b[0mp_points\u001b[0m\u001b[0;34m)\u001b[0m\u001b[0;34m\u001b[0m\u001b[0;34m\u001b[0m\u001b[0m\n",
      "\u001b[0;32m/mnt/d/sebas/Google Drive/Projects/gerumo/gerumo/models/bmo.py\u001b[0m in \u001b[0;36mmodel_estimation\u001b[0;34m(self, x_i_telescope, telescope, verbose, **kwargs)\u001b[0m\n\u001b[1;32m    188\u001b[0m     \u001b[0;32mdef\u001b[0m \u001b[0mmodel_estimation\u001b[0m\u001b[0;34m(\u001b[0m\u001b[0mself\u001b[0m\u001b[0;34m,\u001b[0m \u001b[0mx_i_telescope\u001b[0m\u001b[0;34m,\u001b[0m \u001b[0mtelescope\u001b[0m\u001b[0;34m,\u001b[0m \u001b[0mverbose\u001b[0m\u001b[0;34m,\u001b[0m \u001b[0;34m**\u001b[0m\u001b[0mkwargs\u001b[0m\u001b[0;34m)\u001b[0m\u001b[0;34m:\u001b[0m\u001b[0;34m\u001b[0m\u001b[0;34m\u001b[0m\u001b[0m\n\u001b[1;32m    189\u001b[0m         \u001b[0mmodel_telescope\u001b[0m \u001b[0;34m=\u001b[0m \u001b[0mself\u001b[0m\u001b[0;34m.\u001b[0m\u001b[0mmodels\u001b[0m\u001b[0;34m[\u001b[0m\u001b[0mtelescope\u001b[0m\u001b[0;34m]\u001b[0m\u001b[0;34m\u001b[0m\u001b[0;34m\u001b[0m\u001b[0m\n\u001b[0;32m--> 190\u001b[0;31m         \u001b[0my_predictions\u001b[0m\u001b[0;34m,\u001b[0m \u001b[0m_\u001b[0m \u001b[0;34m=\u001b[0m \u001b[0mBMO\u001b[0m\u001b[0;34m.\u001b[0m\u001b[0mbayesian_estimation\u001b[0m\u001b[0;34m(\u001b[0m\u001b[0mmodel_telescope\u001b[0m\u001b[0;34m,\u001b[0m \u001b[0mx_i_telescope\u001b[0m\u001b[0;34m,\u001b[0m \u001b[0mself\u001b[0m\u001b[0;34m.\u001b[0m\u001b[0msample_size\u001b[0m\u001b[0;34m,\u001b[0m \u001b[0mverbose\u001b[0m\u001b[0;34m,\u001b[0m \u001b[0;34m**\u001b[0m\u001b[0mkwargs\u001b[0m\u001b[0;34m)\u001b[0m\u001b[0;34m\u001b[0m\u001b[0;34m\u001b[0m\u001b[0m\n\u001b[0m\u001b[1;32m    191\u001b[0m         \u001b[0;32mreturn\u001b[0m \u001b[0my_predictions\u001b[0m\u001b[0;34m\u001b[0m\u001b[0;34m\u001b[0m\u001b[0m\n\u001b[1;32m    192\u001b[0m \u001b[0;34m\u001b[0m\u001b[0m\n",
      "\u001b[0;32m/mnt/d/sebas/Google Drive/Projects/gerumo/gerumo/models/bmo.py\u001b[0m in \u001b[0;36mbayesian_estimation\u001b[0;34m(model, x_i_telescope, sample_size, verbose, **kwargs)\u001b[0m\n\u001b[1;32m    181\u001b[0m     \u001b[0;34m@\u001b[0m\u001b[0mstaticmethod\u001b[0m\u001b[0;34m\u001b[0m\u001b[0;34m\u001b[0m\u001b[0m\n\u001b[1;32m    182\u001b[0m     \u001b[0;32mdef\u001b[0m \u001b[0mbayesian_estimation\u001b[0m\u001b[0;34m(\u001b[0m\u001b[0mmodel\u001b[0m\u001b[0;34m,\u001b[0m \u001b[0mx_i_telescope\u001b[0m\u001b[0;34m,\u001b[0m \u001b[0msample_size\u001b[0m\u001b[0;34m,\u001b[0m \u001b[0mverbose\u001b[0m\u001b[0;34m,\u001b[0m \u001b[0;34m**\u001b[0m\u001b[0mkwargs\u001b[0m\u001b[0;34m)\u001b[0m\u001b[0;34m:\u001b[0m\u001b[0;34m\u001b[0m\u001b[0;34m\u001b[0m\u001b[0m\n\u001b[0;32m--> 183\u001b[0;31m         \u001b[0my_predictions_points\u001b[0m \u001b[0;34m=\u001b[0m \u001b[0mnp\u001b[0m\u001b[0;34m.\u001b[0m\u001b[0marray\u001b[0m\u001b[0;34m(\u001b[0m\u001b[0;34m[\u001b[0m\u001b[0mmodel\u001b[0m\u001b[0;34m.\u001b[0m\u001b[0mpredict\u001b[0m\u001b[0;34m(\u001b[0m\u001b[0mx_i_telescope\u001b[0m\u001b[0;34m,\u001b[0m \u001b[0mverbose\u001b[0m\u001b[0;34m=\u001b[0m\u001b[0mverbose\u001b[0m\u001b[0;34m,\u001b[0m \u001b[0;34m**\u001b[0m\u001b[0mkwargs\u001b[0m\u001b[0;34m)\u001b[0m \u001b[0;32mfor\u001b[0m \u001b[0m_\u001b[0m \u001b[0;32min\u001b[0m \u001b[0mrange\u001b[0m\u001b[0;34m(\u001b[0m\u001b[0msample_size\u001b[0m\u001b[0;34m)\u001b[0m\u001b[0;34m]\u001b[0m\u001b[0;34m)\u001b[0m\u001b[0;34m\u001b[0m\u001b[0;34m\u001b[0m\u001b[0m\n\u001b[0m\u001b[1;32m    184\u001b[0m         \u001b[0my_predictions_points\u001b[0m \u001b[0;34m=\u001b[0m \u001b[0mnp\u001b[0m\u001b[0;34m.\u001b[0m\u001b[0mswapaxes\u001b[0m\u001b[0;34m(\u001b[0m\u001b[0mnp\u001b[0m\u001b[0;34m.\u001b[0m\u001b[0mswapaxes\u001b[0m\u001b[0;34m(\u001b[0m\u001b[0my_predictions_points\u001b[0m\u001b[0;34m,\u001b[0m \u001b[0;36m0\u001b[0m\u001b[0;34m,\u001b[0m \u001b[0;36m1\u001b[0m\u001b[0;34m)\u001b[0m\u001b[0;34m,\u001b[0m \u001b[0;36m1\u001b[0m\u001b[0;34m,\u001b[0m \u001b[0;36m2\u001b[0m\u001b[0;34m)\u001b[0m\u001b[0;34m\u001b[0m\u001b[0;34m\u001b[0m\u001b[0m\n\u001b[1;32m    185\u001b[0m         \u001b[0my_predictions_kde\u001b[0m    \u001b[0;34m=\u001b[0m \u001b[0;34m[\u001b[0m\u001b[0mst\u001b[0m\u001b[0;34m.\u001b[0m\u001b[0mgaussian_kde\u001b[0m\u001b[0;34m(\u001b[0m\u001b[0my_predictions_point\u001b[0m\u001b[0;34m)\u001b[0m \u001b[0;32mfor\u001b[0m \u001b[0my_predictions_point\u001b[0m \u001b[0;32min\u001b[0m \u001b[0my_predictions_points\u001b[0m\u001b[0;34m]\u001b[0m\u001b[0;34m\u001b[0m\u001b[0;34m\u001b[0m\u001b[0m\n",
      "\u001b[0;32m/mnt/d/sebas/Google Drive/Projects/gerumo/gerumo/models/bmo.py\u001b[0m in \u001b[0;36m<listcomp>\u001b[0;34m(.0)\u001b[0m\n\u001b[1;32m    181\u001b[0m     \u001b[0;34m@\u001b[0m\u001b[0mstaticmethod\u001b[0m\u001b[0;34m\u001b[0m\u001b[0;34m\u001b[0m\u001b[0m\n\u001b[1;32m    182\u001b[0m     \u001b[0;32mdef\u001b[0m \u001b[0mbayesian_estimation\u001b[0m\u001b[0;34m(\u001b[0m\u001b[0mmodel\u001b[0m\u001b[0;34m,\u001b[0m \u001b[0mx_i_telescope\u001b[0m\u001b[0;34m,\u001b[0m \u001b[0msample_size\u001b[0m\u001b[0;34m,\u001b[0m \u001b[0mverbose\u001b[0m\u001b[0;34m,\u001b[0m \u001b[0;34m**\u001b[0m\u001b[0mkwargs\u001b[0m\u001b[0;34m)\u001b[0m\u001b[0;34m:\u001b[0m\u001b[0;34m\u001b[0m\u001b[0;34m\u001b[0m\u001b[0m\n\u001b[0;32m--> 183\u001b[0;31m         \u001b[0my_predictions_points\u001b[0m \u001b[0;34m=\u001b[0m \u001b[0mnp\u001b[0m\u001b[0;34m.\u001b[0m\u001b[0marray\u001b[0m\u001b[0;34m(\u001b[0m\u001b[0;34m[\u001b[0m\u001b[0mmodel\u001b[0m\u001b[0;34m.\u001b[0m\u001b[0mpredict\u001b[0m\u001b[0;34m(\u001b[0m\u001b[0mx_i_telescope\u001b[0m\u001b[0;34m,\u001b[0m \u001b[0mverbose\u001b[0m\u001b[0;34m=\u001b[0m\u001b[0mverbose\u001b[0m\u001b[0;34m,\u001b[0m \u001b[0;34m**\u001b[0m\u001b[0mkwargs\u001b[0m\u001b[0;34m)\u001b[0m \u001b[0;32mfor\u001b[0m \u001b[0m_\u001b[0m \u001b[0;32min\u001b[0m \u001b[0mrange\u001b[0m\u001b[0;34m(\u001b[0m\u001b[0msample_size\u001b[0m\u001b[0;34m)\u001b[0m\u001b[0;34m]\u001b[0m\u001b[0;34m)\u001b[0m\u001b[0;34m\u001b[0m\u001b[0;34m\u001b[0m\u001b[0m\n\u001b[0m\u001b[1;32m    184\u001b[0m         \u001b[0my_predictions_points\u001b[0m \u001b[0;34m=\u001b[0m \u001b[0mnp\u001b[0m\u001b[0;34m.\u001b[0m\u001b[0mswapaxes\u001b[0m\u001b[0;34m(\u001b[0m\u001b[0mnp\u001b[0m\u001b[0;34m.\u001b[0m\u001b[0mswapaxes\u001b[0m\u001b[0;34m(\u001b[0m\u001b[0my_predictions_points\u001b[0m\u001b[0;34m,\u001b[0m \u001b[0;36m0\u001b[0m\u001b[0;34m,\u001b[0m \u001b[0;36m1\u001b[0m\u001b[0;34m)\u001b[0m\u001b[0;34m,\u001b[0m \u001b[0;36m1\u001b[0m\u001b[0;34m,\u001b[0m \u001b[0;36m2\u001b[0m\u001b[0;34m)\u001b[0m\u001b[0;34m\u001b[0m\u001b[0;34m\u001b[0m\u001b[0m\n\u001b[1;32m    185\u001b[0m         \u001b[0my_predictions_kde\u001b[0m    \u001b[0;34m=\u001b[0m \u001b[0;34m[\u001b[0m\u001b[0mst\u001b[0m\u001b[0;34m.\u001b[0m\u001b[0mgaussian_kde\u001b[0m\u001b[0;34m(\u001b[0m\u001b[0my_predictions_point\u001b[0m\u001b[0;34m)\u001b[0m \u001b[0;32mfor\u001b[0m \u001b[0my_predictions_point\u001b[0m \u001b[0;32min\u001b[0m \u001b[0my_predictions_points\u001b[0m\u001b[0;34m]\u001b[0m\u001b[0;34m\u001b[0m\u001b[0;34m\u001b[0m\u001b[0m\n",
      "\u001b[0;32m~/miniconda3/envs/tf2/lib/python3.7/site-packages/tensorflow_core/python/keras/engine/training.py\u001b[0m in \u001b[0;36mpredict\u001b[0;34m(self, x, batch_size, verbose, steps, callbacks, max_queue_size, workers, use_multiprocessing)\u001b[0m\n\u001b[1;32m   1011\u001b[0m         \u001b[0mmax_queue_size\u001b[0m\u001b[0;34m=\u001b[0m\u001b[0mmax_queue_size\u001b[0m\u001b[0;34m,\u001b[0m\u001b[0;34m\u001b[0m\u001b[0;34m\u001b[0m\u001b[0m\n\u001b[1;32m   1012\u001b[0m         \u001b[0mworkers\u001b[0m\u001b[0;34m=\u001b[0m\u001b[0mworkers\u001b[0m\u001b[0;34m,\u001b[0m\u001b[0;34m\u001b[0m\u001b[0;34m\u001b[0m\u001b[0m\n\u001b[0;32m-> 1013\u001b[0;31m         use_multiprocessing=use_multiprocessing)\n\u001b[0m\u001b[1;32m   1014\u001b[0m \u001b[0;34m\u001b[0m\u001b[0m\n\u001b[1;32m   1015\u001b[0m   \u001b[0;32mdef\u001b[0m \u001b[0mreset_metrics\u001b[0m\u001b[0;34m(\u001b[0m\u001b[0mself\u001b[0m\u001b[0;34m)\u001b[0m\u001b[0;34m:\u001b[0m\u001b[0;34m\u001b[0m\u001b[0;34m\u001b[0m\u001b[0m\n",
      "\u001b[0;32m~/miniconda3/envs/tf2/lib/python3.7/site-packages/tensorflow_core/python/keras/engine/training_v2.py\u001b[0m in \u001b[0;36mpredict\u001b[0;34m(self, model, x, batch_size, verbose, steps, callbacks, max_queue_size, workers, use_multiprocessing, **kwargs)\u001b[0m\n\u001b[1;32m    496\u001b[0m         \u001b[0mmodel\u001b[0m\u001b[0;34m,\u001b[0m \u001b[0mModeKeys\u001b[0m\u001b[0;34m.\u001b[0m\u001b[0mPREDICT\u001b[0m\u001b[0;34m,\u001b[0m \u001b[0mx\u001b[0m\u001b[0;34m=\u001b[0m\u001b[0mx\u001b[0m\u001b[0;34m,\u001b[0m \u001b[0mbatch_size\u001b[0m\u001b[0;34m=\u001b[0m\u001b[0mbatch_size\u001b[0m\u001b[0;34m,\u001b[0m \u001b[0mverbose\u001b[0m\u001b[0;34m=\u001b[0m\u001b[0mverbose\u001b[0m\u001b[0;34m,\u001b[0m\u001b[0;34m\u001b[0m\u001b[0;34m\u001b[0m\u001b[0m\n\u001b[1;32m    497\u001b[0m         \u001b[0msteps\u001b[0m\u001b[0;34m=\u001b[0m\u001b[0msteps\u001b[0m\u001b[0;34m,\u001b[0m \u001b[0mcallbacks\u001b[0m\u001b[0;34m=\u001b[0m\u001b[0mcallbacks\u001b[0m\u001b[0;34m,\u001b[0m \u001b[0mmax_queue_size\u001b[0m\u001b[0;34m=\u001b[0m\u001b[0mmax_queue_size\u001b[0m\u001b[0;34m,\u001b[0m\u001b[0;34m\u001b[0m\u001b[0;34m\u001b[0m\u001b[0m\n\u001b[0;32m--> 498\u001b[0;31m         workers=workers, use_multiprocessing=use_multiprocessing, **kwargs)\n\u001b[0m\u001b[1;32m    499\u001b[0m \u001b[0;34m\u001b[0m\u001b[0m\n\u001b[1;32m    500\u001b[0m \u001b[0;34m\u001b[0m\u001b[0m\n",
      "\u001b[0;32m~/miniconda3/envs/tf2/lib/python3.7/site-packages/tensorflow_core/python/keras/engine/training_v2.py\u001b[0m in \u001b[0;36m_model_iteration\u001b[0;34m(self, model, mode, x, y, batch_size, verbose, sample_weight, steps, callbacks, max_queue_size, workers, use_multiprocessing, **kwargs)\u001b[0m\n\u001b[1;32m    473\u001b[0m               \u001b[0mmode\u001b[0m\u001b[0;34m=\u001b[0m\u001b[0mmode\u001b[0m\u001b[0;34m,\u001b[0m\u001b[0;34m\u001b[0m\u001b[0;34m\u001b[0m\u001b[0m\n\u001b[1;32m    474\u001b[0m               \u001b[0mtraining_context\u001b[0m\u001b[0;34m=\u001b[0m\u001b[0mtraining_context\u001b[0m\u001b[0;34m,\u001b[0m\u001b[0;34m\u001b[0m\u001b[0;34m\u001b[0m\u001b[0m\n\u001b[0;32m--> 475\u001b[0;31m               total_epochs=1)\n\u001b[0m\u001b[1;32m    476\u001b[0m           \u001b[0mcbks\u001b[0m\u001b[0;34m.\u001b[0m\u001b[0mmake_logs\u001b[0m\u001b[0;34m(\u001b[0m\u001b[0mmodel\u001b[0m\u001b[0;34m,\u001b[0m \u001b[0mepoch_logs\u001b[0m\u001b[0;34m,\u001b[0m \u001b[0mresult\u001b[0m\u001b[0;34m,\u001b[0m \u001b[0mmode\u001b[0m\u001b[0;34m)\u001b[0m\u001b[0;34m\u001b[0m\u001b[0;34m\u001b[0m\u001b[0m\n\u001b[1;32m    477\u001b[0m \u001b[0;34m\u001b[0m\u001b[0m\n",
      "\u001b[0;32m~/miniconda3/envs/tf2/lib/python3.7/site-packages/tensorflow_core/python/keras/engine/training_v2.py\u001b[0m in \u001b[0;36mrun_one_epoch\u001b[0;34m(model, iterator, execution_function, dataset_size, batch_size, strategy, steps_per_epoch, num_samples, mode, training_context, total_epochs)\u001b[0m\n\u001b[1;32m    126\u001b[0m         step=step, mode=mode, size=current_batch_size) as batch_logs:\n\u001b[1;32m    127\u001b[0m       \u001b[0;32mtry\u001b[0m\u001b[0;34m:\u001b[0m\u001b[0;34m\u001b[0m\u001b[0;34m\u001b[0m\u001b[0m\n\u001b[0;32m--> 128\u001b[0;31m         \u001b[0mbatch_outs\u001b[0m \u001b[0;34m=\u001b[0m \u001b[0mexecution_function\u001b[0m\u001b[0;34m(\u001b[0m\u001b[0miterator\u001b[0m\u001b[0;34m)\u001b[0m\u001b[0;34m\u001b[0m\u001b[0;34m\u001b[0m\u001b[0m\n\u001b[0m\u001b[1;32m    129\u001b[0m       \u001b[0;32mexcept\u001b[0m \u001b[0;34m(\u001b[0m\u001b[0mStopIteration\u001b[0m\u001b[0;34m,\u001b[0m \u001b[0merrors\u001b[0m\u001b[0;34m.\u001b[0m\u001b[0mOutOfRangeError\u001b[0m\u001b[0;34m)\u001b[0m\u001b[0;34m:\u001b[0m\u001b[0;34m\u001b[0m\u001b[0;34m\u001b[0m\u001b[0m\n\u001b[1;32m    130\u001b[0m         \u001b[0;31m# TODO(kaftan): File bug about tf function and errors.OutOfRangeError?\u001b[0m\u001b[0;34m\u001b[0m\u001b[0;34m\u001b[0m\u001b[0;34m\u001b[0m\u001b[0m\n",
      "\u001b[0;32m~/miniconda3/envs/tf2/lib/python3.7/site-packages/tensorflow_core/python/keras/engine/training_v2_utils.py\u001b[0m in \u001b[0;36mexecution_function\u001b[0;34m(input_fn)\u001b[0m\n\u001b[1;32m     96\u001b[0m     \u001b[0;31m# `numpy` translates Tensors to values in Eager mode.\u001b[0m\u001b[0;34m\u001b[0m\u001b[0;34m\u001b[0m\u001b[0;34m\u001b[0m\u001b[0m\n\u001b[1;32m     97\u001b[0m     return nest.map_structure(_non_none_constant_value,\n\u001b[0;32m---> 98\u001b[0;31m                               distributed_function(input_fn))\n\u001b[0m\u001b[1;32m     99\u001b[0m \u001b[0;34m\u001b[0m\u001b[0m\n\u001b[1;32m    100\u001b[0m   \u001b[0;32mreturn\u001b[0m \u001b[0mexecution_function\u001b[0m\u001b[0;34m\u001b[0m\u001b[0;34m\u001b[0m\u001b[0m\n",
      "\u001b[0;32m~/miniconda3/envs/tf2/lib/python3.7/site-packages/tensorflow_core/python/eager/def_function.py\u001b[0m in \u001b[0;36m__call__\u001b[0;34m(self, *args, **kwds)\u001b[0m\n\u001b[1;32m    566\u001b[0m         \u001b[0mxla_context\u001b[0m\u001b[0;34m.\u001b[0m\u001b[0mExit\u001b[0m\u001b[0;34m(\u001b[0m\u001b[0;34m)\u001b[0m\u001b[0;34m\u001b[0m\u001b[0;34m\u001b[0m\u001b[0m\n\u001b[1;32m    567\u001b[0m     \u001b[0;32melse\u001b[0m\u001b[0;34m:\u001b[0m\u001b[0;34m\u001b[0m\u001b[0;34m\u001b[0m\u001b[0m\n\u001b[0;32m--> 568\u001b[0;31m       \u001b[0mresult\u001b[0m \u001b[0;34m=\u001b[0m \u001b[0mself\u001b[0m\u001b[0;34m.\u001b[0m\u001b[0m_call\u001b[0m\u001b[0;34m(\u001b[0m\u001b[0;34m*\u001b[0m\u001b[0margs\u001b[0m\u001b[0;34m,\u001b[0m \u001b[0;34m**\u001b[0m\u001b[0mkwds\u001b[0m\u001b[0;34m)\u001b[0m\u001b[0;34m\u001b[0m\u001b[0;34m\u001b[0m\u001b[0m\n\u001b[0m\u001b[1;32m    569\u001b[0m \u001b[0;34m\u001b[0m\u001b[0m\n\u001b[1;32m    570\u001b[0m     \u001b[0;32mif\u001b[0m \u001b[0mtracing_count\u001b[0m \u001b[0;34m==\u001b[0m \u001b[0mself\u001b[0m\u001b[0;34m.\u001b[0m\u001b[0m_get_tracing_count\u001b[0m\u001b[0;34m(\u001b[0m\u001b[0;34m)\u001b[0m\u001b[0;34m:\u001b[0m\u001b[0;34m\u001b[0m\u001b[0;34m\u001b[0m\u001b[0m\n",
      "\u001b[0;32m~/miniconda3/envs/tf2/lib/python3.7/site-packages/tensorflow_core/python/eager/def_function.py\u001b[0m in \u001b[0;36m_call\u001b[0;34m(self, *args, **kwds)\u001b[0m\n\u001b[1;32m    604\u001b[0m       \u001b[0;31m# In this case we have not created variables on the first call. So we can\u001b[0m\u001b[0;34m\u001b[0m\u001b[0;34m\u001b[0m\u001b[0;34m\u001b[0m\u001b[0m\n\u001b[1;32m    605\u001b[0m       \u001b[0;31m# run the first trace but we should fail if variables are created.\u001b[0m\u001b[0;34m\u001b[0m\u001b[0;34m\u001b[0m\u001b[0;34m\u001b[0m\u001b[0m\n\u001b[0;32m--> 606\u001b[0;31m       \u001b[0mresults\u001b[0m \u001b[0;34m=\u001b[0m \u001b[0mself\u001b[0m\u001b[0;34m.\u001b[0m\u001b[0m_stateful_fn\u001b[0m\u001b[0;34m(\u001b[0m\u001b[0;34m*\u001b[0m\u001b[0margs\u001b[0m\u001b[0;34m,\u001b[0m \u001b[0;34m**\u001b[0m\u001b[0mkwds\u001b[0m\u001b[0;34m)\u001b[0m\u001b[0;34m\u001b[0m\u001b[0;34m\u001b[0m\u001b[0m\n\u001b[0m\u001b[1;32m    607\u001b[0m       \u001b[0;32mif\u001b[0m \u001b[0mself\u001b[0m\u001b[0;34m.\u001b[0m\u001b[0m_created_variables\u001b[0m\u001b[0;34m:\u001b[0m\u001b[0;34m\u001b[0m\u001b[0;34m\u001b[0m\u001b[0m\n\u001b[1;32m    608\u001b[0m         raise ValueError(\"Creating variables on a non-first call to a function\"\n",
      "\u001b[0;32m~/miniconda3/envs/tf2/lib/python3.7/site-packages/tensorflow_core/python/eager/function.py\u001b[0m in \u001b[0;36m__call__\u001b[0;34m(self, *args, **kwargs)\u001b[0m\n\u001b[1;32m   2361\u001b[0m     \u001b[0;32mwith\u001b[0m \u001b[0mself\u001b[0m\u001b[0;34m.\u001b[0m\u001b[0m_lock\u001b[0m\u001b[0;34m:\u001b[0m\u001b[0;34m\u001b[0m\u001b[0;34m\u001b[0m\u001b[0m\n\u001b[1;32m   2362\u001b[0m       \u001b[0mgraph_function\u001b[0m\u001b[0;34m,\u001b[0m \u001b[0margs\u001b[0m\u001b[0;34m,\u001b[0m \u001b[0mkwargs\u001b[0m \u001b[0;34m=\u001b[0m \u001b[0mself\u001b[0m\u001b[0;34m.\u001b[0m\u001b[0m_maybe_define_function\u001b[0m\u001b[0;34m(\u001b[0m\u001b[0margs\u001b[0m\u001b[0;34m,\u001b[0m \u001b[0mkwargs\u001b[0m\u001b[0;34m)\u001b[0m\u001b[0;34m\u001b[0m\u001b[0;34m\u001b[0m\u001b[0m\n\u001b[0;32m-> 2363\u001b[0;31m     \u001b[0;32mreturn\u001b[0m \u001b[0mgraph_function\u001b[0m\u001b[0;34m.\u001b[0m\u001b[0m_filtered_call\u001b[0m\u001b[0;34m(\u001b[0m\u001b[0margs\u001b[0m\u001b[0;34m,\u001b[0m \u001b[0mkwargs\u001b[0m\u001b[0;34m)\u001b[0m  \u001b[0;31m# pylint: disable=protected-access\u001b[0m\u001b[0;34m\u001b[0m\u001b[0;34m\u001b[0m\u001b[0m\n\u001b[0m\u001b[1;32m   2364\u001b[0m \u001b[0;34m\u001b[0m\u001b[0m\n\u001b[1;32m   2365\u001b[0m   \u001b[0;34m@\u001b[0m\u001b[0mproperty\u001b[0m\u001b[0;34m\u001b[0m\u001b[0;34m\u001b[0m\u001b[0m\n",
      "\u001b[0;32m~/miniconda3/envs/tf2/lib/python3.7/site-packages/tensorflow_core/python/eager/function.py\u001b[0m in \u001b[0;36m_filtered_call\u001b[0;34m(self, args, kwargs)\u001b[0m\n\u001b[1;32m   1609\u001b[0m          if isinstance(t, (ops.Tensor,\n\u001b[1;32m   1610\u001b[0m                            resource_variable_ops.BaseResourceVariable))),\n\u001b[0;32m-> 1611\u001b[0;31m         self.captured_inputs)\n\u001b[0m\u001b[1;32m   1612\u001b[0m \u001b[0;34m\u001b[0m\u001b[0m\n\u001b[1;32m   1613\u001b[0m   \u001b[0;32mdef\u001b[0m \u001b[0m_call_flat\u001b[0m\u001b[0;34m(\u001b[0m\u001b[0mself\u001b[0m\u001b[0;34m,\u001b[0m \u001b[0margs\u001b[0m\u001b[0;34m,\u001b[0m \u001b[0mcaptured_inputs\u001b[0m\u001b[0;34m,\u001b[0m \u001b[0mcancellation_manager\u001b[0m\u001b[0;34m=\u001b[0m\u001b[0;32mNone\u001b[0m\u001b[0;34m)\u001b[0m\u001b[0;34m:\u001b[0m\u001b[0;34m\u001b[0m\u001b[0;34m\u001b[0m\u001b[0m\n",
      "\u001b[0;32m~/miniconda3/envs/tf2/lib/python3.7/site-packages/tensorflow_core/python/eager/function.py\u001b[0m in \u001b[0;36m_call_flat\u001b[0;34m(self, args, captured_inputs, cancellation_manager)\u001b[0m\n\u001b[1;32m   1690\u001b[0m       \u001b[0;31m# No tape is watching; skip to running the function.\u001b[0m\u001b[0;34m\u001b[0m\u001b[0;34m\u001b[0m\u001b[0;34m\u001b[0m\u001b[0m\n\u001b[1;32m   1691\u001b[0m       return self._build_call_outputs(self._inference_function.call(\n\u001b[0;32m-> 1692\u001b[0;31m           ctx, args, cancellation_manager=cancellation_manager))\n\u001b[0m\u001b[1;32m   1693\u001b[0m     forward_backward = self._select_forward_and_backward_functions(\n\u001b[1;32m   1694\u001b[0m         \u001b[0margs\u001b[0m\u001b[0;34m,\u001b[0m\u001b[0;34m\u001b[0m\u001b[0;34m\u001b[0m\u001b[0m\n",
      "\u001b[0;32m~/miniconda3/envs/tf2/lib/python3.7/site-packages/tensorflow_core/python/eager/function.py\u001b[0m in \u001b[0;36mcall\u001b[0;34m(self, ctx, args, cancellation_manager)\u001b[0m\n\u001b[1;32m    543\u001b[0m               \u001b[0minputs\u001b[0m\u001b[0;34m=\u001b[0m\u001b[0margs\u001b[0m\u001b[0;34m,\u001b[0m\u001b[0;34m\u001b[0m\u001b[0;34m\u001b[0m\u001b[0m\n\u001b[1;32m    544\u001b[0m               \u001b[0mattrs\u001b[0m\u001b[0;34m=\u001b[0m\u001b[0;34m(\u001b[0m\u001b[0;34m\"executor_type\"\u001b[0m\u001b[0;34m,\u001b[0m \u001b[0mexecutor_type\u001b[0m\u001b[0;34m,\u001b[0m \u001b[0;34m\"config_proto\"\u001b[0m\u001b[0;34m,\u001b[0m \u001b[0mconfig\u001b[0m\u001b[0;34m)\u001b[0m\u001b[0;34m,\u001b[0m\u001b[0;34m\u001b[0m\u001b[0;34m\u001b[0m\u001b[0m\n\u001b[0;32m--> 545\u001b[0;31m               ctx=ctx)\n\u001b[0m\u001b[1;32m    546\u001b[0m         \u001b[0;32melse\u001b[0m\u001b[0;34m:\u001b[0m\u001b[0;34m\u001b[0m\u001b[0;34m\u001b[0m\u001b[0m\n\u001b[1;32m    547\u001b[0m           outputs = execute.execute_with_cancellation(\n",
      "\u001b[0;32m~/miniconda3/envs/tf2/lib/python3.7/site-packages/tensorflow_core/python/eager/execute.py\u001b[0m in \u001b[0;36mquick_execute\u001b[0;34m(op_name, num_outputs, inputs, attrs, ctx, name)\u001b[0m\n\u001b[1;32m     59\u001b[0m     tensors = pywrap_tensorflow.TFE_Py_Execute(ctx._handle, device_name,\n\u001b[1;32m     60\u001b[0m                                                \u001b[0mop_name\u001b[0m\u001b[0;34m,\u001b[0m \u001b[0minputs\u001b[0m\u001b[0;34m,\u001b[0m \u001b[0mattrs\u001b[0m\u001b[0;34m,\u001b[0m\u001b[0;34m\u001b[0m\u001b[0;34m\u001b[0m\u001b[0m\n\u001b[0;32m---> 61\u001b[0;31m                                                num_outputs)\n\u001b[0m\u001b[1;32m     62\u001b[0m   \u001b[0;32mexcept\u001b[0m \u001b[0mcore\u001b[0m\u001b[0;34m.\u001b[0m\u001b[0m_NotOkStatusException\u001b[0m \u001b[0;32mas\u001b[0m \u001b[0me\u001b[0m\u001b[0;34m:\u001b[0m\u001b[0;34m\u001b[0m\u001b[0;34m\u001b[0m\u001b[0m\n\u001b[1;32m     63\u001b[0m     \u001b[0;32mif\u001b[0m \u001b[0mname\u001b[0m \u001b[0;32mis\u001b[0m \u001b[0;32mnot\u001b[0m \u001b[0;32mNone\u001b[0m\u001b[0;34m:\u001b[0m\u001b[0;34m\u001b[0m\u001b[0;34m\u001b[0m\u001b[0m\n",
      "\u001b[0;31mKeyboardInterrupt\u001b[0m: "
>>>>>>> master
     ]
    }
   ],
   "source": [
<<<<<<< HEAD
    "assembler.sample_size = 10\n",
=======
>>>>>>> master
    "for telescope_i, model in assembler.models.items():\n",
    "    if model is  None: continue\n",
    "    display(HTML(f\"<h3>{telescope_i}</h3>\"))\n",
    "    # Telescope Sample Dataset\n",
    "    sample_dataset_telescope = filter_dataset(sample_dataset, [telescope_i], min_observations, target_domains)\n",
    "    #sample_dataset_telescope = filter_dataset(test_dataset, [telescope_i], min_observations, target_domains)\n",
    "    _batch_size =  1 if 0 < len(sample_dataset_telescope) < batch_size else batch_size\n",
    "    print(_batch_size)\n",
    "    telescope_generator = AssemblerUnitGenerator(sample_dataset_telescope, _batch_size, \n",
    "                                            input_image_mode=input_image_mode, \n",
    "                                            input_image_mask=input_image_mask, \n",
    "                                            input_features=input_features,\n",
    "                                            targets=targets,\n",
    "                                            target_mode=\"lineal\",\n",
    "                                            target_mode_config=target_mode_config,\n",
    "                                            preprocess_input_pipes=preprocess_input_pipes,\n",
    "                                            preprocess_output_pipes=preprocess_output_pipes,\n",
    "                                            include_event_id=True,\n",
    "                                            include_true_energy=True,\n",
    "                                            version=version\n",
    "                                            )\n",
    "    # Prepare targets points\n",
    "    targets_values = []\n",
    "    event_ids = []\n",
    "    telescopes_ids = []\n",
    "    true_energy = []\n",
    "    predictions = []\n",
    "    predictions_points = []\n",
    "    for x, t, meta in tqdm(telescope_generator):\n",
    "        # Update records\n",
    "        event_ids.extend(meta[\"event_id\"])\n",
    "        telescopes_ids.extend(meta[\"telescope_id\"])\n",
    "        true_energy.extend(meta[\"true_energy\"])\n",
    "        targets_values.extend(t)\n",
    "        \n",
    "        # Predictions\n",
    "        p = assembler.model_estimation(x, telescope_i, 0)\n",
    "        \n",
    "        print(p, t)\n",
    "        p_points = assembler.point_estimation(p)\n",
    "        predictions_points.extend(p_points)\n",
    "\n",
    "        # save some predictions\n",
    "        for prediction, prediction_point, target, event_id, telescope_id in zip(p, p_points, t, meta[\"event_id\"], meta[\"telescope_id\"]):\n",
    "            print(prediction_point, target, event_id, telescope_id)\n",
    "            \n",
    "            #if event_id in display_events:\n",
    "                #predictions.append((prediction)\n",
    "                #plot_prediction(prediction, prediction_point, targets, assembler.target_domains, assembler.target_resolutions, (event_id, telescope_id), target)\n",
    "        \n",
    "    results = {\n",
    "        \"event_id\":       np.array(event_ids),\n",
    "        \"telescope_id\":   np.array(telescopes_ids),\n",
    "        \"telescope_type\": np.array([telescope_i]*len(telescopes_ids)),\n",
    "        \"predictions\":    np.array(predictions_points), \n",
    "        \"targets\":        np.array(targets_values), \n",
    "        \"true_energy\":    np.array(true_energy),\n",
    "    }\n",
    "    models_results[telescope_i] = results"
   ]
  },
  {
   "cell_type": "markdown",
   "metadata": {
    "colab_type": "text",
    "id": "MZDEflCWBFRk"
   },
   "source": [
    "## Model Unit Evaluation\n"
   ]
  },
  {
   "cell_type": "code",
   "execution_count": null,
   "metadata": {
    "colab": {
     "base_uri": "https://localhost:8080/",
     "height": 1000
    },
    "colab_type": "code",
    "executionInfo": {
     "elapsed": 2201233,
     "status": "ok",
     "timestamp": 1591752592528,
     "user": {
      "displayName": "Sebastián Bórquez",
      "photoUrl": "https://lh3.googleusercontent.com/a-/AOh14GjxWwI8bJunba57PuyxAam6CPZ6TAt-b6ZBMCcbHw=s64",
      "userId": "11886092938956714392"
     },
     "user_tz": 240
    },
    "id": "-mxMMRk9R9yM",
    "outputId": "b9d8c179-e19b-4093-c537-3de24d519541"
   },
   "outputs": [],
   "source": [
    "for telescope_i, results in models_results.items():\n",
    "    if telescope_i == \"assembler\": continue\n",
    "    display(HTML(f\"<h3>{telescope_i}</h3>\"))\n",
    "    df_ = pd.DataFrame({\n",
    "        \"event_id\":         results[\"event_id\"],\n",
    "        \"telescope_id\":     results[\"telescope_id\"],\n",
    "        \"telescope_type\":   results[\"telescope_type\"],\n",
    "        \"true_alt\":         results[\"targets\"][:,0].flatten(),\n",
    "        \"true_az\":          results[\"targets\"][:,1].flatten(),\n",
    "        \"pred_alt\":         results[\"predictions\"][:,0].flatten(),\n",
    "        \"pred_az\":          results[\"predictions\"][:,1].flatten(),\n",
    "        \"true_mc_energy\":   results[\"true_energy\"],\n",
    "    })\n",
    "    df_ = df_.dropna()\n",
    "    scores = r2_score(df_[[\"true_alt\", \"true_az\"]], df_[[\"pred_alt\", \"pred_az\"]], multioutput=\"raw_values\")\n",
    "    plot_regression_evaluation(df_, targets, scores)\n",
    "    plot_error_and_angular_resolution(df_)"
   ]
  },
  {
   "cell_type": "markdown",
   "metadata": {
    "colab_type": "text",
    "id": "yxWLDw1LBFRn"
   },
   "source": [
    "## Assembler Predictions\n"
   ]
  },
  {
   "cell_type": "code",
   "execution_count": null,
   "metadata": {
    "colab": {
     "base_uri": "https://localhost:8080/",
     "height": 67,
     "referenced_widgets": [
      "a10e1121f3494ab08c4f10c7925c1534",
      "9c291c05a368424893be04870bf3668f",
      "dee01bb92e1d4517b74e603d2976908e",
      "8333c69b55404038a05e10a7bf96ce31",
      "7e45a50ed3e34417be68d825eeb992e7",
      "0f21081840c54939b30ee0369db26566",
      "64b28a8d0ff94aa0aedfad31bf06d5ce",
      "1a4f13d8a5bf47e5b9f999ce2b839c19"
     ]
    },
    "colab_type": "code",
    "executionInfo": {
     "elapsed": 5525921,
     "status": "ok",
     "timestamp": 1591755917234,
     "user": {
      "displayName": "Sebastián Bórquez",
      "photoUrl": "https://lh3.googleusercontent.com/a-/AOh14GjxWwI8bJunba57PuyxAam6CPZ6TAt-b6ZBMCcbHw=s64",
      "userId": "11886092938956714392"
     },
     "user_tz": 240
    },
    "id": "CUBXclgED3hl",
    "outputId": "50f964b9-3015-4c47-9144-fb344b185467"
   },
<<<<<<< HEAD
   "outputs": [],
=======
   "outputs": [
    {
     "data": {
      "application/vnd.jupyter.widget-view+json": {
       "model_id": "166d3caf400846c98f8c4443f8efed2a",
       "version_major": 2,
       "version_minor": 0
      },
      "text/plain": [
       "HBox(children=(FloatProgress(value=0.0, max=6.0), HTML(value='')))"
      ]
     },
     "metadata": {},
     "output_type": "display_data"
    }
   ],
>>>>>>> master
   "source": [
    "results, predictions = assembler.evaluate(sample_generator, return_event_predictions=display_events, pbar=tqdm)\n",
    "models_results[\"assembler\"] = results"
   ]
  },
  {
   "cell_type": "code",
   "execution_count": null,
   "metadata": {
    "colab": {
     "base_uri": "https://localhost:8080/",
     "height": 1000
    },
    "colab_type": "code",
    "executionInfo": {
     "elapsed": 5529097,
     "status": "ok",
     "timestamp": 1591755920428,
     "user": {
      "displayName": "Sebastián Bórquez",
      "photoUrl": "https://lh3.googleusercontent.com/a-/AOh14GjxWwI8bJunba57PuyxAam6CPZ6TAt-b6ZBMCcbHw=s64",
      "userId": "11886092938956714392"
     },
     "user_tz": 240
    },
    "id": "TGTjmkhOBFRr",
    "outputId": "6f328803-0dfc-421c-a3a6-d6cadf6da846",
    "scrolled": true
   },
   "outputs": [],
   "source": [
    "target_domains = assembler.target_domains\n",
    "target_resolutions = assembler.target_resolutions\n",
    "targets = assembler.targets\n",
    "\n",
    "for prediction, prediction_point, target_point, event_id in predictions:\n",
    "    plot_prediction(prediction, prediction_point, targets, target_domains, target_resolutions, event_id, target_point)"
   ]
  },
  {
   "cell_type": "markdown",
   "metadata": {
    "colab_type": "text",
    "id": "s7zYVRrZhl_N"
   },
   "source": [
    "## Assembler Evaluation"
   ]
  },
  {
   "cell_type": "code",
   "execution_count": null,
   "metadata": {
    "colab": {
     "base_uri": "https://localhost:8080/",
     "height": 1000
    },
    "colab_type": "code",
    "executionInfo": {
     "elapsed": 5531054,
     "status": "ok",
     "timestamp": 1591755922404,
     "user": {
      "displayName": "Sebastián Bórquez",
      "photoUrl": "https://lh3.googleusercontent.com/a-/AOh14GjxWwI8bJunba57PuyxAam6CPZ6TAt-b6ZBMCcbHw=s64",
      "userId": "11886092938956714392"
     },
     "user_tz": 240
    },
    "id": "LjO1sBlFhoYC",
    "outputId": "1f8f4788-7d24-43d6-9f31-5b3fbd1e8257"
   },
   "outputs": [],
   "source": [
    "results = models_results[\"assembler\"]\n",
    "display(HTML(f\"<h3>Assembler</h3>\"))\n",
    "df_ = pd.DataFrame({\n",
    "        \"event_id\":         results[\"event_id\"],\n",
    "        \"true_alt\":         results[\"targets\"][:,0].flatten(),\n",
    "        \"true_az\":          results[\"targets\"][:,1].flatten(),\n",
    "        \"pred_alt\":         results[\"predictions\"][:,0].flatten(),\n",
    "        \"pred_az\":          results[\"predictions\"][:,1].flatten(),\n",
    "        \"true_mc_energy\":   results[\"true_energy\"],\n",
    "})\n",
    "\n",
    "\n",
    "df_ = df_.dropna()\n",
    "scores = r2_score(df_[[\"true_alt\", \"true_az\"]], df_[[\"pred_alt\", \"pred_az\"]], multioutput=\"raw_values\")\n",
    "plot_regression_evaluation(df_, targets, scores)\n",
    "plot_error_and_angular_resolution(df_)"
   ]
  },
  {
   "cell_type": "code",
   "execution_count": null,
   "metadata": {
    "colab": {
     "base_uri": "https://localhost:8080/",
     "height": 520
    },
    "colab_type": "code",
    "executionInfo": {
     "elapsed": 2093,
     "status": "ok",
     "timestamp": 1591757112408,
     "user": {
      "displayName": "Sebastián Bórquez",
      "photoUrl": "https://lh3.googleusercontent.com/a-/AOh14GjxWwI8bJunba57PuyxAam6CPZ6TAt-b6ZBMCcbHw=s64",
      "userId": "11886092938956714392"
     },
     "user_tz": 240
    },
    "id": "FOO3RR_lHeHl",
    "outputId": "a2041aa7-3445-497e-ab25-d68fb00c0a21"
   },
   "outputs": [],
   "source": [
    "plot_angular_resolution_comparison(models_results)"
   ]
  },
  {
   "cell_type": "code",
   "execution_count": null,
   "metadata": {
    "colab": {
     "base_uri": "https://localhost:8080/",
     "height": 520
    },
    "colab_type": "code",
    "executionInfo": {
     "elapsed": 2179,
     "status": "ok",
     "timestamp": 1591757031246,
     "user": {
      "displayName": "Sebastián Bórquez",
      "photoUrl": "https://lh3.googleusercontent.com/a-/AOh14GjxWwI8bJunba57PuyxAam6CPZ6TAt-b6ZBMCcbHw=s64",
      "userId": "11886092938956714392"
     },
     "user_tz": 240
    },
    "id": "YqnzclixBFRy",
    "outputId": "df5de43b-07c7-4444-a710-f4162883328f"
   },
   "outputs": [],
   "source": [
    "plot_angular_resolution_comparison(models_results, ylim=(0,2))"
   ]
  },
  {
   "cell_type": "markdown",
   "metadata": {
    "colab_type": "text",
    "id": "RjgZMlD8DDee"
   },
   "source": [
    "# Energy Reconstruction\n"
   ]
  },
  {
   "cell_type": "markdown",
   "metadata": {
    "colab_type": "text",
    "id": "cyPRB16BBFR3"
   },
   "source": [
    "## Load Configuration file"
   ]
  },
  {
   "cell_type": "code",
   "execution_count": null,
   "metadata": {
    "colab": {},
    "colab_type": "code",
    "id": "fbFvvQ3MjvCx"
   },
   "outputs": [],
   "source": [
    "#@title Select config file. { display-mode: \"form\" }\n",
    "\n",
    "config_file = \"umonna_assembler_colab_all.json\" #@param [\"umonna_assembler_colab_all.json\", \"umonna_assembler_colab.json\"]\n",
    "config_file = \"/content/drive/My Drive/Projects/gerumo/train/config/colab/energy/\" + config_file"
   ]
  },
  {
   "cell_type": "code",
   "execution_count": null,
   "metadata": {
    "colab": {
     "base_uri": "https://localhost:8080/",
     "height": 35
    },
    "colab_type": "code",
    "executionInfo": {
     "elapsed": 1155,
     "status": "ok",
     "timestamp": 1591766824119,
     "user": {
      "displayName": "Sebastián Bórquez",
      "photoUrl": "https://lh3.googleusercontent.com/a-/AOh14GjxWwI8bJunba57PuyxAam6CPZ6TAt-b6ZBMCcbHw=s64",
      "userId": "11886092938956714392"
     },
     "user_tz": 240
    },
    "id": "fJSWwUA7bklo",
    "outputId": "23e01b5b-1865-4b58-8b14-554a7dab3d3d"
   },
   "outputs": [],
   "source": [
    "print(f\"Loading config from: {config_file}\")\n",
    "with open(config_file) as cfg_file:\n",
    "    config = json.load(cfg_file)\n",
    "\n",
    "# Model\n",
    "model_name = config[\"model_name\"]\n",
    "assembler_constructor = ASSEMBLERS[config[\"assembler_constructor\"]]\n",
    "\n",
    "# Dataset Parameters\n",
    "output_folder = config[\"output_folder\"]\n",
    "replace_folder_test = config[\"replace_folder_test\"]\n",
    "test_events_csv    = config[\"test_events_csv\"]\n",
    "test_telescope_csv = config[\"test_telescope_csv\"]\n",
    "\n",
    "# Input and Target Parameters \n",
    "telescopes = config[\"telescopes\"]\n",
    "min_observations = config[\"min_observations\"]\n",
    "input_image_mode = config[\"input_image_mode\"]\n",
    "input_image_mask = config[\"input_image_mask\"]\n",
    "input_features = config[\"input_features\"]\n",
    "targets = config[\"targets\"]\n",
    "target_mode = \"lineal\"\n",
    "target_shapes = config[\"target_shapes\"]\n",
    "target_domains = config[\"target_domains\"]\n",
    "if  config[\"assembler_constructor\"] == 'umonna':\n",
    "    target_resolutions = get_resolution(targets, target_domains, target_shapes)\n",
    "\n",
    "    # Prepare Generator target_mode_config \n",
    "    target_mode_config = {\n",
    "        \"target_shapes\":      tuple([target_shapes[target]      for target in targets]),\n",
    "        \"target_domains\":     tuple([target_domains[target]     for target in targets]),\n",
    "        \"target_resolutions\": tuple([target_resolutions[target] for target in targets])\n",
    "    }\n",
    "    if target_mode == \"probability_map\":\n",
    "        target_sigmas = config[\"target_sigmas\"]\n",
    "        target_mode_config[\"target_sigmas\"] = tuple([target_sigmas[target] for target in targets])\n",
    "else:\n",
    "    target_mode_config = {\n",
    "        \"target_domains\":     tuple([target_domains[target]     for target in targets]),\n",
    "        \"target_shapes\":      tuple([np.inf      for target in targets]),\n",
    "        \"target_resolutions\": tuple([np.inf      for target in targets])\n",
    "    }\n",
    "    target_resolutions = tuple([np.inf      for target in targets])\n",
    "\n",
    "# Evaluation Parameters\n",
    "evaluation_config = config[\"evaluation\"]"
   ]
  },
  {
   "cell_type": "code",
   "execution_count": null,
   "metadata": {
    "colab": {
     "base_uri": "https://localhost:8080/",
     "height": 901
    },
    "colab_type": "code",
    "executionInfo": {
     "elapsed": 1835,
     "status": "ok",
     "timestamp": 1591766829047,
     "user": {
      "displayName": "Sebastián Bórquez",
      "photoUrl": "https://lh3.googleusercontent.com/a-/AOh14GjxWwI8bJunba57PuyxAam6CPZ6TAt-b6ZBMCcbHw=s64",
      "userId": "11886092938956714392"
     },
     "user_tz": 240
    },
    "id": "7aNKKy4mbkls",
    "outputId": "4b15885d-ad14-40b5-b985-72eec52c9f63"
   },
   "outputs": [],
   "source": [
    "pprint.pprint(config, width=1)"
   ]
  },
  {
   "cell_type": "markdown",
   "metadata": {
    "colab_type": "text",
    "id": "UuVJKTQ6BFR8"
   },
   "source": [
    "## Load Dataset"
   ]
  },
  {
   "cell_type": "code",
   "execution_count": null,
   "metadata": {
    "colab": {},
    "colab_type": "code",
    "id": "U0itkZ11BFR9"
   },
   "outputs": [],
   "source": [
    "# Prepare datasets\n",
    "test_dataset = load_dataset(test_events_csv, test_telescope_csv, replace_folder_test)\n",
    "test_dataset = aggregate_dataset(test_dataset, az=True, log10_mc_energy=True)\n",
    "test_dataset = filter_dataset(test_dataset, telescopes, min_observations, target_domains)\n",
    "\n",
    "# Preprocessing pipes\n",
    "preprocess_input_pipes = []\n",
    "preprocess_output_pipes = []"
   ]
  },
  {
   "cell_type": "markdown",
   "metadata": {
    "colab_type": "text",
    "id": "MklcOuZbBFR_"
   },
   "source": [
    "## Data Generator"
   ]
  },
  {
   "cell_type": "code",
   "execution_count": null,
   "metadata": {
    "colab": {
     "base_uri": "https://localhost:8080/",
     "height": 191
    },
    "colab_type": "code",
    "executionInfo": {
     "elapsed": 27636,
     "status": "ok",
     "timestamp": 1591761304876,
     "user": {
      "displayName": "Sebastián Bórquez",
      "photoUrl": "https://lh3.googleusercontent.com/a-/AOh14GjxWwI8bJunba57PuyxAam6CPZ6TAt-b6ZBMCcbHw=s64",
      "userId": "11886092938956714392"
     },
     "user_tz": 240
    },
    "id": "UxDT2mUWBFR_",
    "outputId": "c3b84205-bea5-4ebc-9a45-0af2fa26b71f"
   },
   "outputs": [],
   "source": [
    "# Generators\n",
    "batch_size = 64\n",
    "telescope_types = [t for t in telescopes.keys() if telescopes[t] is not None]\n",
    "test_generator = AssemblerGenerator(test_dataset, telescope_types,\n",
    "                                    batch_size, \n",
    "                                    input_image_mode=input_image_mode, \n",
    "                                    input_image_mask=input_image_mask, \n",
    "                                    input_features=input_features,\n",
    "                                    targets=targets,\n",
    "                                    target_mode=target_mode, \n",
    "                                    target_mode_config=target_mode_config,\n",
    "                                    preprocess_input_pipes=preprocess_input_pipes,\n",
    "                                    preprocess_output_pipes=preprocess_output_pipes,\n",
    "                                    include_event_id=True,\n",
    "                                    include_true_energy=True\n",
    ")\n",
    "\n",
    "# Small test sample\n",
    "sample_size = 1000\n",
    "sample_events = np.random.choice(test_dataset.event_unique_id.unique(), sample_size)\n",
    "sample_dataset = test_dataset[test_dataset.event_unique_id.isin(sample_events)]\n",
    "\n",
    "sample_generator = AssemblerGenerator(sample_dataset, telescope_types,\n",
    "                                    batch_size, \n",
    "                                    input_image_mode=input_image_mode, \n",
    "                                    input_image_mask=input_image_mask, \n",
    "                                    input_features=input_features,\n",
    "                                    targets=targets,\n",
    "                                    target_mode=\"lineal\", \n",
    "                                    target_mode_config=target_mode_config,\n",
    "                                    preprocess_input_pipes=preprocess_input_pipes,\n",
    "                                    preprocess_output_pipes=preprocess_output_pipes,\n",
    "                                    include_event_id=True,\n",
    "                                    include_true_energy=True\n",
    ")\n",
    "\n",
    "display_events = [i for i,df in sample_dataset.groupby(\"event_unique_id\") if set(df.type.unique()) == set(telescope_types)][:10]\n",
    "display_events"
   ]
  },
  {
   "cell_type": "markdown",
   "metadata": {
    "colab_type": "text",
    "id": "N082_beqBFSC"
   },
   "source": [
    "### Generator sample"
   ]
  },
  {
   "cell_type": "code",
   "execution_count": null,
   "metadata": {
    "colab": {
     "base_uri": "https://localhost:8080/",
     "height": 67,
     "referenced_widgets": [
      "3cd5c98b0f004c37ae45ca84b0a6c767",
      "a9d22e6f5f144510a3b04eb6b043a301",
      "d2ccd973cb544b189933eb7dd87e47da",
      "5e922d4d3798421b841fbc10567d4088",
      "57d394fcb3e34416a7177fb480145606",
      "925d022717b148f0b4cb9eebc1c55531",
      "1a1e68468aaa457a9a028e9d3e143493",
      "24664c2381954eefa3bfca62bc4855de"
     ]
    },
    "colab_type": "code",
    "executionInfo": {
     "elapsed": 2410839,
     "status": "ok",
     "timestamp": 1591769528493,
     "user": {
      "displayName": "Sebastián Bórquez",
      "photoUrl": "https://lh3.googleusercontent.com/a-/AOh14GjxWwI8bJunba57PuyxAam6CPZ6TAt-b6ZBMCcbHw=s64",
      "userId": "11886092938956714392"
     },
     "user_tz": 240
    },
    "id": "w7v3Od8FBFSC",
    "outputId": "1c1a03da-1d8e-4fd3-c9ec-a571cf2227ad"
   },
   "outputs": [],
   "source": [
    "# Debug: Check if test dataset is loadable\n",
    "#for i in tqdm(range(len(test_generator))):\n",
    "#  _ = test_generator[i]\n",
    "\n",
    "# Debug: Check if sample dataset is loadable\n",
    "for i in tqdm(range(len(sample_generator))):\n",
    "    _ = sample_generator[i]"
   ]
  },
  {
   "cell_type": "markdown",
   "metadata": {
    "colab_type": "text",
    "id": "v0EXtoJweUtk"
   },
   "source": [
    "## Load Models"
   ]
  },
  {
   "cell_type": "code",
   "execution_count": null,
   "metadata": {
    "colab": {
     "base_uri": "https://localhost:8080/",
     "height": 121
    },
    "colab_type": "code",
    "executionInfo": {
     "elapsed": 2409820,
     "status": "ok",
     "timestamp": 1591769528498,
     "user": {
      "displayName": "Sebastián Bórquez",
      "photoUrl": "https://lh3.googleusercontent.com/a-/AOh14GjxWwI8bJunba57PuyxAam6CPZ6TAt-b6ZBMCcbHw=s64",
      "userId": "11886092938956714392"
     },
     "user_tz": 240
    },
    "id": "f5JsqHuQBFSG",
    "outputId": "0f4d181c-ba93-4275-b29a-6f0f6f1afe49"
   },
   "outputs": [],
   "source": [
    "sst = telescopes.get(\"SST1M_DigiCam\", None)\n",
    "mst = telescopes.get(\"MST_FlashCam\", None)\n",
    "lst = telescopes.get(\"LST_LSTCam\", None)\n",
    "pprint.pprint(telescopes, width=1)"
   ]
  },
  {
   "cell_type": "code",
   "execution_count": null,
   "metadata": {
    "colab": {},
    "colab_type": "code",
    "id": "si19ARM6eACO"
   },
   "outputs": [],
   "source": [
    "assembler = assembler_constructor(sst1m_model_or_path=sst,\n",
    "                mst_model_or_path=mst,\n",
    "                lst_model_or_path=lst,\n",
    "                targets=targets, target_shapes=target_mode_config[\"target_shapes\"],\n",
    "                target_domains=target_mode_config[\"target_domains\"],\n",
    "                target_resolutions=target_mode_config[\"target_resolutions\"],\n",
    "                assembler_mode=\"normalized_product\",\n",
    "                point_estimation_mode=\"expected_value\"\n",
    ")"
   ]
  },
  {
   "cell_type": "markdown",
   "metadata": {
    "colab_type": "text",
    "id": "wbymXgePhefN"
   },
   "source": [
    "## Model Unit Predictions\n"
   ]
  },
  {
   "cell_type": "code",
   "execution_count": null,
   "metadata": {
    "colab": {},
    "colab_type": "code",
    "id": "dpiwuc2CLr-Z"
   },
   "outputs": [],
   "source": [
    "target_domains_ = target_domains if isinstance(target_domains, dict) else target_domains_\n",
    "targets = assembler.targets\n",
    "models_results = {}"
   ]
  },
  {
   "cell_type": "code",
   "execution_count": null,
   "metadata": {
    "colab": {
     "base_uri": "https://localhost:8080/",
     "height": 1000,
     "referenced_widgets": [
      "c3d268031536470ba0941f66197ab0a7",
      "640c0626a7524ce4b184595f01527c20",
      "0f6a8c36739348818bb3c3fca8b3af5c",
      "7c04ec33df38446593dfdffc228d5580",
      "d031d1f0a1834f8e910d3fa7dfaf46fa",
      "cf5d4ccd93854d7db00e30586e5fad42",
      "c867cc961f364a0a87be013805cf15f6",
      "c368c52816ce4050834e089c9841fe52",
      "31c2c75c41d64452843326b79c206bbb",
      "9b51742c76324fdbbdf6d69d2d9d32eb",
      "b05bf414416843dca9323f1dd6dee499",
      "8cf5dd12944b45cc95c0e291615e00a8",
      "aa802ba04e12476e8f91feee99e7f6d7",
      "e2f8b7f0e8ee4b9595b8d9c3e5dc5d7d",
      "2eaf41d3bc7a4a74abe4cd729e54d4d9",
      "be8476e28f2d4cba966247cfc4ca513f",
      "4352210e25f041139ba79c0c6e4bc15c",
      "e0f22b2d546a4e76878bb21e51478980",
      "5a388f118abd4aedb9b60b4137c9ce01",
      "d620388d1cef4c96a192c585b12314ff",
      "994fa4c846a64174995f66f0071489d4",
      "61ad93a0696f4bf1bf835932a67b0de1",
      "f0dac016750440bba52b512c8dd4ea7e",
      "e400aa1dfaf64d92bdb3fd71877c0d48"
     ]
    },
    "colab_type": "code",
    "executionInfo": {
     "elapsed": 4305424,
     "status": "ok",
     "timestamp": 1591771426050,
     "user": {
      "displayName": "Sebastián Bórquez",
      "photoUrl": "https://lh3.googleusercontent.com/a-/AOh14GjxWwI8bJunba57PuyxAam6CPZ6TAt-b6ZBMCcbHw=s64",
      "userId": "11886092938956714392"
     },
     "user_tz": 240
    },
    "id": "-ixf78LrBFSN",
    "outputId": "dcdded8b-aee3-4ee9-9f3d-44fd416afc1c"
   },
   "outputs": [],
   "source": [
    "for telescope_i, model in assembler.models.items():\n",
    "    display(HTML(f\"<h3>{telescope_i}</h3>\"))\n",
    "    # Telescope Sample Dataset\n",
    "    sample_dataset_telescope = filter_dataset(sample_dataset, [telescope_i], min_observations, target_domains)\n",
    "    _batch_size =  1 if 0 < len(sample_dataset_telescope) < batch_size else batch_size\n",
    "    telescope_generator = AssemblerUnitGenerator(sample_dataset_telescope, _batch_size, \n",
    "                                            input_image_mode=input_image_mode, \n",
    "                                            input_image_mask=input_image_mask, \n",
    "                                            input_features=input_features,\n",
    "                                            targets=targets,\n",
    "                                            target_mode=\"lineal\",\n",
    "                                            target_mode_config=target_mode_config,\n",
    "                                            preprocess_input_pipes=preprocess_input_pipes,\n",
    "                                            preprocess_output_pipes=preprocess_output_pipes,\n",
    "                                            include_event_id=True,\n",
    "                                            include_true_energy=True\n",
    "                                            )\n",
    "    # Prepare targets points\n",
    "    targets_values = []\n",
    "    event_ids = []\n",
    "    telescopes_ids = []\n",
    "    true_energy = []\n",
    "    predictions = []\n",
    "    predictions_points = []\n",
    "    for x, t, meta in tqdm(telescope_generator):\n",
    "        # Update records\n",
    "        event_ids.extend(meta[\"event_id\"])\n",
    "        telescopes_ids.extend(meta[\"telescope_id\"])\n",
    "        true_energy.extend(meta[\"true_energy\"])\n",
    "        targets_values.extend(t)\n",
    "        \n",
    "        # Predictions\n",
    "        p = assembler.model_estimation(x, telescope_i, 0)\n",
    "        p_points = assembler.point_estimation(p)\n",
    "        predictions_points.extend(p_points)\n",
    "\n",
    "        # save some predictions\n",
    "        for prediction, prediction_point, target, event_id, telescope_id in zip(p, p_points, t, meta[\"event_id\"], meta[\"telescope_id\"]):\n",
    "            if event_id in display_events:\n",
    "                #predictions.append((prediction)\n",
    "                plot_prediction(prediction, prediction_point, targets, assembler.target_domains, assembler.target_resolutions, (event_id, telescope_id), target)\n",
    "        \n",
    "    results = {\n",
    "        \"event_id\": np.array(event_ids),\n",
    "        \"telescope_id\": np.array(telescopes_ids),\n",
    "        \"telescope_type\": np.array([telescope_i]*len(telescopes_ids)),\n",
    "        \"predictions\": np.array(predictions_points), \n",
    "        \"targets\": np.array(targets_values), \n",
    "        \"true_energy\": np.array(true_energy),\n",
    "    }\n",
    "    models_results[telescope_i] = results"
   ]
  },
  {
   "cell_type": "markdown",
   "metadata": {
    "colab_type": "text",
    "id": "4rtZD6zuTVZE"
   },
   "source": [
    "## Model Unit Evaluation\n"
   ]
  },
  {
   "cell_type": "code",
   "execution_count": null,
   "metadata": {
    "colab": {
     "base_uri": "https://localhost:8080/",
     "height": 1000
    },
    "colab_type": "code",
    "executionInfo": {
     "elapsed": 4309450,
     "status": "ok",
     "timestamp": 1591771431402,
     "user": {
      "displayName": "Sebastián Bórquez",
      "photoUrl": "https://lh3.googleusercontent.com/a-/AOh14GjxWwI8bJunba57PuyxAam6CPZ6TAt-b6ZBMCcbHw=s64",
      "userId": "11886092938956714392"
     },
     "user_tz": 240
    },
    "id": "Tc6-IaWsBFSR",
    "outputId": "b2933519-686a-4dd0-dbd3-5dd28a9d825f"
   },
   "outputs": [],
   "source": [
    "for telescope_i, results in models_results.items():\n",
    "    if telescope_i == \"assembler\": continue\n",
    "    display(HTML(f\"<h3>{telescope_i}</h3>\"))\n",
    "    df_ = pd.DataFrame({\n",
    "        \"event_id\":             results[\"event_id\"],\n",
    "        \"telescope_id\":         results[\"telescope_id\"],\n",
    "        \"telescope_type\":       results[\"telescope_type\"],\n",
    "        \"true_log10_mc_energy\": results[\"targets\"].flatten(),\n",
    "        \"pred_log10_mc_energy\": results[\"predictions\"].flatten(),\n",
    "        \"true_mc_energy\":       results[\"true_energy\"],\n",
    "    })\n",
    "    df_ = df_.dropna()\n",
    "    scores = r2_score(df_[[\"true_log10_mc_energy\"]], df_[[\"pred_log10_mc_energy\"]], multioutput=\"raw_values\")\n",
    "    plot_regression_evaluation(df_, targets, scores)\n",
    "    plot_error_and_energy_resolution(df_)"
   ]
  },
  {
   "cell_type": "markdown",
   "metadata": {
    "colab_type": "text",
    "id": "s2hWRjVXjLvY"
   },
   "source": [
    "## Assembler Predictions\n"
   ]
  },
  {
   "cell_type": "code",
   "execution_count": null,
   "metadata": {
    "colab": {
     "base_uri": "https://localhost:8080/",
     "height": 67,
     "referenced_widgets": [
      "6f4f40ed2d4b471980cbd6dd0dae4b78",
      "91e85836566142b09d00d680f9a26d7c",
      "7685d590ec6141d4ad5648130405706c",
      "ab4c0b87150d45a29070c12723eef196",
      "2f45d104e70c4184bf467c146e14c021",
      "1ab4b60142c84ee1a7d245c6ec76a1f7",
      "50cc2e33077e43488c866d2f6adc880d",
      "aad12a54066249bd88af8d42612a261d"
     ]
    },
    "colab_type": "code",
    "executionInfo": {
     "elapsed": 6758153,
     "status": "ok",
     "timestamp": 1591773880483,
     "user": {
      "displayName": "Sebastián Bórquez",
      "photoUrl": "https://lh3.googleusercontent.com/a-/AOh14GjxWwI8bJunba57PuyxAam6CPZ6TAt-b6ZBMCcbHw=s64",
      "userId": "11886092938956714392"
     },
     "user_tz": 240
    },
    "id": "SNGemDRhBFST",
    "outputId": "3879829b-6af1-4b30-f3c0-938b34a4a309"
   },
   "outputs": [],
   "source": [
    "results, predictions = assembler.evaluate(sample_generator, return_event_predictions=display_events, pbar=tqdm)\n",
    "models_results[\"assembler\"] = results"
   ]
  },
  {
   "cell_type": "code",
   "execution_count": null,
   "metadata": {
    "colab": {
     "base_uri": "https://localhost:8080/",
     "height": 1000
    },
    "colab_type": "code",
    "executionInfo": {
     "elapsed": 6760258,
     "status": "ok",
     "timestamp": 1591773882910,
     "user": {
      "displayName": "Sebastián Bórquez",
      "photoUrl": "https://lh3.googleusercontent.com/a-/AOh14GjxWwI8bJunba57PuyxAam6CPZ6TAt-b6ZBMCcbHw=s64",
      "userId": "11886092938956714392"
     },
     "user_tz": 240
    },
    "id": "dfLkKP3Oop0M",
    "outputId": "20f4a533-447c-414c-eb95-0c460ce64ea3"
   },
   "outputs": [],
   "source": [
    "for prediction, prediction_point, target_point, event_id in predictions:\n",
    "    plot_prediction(prediction, prediction_point, targets, assembler.target_domains, assembler.target_resolutions, event_id, target_point)"
   ]
  },
  {
   "cell_type": "markdown",
   "metadata": {
    "colab_type": "text",
    "id": "eSmwFo7mBFSX"
   },
   "source": [
    "## Assembler Evaluation"
   ]
  },
  {
   "cell_type": "code",
   "execution_count": null,
   "metadata": {
    "colab": {
     "base_uri": "https://localhost:8080/",
     "height": 893
    },
    "colab_type": "code",
    "executionInfo": {
     "elapsed": 6761818,
     "status": "ok",
     "timestamp": 1591773885279,
     "user": {
      "displayName": "Sebastián Bórquez",
      "photoUrl": "https://lh3.googleusercontent.com/a-/AOh14GjxWwI8bJunba57PuyxAam6CPZ6TAt-b6ZBMCcbHw=s64",
      "userId": "11886092938956714392"
     },
     "user_tz": 240
    },
    "id": "JFhyc9yNBFSY",
    "outputId": "e293912f-a1a1-4b86-b4bd-a08e177e9fa1"
   },
   "outputs": [],
   "source": [
    "display(HTML(f\"<h3>Assembler</h3>\"))\n",
    "df_ = pd.DataFrame({\n",
    "        \"event_id\":             results[\"event_id\"],\n",
    "        \"true_log10_mc_energy\": results[\"targets\"].flatten(),\n",
    "        \"pred_log10_mc_energy\": results[\"predictions\"].flatten(),\n",
    "        \"true_mc_energy\":       results[\"true_energy\"],\n",
    "})\n",
    "\n",
    "\n",
    "df_ = df_.dropna()\n",
    "scores = r2_score(df_[[\"true_log10_mc_energy\"]], df_[[\"pred_log10_mc_energy\"]], multioutput=\"raw_values\")\n",
    "plot_regression_evaluation(df_, targets, scores)\n",
    "plot_error_and_energy_resolution(df_)"
   ]
  },
  {
   "cell_type": "code",
   "execution_count": null,
   "metadata": {
    "colab": {
     "base_uri": "https://localhost:8080/",
     "height": 520
    },
    "colab_type": "code",
    "executionInfo": {
     "elapsed": 6761281,
     "status": "ok",
     "timestamp": 1591773885280,
     "user": {
      "displayName": "Sebastián Bórquez",
      "photoUrl": "https://lh3.googleusercontent.com/a-/AOh14GjxWwI8bJunba57PuyxAam6CPZ6TAt-b6ZBMCcbHw=s64",
      "userId": "11886092938956714392"
     },
     "user_tz": 240
    },
    "id": "w3abFaTLkank",
    "outputId": "e1d77133-c9f9-47f3-f8e7-320ad6a878e3"
   },
   "outputs": [],
   "source": [
    "plot_energy_resolution_comparison(models_results)"
   ]
  },
  {
   "cell_type": "code",
   "execution_count": null,
   "metadata": {
    "colab": {
     "base_uri": "https://localhost:8080/",
     "height": 520
    },
    "colab_type": "code",
    "executionInfo": {
     "elapsed": 1633,
     "status": "ok",
     "timestamp": 1591774175211,
     "user": {
      "displayName": "Sebastián Bórquez",
      "photoUrl": "https://lh3.googleusercontent.com/a-/AOh14GjxWwI8bJunba57PuyxAam6CPZ6TAt-b6ZBMCcbHw=s64",
      "userId": "11886092938956714392"
     },
     "user_tz": 240
    },
    "id": "7QlHYB08L501",
    "outputId": "0c1029ec-f783-4055-dca9-f28274c16cc7"
   },
   "outputs": [],
   "source": [
    "plot_energy_resolution_comparison(models_results, xlim=(0.01,1), ylim=(0,10))"
   ]
  },
  {
   "cell_type": "markdown",
   "metadata": {
    "colab_type": "text",
    "id": "peAbl6ALnl53"
   },
   "source": [
    "* calcular \n",
    "\n",
    "* calcular incertidumbre\n",
    "* ajustar una gaussiana y extraer ancho (sigma)\n",
    "* error relativo"
   ]
  }
 ],
 "metadata": {
  "accelerator": "GPU",
  "colab": {
   "collapsed_sections": [],
   "name": "evaluate.ipynb",
   "provenance": []
  },
  "kernelspec": {
   "display_name": "Python 3",
   "language": "python",
   "name": "python3"
  },
  "language_info": {
   "codemirror_mode": {
    "name": "ipython",
    "version": 3
   },
   "file_extension": ".py",
   "mimetype": "text/x-python",
   "name": "python",
   "nbconvert_exporter": "python",
   "pygments_lexer": "ipython3",
   "version": "3.7.7"
  },
  "widgets": {
   "application/vnd.jupyter.widget-state+json": {
    "01d981c98416459dbae5a7a3e0aa9e25": {
     "model_module": "@jupyter-widgets/base",
     "model_name": "LayoutModel",
     "state": {
      "_model_module": "@jupyter-widgets/base",
      "_model_module_version": "1.2.0",
      "_model_name": "LayoutModel",
      "_view_count": null,
      "_view_module": "@jupyter-widgets/base",
      "_view_module_version": "1.2.0",
      "_view_name": "LayoutView",
      "align_content": null,
      "align_items": null,
      "align_self": null,
      "border": null,
      "bottom": null,
      "display": null,
      "flex": null,
      "flex_flow": null,
      "grid_area": null,
      "grid_auto_columns": null,
      "grid_auto_flow": null,
      "grid_auto_rows": null,
      "grid_column": null,
      "grid_gap": null,
      "grid_row": null,
      "grid_template_areas": null,
      "grid_template_columns": null,
      "grid_template_rows": null,
      "height": null,
      "justify_content": null,
      "justify_items": null,
      "left": null,
      "margin": null,
      "max_height": null,
      "max_width": null,
      "min_height": null,
      "min_width": null,
      "object_fit": null,
      "object_position": null,
      "order": null,
      "overflow": null,
      "overflow_x": null,
      "overflow_y": null,
      "padding": null,
      "right": null,
      "top": null,
      "visibility": null,
      "width": null
     }
    },
    "0255bb020f0c47d39211fc79fe62e6a0": {
     "model_module": "@jupyter-widgets/controls",
     "model_name": "ProgressStyleModel",
     "state": {
      "_model_module": "@jupyter-widgets/controls",
      "_model_module_version": "1.5.0",
      "_model_name": "ProgressStyleModel",
      "_view_count": null,
      "_view_module": "@jupyter-widgets/base",
      "_view_module_version": "1.2.0",
      "_view_name": "StyleView",
      "bar_color": null,
      "description_width": "initial"
     }
    },
    "0b6145324ac54970b0f853675d03570d": {
     "model_module": "@jupyter-widgets/controls",
     "model_name": "DescriptionStyleModel",
     "state": {
      "_model_module": "@jupyter-widgets/controls",
      "_model_module_version": "1.5.0",
      "_model_name": "DescriptionStyleModel",
      "_view_count": null,
      "_view_module": "@jupyter-widgets/base",
      "_view_module_version": "1.2.0",
      "_view_name": "StyleView",
      "description_width": ""
     }
    },
    "0bb658917bd046dda274b416b3133733": {
     "model_module": "@jupyter-widgets/controls",
     "model_name": "HBoxModel",
     "state": {
      "_dom_classes": [],
      "_model_module": "@jupyter-widgets/controls",
      "_model_module_version": "1.5.0",
      "_model_name": "HBoxModel",
      "_view_count": null,
      "_view_module": "@jupyter-widgets/controls",
      "_view_module_version": "1.5.0",
      "_view_name": "HBoxView",
      "box_style": "",
      "children": [
       "IPY_MODEL_47a48d0ee4a34a2badf79fe20d4da187",
       "IPY_MODEL_805b6a40731c475da2a10b226029a78e"
      ],
      "layout": "IPY_MODEL_3e1f77d31dde4cf5891c1e8b28902c8a"
     }
    },
    "0f21081840c54939b30ee0369db26566": {
     "model_module": "@jupyter-widgets/base",
     "model_name": "LayoutModel",
     "state": {
      "_model_module": "@jupyter-widgets/base",
      "_model_module_version": "1.2.0",
      "_model_name": "LayoutModel",
      "_view_count": null,
      "_view_module": "@jupyter-widgets/base",
      "_view_module_version": "1.2.0",
      "_view_name": "LayoutView",
      "align_content": null,
      "align_items": null,
      "align_self": null,
      "border": null,
      "bottom": null,
      "display": null,
      "flex": null,
      "flex_flow": null,
      "grid_area": null,
      "grid_auto_columns": null,
      "grid_auto_flow": null,
      "grid_auto_rows": null,
      "grid_column": null,
      "grid_gap": null,
      "grid_row": null,
      "grid_template_areas": null,
      "grid_template_columns": null,
      "grid_template_rows": null,
      "height": null,
      "justify_content": null,
      "justify_items": null,
      "left": null,
      "margin": null,
      "max_height": null,
      "max_width": null,
      "min_height": null,
      "min_width": null,
      "object_fit": null,
      "object_position": null,
      "order": null,
      "overflow": null,
      "overflow_x": null,
      "overflow_y": null,
      "padding": null,
      "right": null,
      "top": null,
      "visibility": null,
      "width": null
     }
    },
    "0f6a8c36739348818bb3c3fca8b3af5c": {
     "model_module": "@jupyter-widgets/controls",
     "model_name": "FloatProgressModel",
     "state": {
      "_dom_classes": [],
      "_model_module": "@jupyter-widgets/controls",
      "_model_module_version": "1.5.0",
      "_model_name": "FloatProgressModel",
      "_view_count": null,
      "_view_module": "@jupyter-widgets/controls",
      "_view_module_version": "1.5.0",
      "_view_name": "ProgressView",
      "bar_style": "success",
      "description": "100%",
      "description_tooltip": null,
      "layout": "IPY_MODEL_cf5d4ccd93854d7db00e30586e5fad42",
      "max": 26,
      "min": 0,
      "orientation": "horizontal",
      "style": "IPY_MODEL_d031d1f0a1834f8e910d3fa7dfaf46fa",
      "value": 26
     }
    },
    "10d9d4454df6469c8f9695d9c219f95d": {
     "model_module": "@jupyter-widgets/base",
     "model_name": "LayoutModel",
     "state": {
      "_model_module": "@jupyter-widgets/base",
      "_model_module_version": "1.2.0",
      "_model_name": "LayoutModel",
      "_view_count": null,
      "_view_module": "@jupyter-widgets/base",
      "_view_module_version": "1.2.0",
      "_view_name": "LayoutView",
      "align_content": null,
      "align_items": null,
      "align_self": null,
      "border": null,
      "bottom": null,
      "display": null,
      "flex": null,
      "flex_flow": null,
      "grid_area": null,
      "grid_auto_columns": null,
      "grid_auto_flow": null,
      "grid_auto_rows": null,
      "grid_column": null,
      "grid_gap": null,
      "grid_row": null,
      "grid_template_areas": null,
      "grid_template_columns": null,
      "grid_template_rows": null,
      "height": null,
      "justify_content": null,
      "justify_items": null,
      "left": null,
      "margin": null,
      "max_height": null,
      "max_width": null,
      "min_height": null,
      "min_width": null,
      "object_fit": null,
      "object_position": null,
      "order": null,
      "overflow": null,
      "overflow_x": null,
      "overflow_y": null,
      "padding": null,
      "right": null,
      "top": null,
      "visibility": null,
      "width": null
     }
    },
    "13d66d8f98364de89b6f1d2ca9aa5b20": {
     "model_module": "@jupyter-widgets/controls",
     "model_name": "DescriptionStyleModel",
     "state": {
      "_model_module": "@jupyter-widgets/controls",
      "_model_module_version": "1.5.0",
      "_model_name": "DescriptionStyleModel",
      "_view_count": null,
      "_view_module": "@jupyter-widgets/base",
      "_view_module_version": "1.2.0",
      "_view_name": "StyleView",
      "description_width": ""
     }
    },
    "17bc452daac44045afd23e0f8c295120": {
     "model_module": "@jupyter-widgets/base",
     "model_name": "LayoutModel",
     "state": {
      "_model_module": "@jupyter-widgets/base",
      "_model_module_version": "1.2.0",
      "_model_name": "LayoutModel",
      "_view_count": null,
      "_view_module": "@jupyter-widgets/base",
      "_view_module_version": "1.2.0",
      "_view_name": "LayoutView",
      "align_content": null,
      "align_items": null,
      "align_self": null,
      "border": null,
      "bottom": null,
      "display": null,
      "flex": null,
      "flex_flow": null,
      "grid_area": null,
      "grid_auto_columns": null,
      "grid_auto_flow": null,
      "grid_auto_rows": null,
      "grid_column": null,
      "grid_gap": null,
      "grid_row": null,
      "grid_template_areas": null,
      "grid_template_columns": null,
      "grid_template_rows": null,
      "height": null,
      "justify_content": null,
      "justify_items": null,
      "left": null,
      "margin": null,
      "max_height": null,
      "max_width": null,
      "min_height": null,
      "min_width": null,
      "object_fit": null,
      "object_position": null,
      "order": null,
      "overflow": null,
      "overflow_x": null,
      "overflow_y": null,
      "padding": null,
      "right": null,
      "top": null,
      "visibility": null,
      "width": null
     }
    },
    "1854396b20914da7b5c4cd5bcf55f47c": {
     "model_module": "@jupyter-widgets/base",
     "model_name": "LayoutModel",
     "state": {
      "_model_module": "@jupyter-widgets/base",
      "_model_module_version": "1.2.0",
      "_model_name": "LayoutModel",
      "_view_count": null,
      "_view_module": "@jupyter-widgets/base",
      "_view_module_version": "1.2.0",
      "_view_name": "LayoutView",
      "align_content": null,
      "align_items": null,
      "align_self": null,
      "border": null,
      "bottom": null,
      "display": null,
      "flex": null,
      "flex_flow": null,
      "grid_area": null,
      "grid_auto_columns": null,
      "grid_auto_flow": null,
      "grid_auto_rows": null,
      "grid_column": null,
      "grid_gap": null,
      "grid_row": null,
      "grid_template_areas": null,
      "grid_template_columns": null,
      "grid_template_rows": null,
      "height": null,
      "justify_content": null,
      "justify_items": null,
      "left": null,
      "margin": null,
      "max_height": null,
      "max_width": null,
      "min_height": null,
      "min_width": null,
      "object_fit": null,
      "object_position": null,
      "order": null,
      "overflow": null,
      "overflow_x": null,
      "overflow_y": null,
      "padding": null,
      "right": null,
      "top": null,
      "visibility": null,
      "width": null
     }
    },
    "1a1e68468aaa457a9a028e9d3e143493": {
     "model_module": "@jupyter-widgets/controls",
     "model_name": "DescriptionStyleModel",
     "state": {
      "_model_module": "@jupyter-widgets/controls",
      "_model_module_version": "1.5.0",
      "_model_name": "DescriptionStyleModel",
      "_view_count": null,
      "_view_module": "@jupyter-widgets/base",
      "_view_module_version": "1.2.0",
      "_view_name": "StyleView",
      "description_width": ""
     }
    },
    "1a4f13d8a5bf47e5b9f999ce2b839c19": {
     "model_module": "@jupyter-widgets/base",
     "model_name": "LayoutModel",
     "state": {
      "_model_module": "@jupyter-widgets/base",
      "_model_module_version": "1.2.0",
      "_model_name": "LayoutModel",
      "_view_count": null,
      "_view_module": "@jupyter-widgets/base",
      "_view_module_version": "1.2.0",
      "_view_name": "LayoutView",
      "align_content": null,
      "align_items": null,
      "align_self": null,
      "border": null,
      "bottom": null,
      "display": null,
      "flex": null,
      "flex_flow": null,
      "grid_area": null,
      "grid_auto_columns": null,
      "grid_auto_flow": null,
      "grid_auto_rows": null,
      "grid_column": null,
      "grid_gap": null,
      "grid_row": null,
      "grid_template_areas": null,
      "grid_template_columns": null,
      "grid_template_rows": null,
      "height": null,
      "justify_content": null,
      "justify_items": null,
      "left": null,
      "margin": null,
      "max_height": null,
      "max_width": null,
      "min_height": null,
      "min_width": null,
      "object_fit": null,
      "object_position": null,
      "order": null,
      "overflow": null,
      "overflow_x": null,
      "overflow_y": null,
      "padding": null,
      "right": null,
      "top": null,
      "visibility": null,
      "width": null
     }
    },
    "1ab4b60142c84ee1a7d245c6ec76a1f7": {
     "model_module": "@jupyter-widgets/base",
     "model_name": "LayoutModel",
     "state": {
      "_model_module": "@jupyter-widgets/base",
      "_model_module_version": "1.2.0",
      "_model_name": "LayoutModel",
      "_view_count": null,
      "_view_module": "@jupyter-widgets/base",
      "_view_module_version": "1.2.0",
      "_view_name": "LayoutView",
      "align_content": null,
      "align_items": null,
      "align_self": null,
      "border": null,
      "bottom": null,
      "display": null,
      "flex": null,
      "flex_flow": null,
      "grid_area": null,
      "grid_auto_columns": null,
      "grid_auto_flow": null,
      "grid_auto_rows": null,
      "grid_column": null,
      "grid_gap": null,
      "grid_row": null,
      "grid_template_areas": null,
      "grid_template_columns": null,
      "grid_template_rows": null,
      "height": null,
      "justify_content": null,
      "justify_items": null,
      "left": null,
      "margin": null,
      "max_height": null,
      "max_width": null,
      "min_height": null,
      "min_width": null,
      "object_fit": null,
      "object_position": null,
      "order": null,
      "overflow": null,
      "overflow_x": null,
      "overflow_y": null,
      "padding": null,
      "right": null,
      "top": null,
      "visibility": null,
      "width": null
     }
    },
    "1fa6f738b3e4441c9fdfcefb3d3669a8": {
     "model_module": "@jupyter-widgets/controls",
     "model_name": "ProgressStyleModel",
     "state": {
      "_model_module": "@jupyter-widgets/controls",
      "_model_module_version": "1.5.0",
      "_model_name": "ProgressStyleModel",
      "_view_count": null,
      "_view_module": "@jupyter-widgets/base",
      "_view_module_version": "1.2.0",
      "_view_name": "StyleView",
      "bar_color": null,
      "description_width": "initial"
     }
    },
    "24664c2381954eefa3bfca62bc4855de": {
     "model_module": "@jupyter-widgets/base",
     "model_name": "LayoutModel",
     "state": {
      "_model_module": "@jupyter-widgets/base",
      "_model_module_version": "1.2.0",
      "_model_name": "LayoutModel",
      "_view_count": null,
      "_view_module": "@jupyter-widgets/base",
      "_view_module_version": "1.2.0",
      "_view_name": "LayoutView",
      "align_content": null,
      "align_items": null,
      "align_self": null,
      "border": null,
      "bottom": null,
      "display": null,
      "flex": null,
      "flex_flow": null,
      "grid_area": null,
      "grid_auto_columns": null,
      "grid_auto_flow": null,
      "grid_auto_rows": null,
      "grid_column": null,
      "grid_gap": null,
      "grid_row": null,
      "grid_template_areas": null,
      "grid_template_columns": null,
      "grid_template_rows": null,
      "height": null,
      "justify_content": null,
      "justify_items": null,
      "left": null,
      "margin": null,
      "max_height": null,
      "max_width": null,
      "min_height": null,
      "min_width": null,
      "object_fit": null,
      "object_position": null,
      "order": null,
      "overflow": null,
      "overflow_x": null,
      "overflow_y": null,
      "padding": null,
      "right": null,
      "top": null,
      "visibility": null,
      "width": null
     }
    },
    "2b52d8edc73e450983dfd14b57a1edba": {
     "model_module": "@jupyter-widgets/controls",
     "model_name": "DescriptionStyleModel",
     "state": {
      "_model_module": "@jupyter-widgets/controls",
      "_model_module_version": "1.5.0",
      "_model_name": "DescriptionStyleModel",
      "_view_count": null,
      "_view_module": "@jupyter-widgets/base",
      "_view_module_version": "1.2.0",
      "_view_name": "StyleView",
      "description_width": ""
     }
    },
    "2eaf41d3bc7a4a74abe4cd729e54d4d9": {
     "model_module": "@jupyter-widgets/controls",
     "model_name": "DescriptionStyleModel",
     "state": {
      "_model_module": "@jupyter-widgets/controls",
      "_model_module_version": "1.5.0",
      "_model_name": "DescriptionStyleModel",
      "_view_count": null,
      "_view_module": "@jupyter-widgets/base",
      "_view_module_version": "1.2.0",
      "_view_name": "StyleView",
      "description_width": ""
     }
    },
    "2f45d104e70c4184bf467c146e14c021": {
     "model_module": "@jupyter-widgets/controls",
     "model_name": "ProgressStyleModel",
     "state": {
      "_model_module": "@jupyter-widgets/controls",
      "_model_module_version": "1.5.0",
      "_model_name": "ProgressStyleModel",
      "_view_count": null,
      "_view_module": "@jupyter-widgets/base",
      "_view_module_version": "1.2.0",
      "_view_name": "StyleView",
      "bar_color": null,
      "description_width": "initial"
     }
    },
    "31c2c75c41d64452843326b79c206bbb": {
     "model_module": "@jupyter-widgets/controls",
     "model_name": "HBoxModel",
     "state": {
      "_dom_classes": [],
      "_model_module": "@jupyter-widgets/controls",
      "_model_module_version": "1.5.0",
      "_model_name": "HBoxModel",
      "_view_count": null,
      "_view_module": "@jupyter-widgets/controls",
      "_view_module_version": "1.5.0",
      "_view_name": "HBoxView",
      "box_style": "",
      "children": [
       "IPY_MODEL_b05bf414416843dca9323f1dd6dee499",
       "IPY_MODEL_8cf5dd12944b45cc95c0e291615e00a8"
      ],
      "layout": "IPY_MODEL_9b51742c76324fdbbdf6d69d2d9d32eb"
     }
    },
    "3389fe9541674f33924d63b8825828a0": {
     "model_module": "@jupyter-widgets/controls",
     "model_name": "HBoxModel",
     "state": {
      "_dom_classes": [],
      "_model_module": "@jupyter-widgets/controls",
      "_model_module_version": "1.5.0",
      "_model_name": "HBoxModel",
      "_view_count": null,
      "_view_module": "@jupyter-widgets/controls",
      "_view_module_version": "1.5.0",
      "_view_name": "HBoxView",
      "box_style": "",
      "children": [
       "IPY_MODEL_3970ccced8cd40f6b465fa9b72dc8773",
       "IPY_MODEL_e9021739a74745e78ab3f378459cf21f"
      ],
      "layout": "IPY_MODEL_61cd07c7dca4442f9eb033a8576d7f29"
     }
    },
    "3970ccced8cd40f6b465fa9b72dc8773": {
     "model_module": "@jupyter-widgets/controls",
     "model_name": "FloatProgressModel",
     "state": {
      "_dom_classes": [],
      "_model_module": "@jupyter-widgets/controls",
      "_model_module_version": "1.5.0",
      "_model_name": "FloatProgressModel",
      "_view_count": null,
      "_view_module": "@jupyter-widgets/controls",
      "_view_module_version": "1.5.0",
      "_view_name": "ProgressView",
      "bar_style": "success",
      "description": "100%",
      "description_tooltip": null,
      "layout": "IPY_MODEL_10d9d4454df6469c8f9695d9c219f95d",
      "max": 32,
      "min": 0,
      "orientation": "horizontal",
      "style": "IPY_MODEL_3e566513291d4a77bb53b709949479d8",
      "value": 32
     }
    },
    "3cd5c98b0f004c37ae45ca84b0a6c767": {
     "model_module": "@jupyter-widgets/controls",
     "model_name": "HBoxModel",
     "state": {
      "_dom_classes": [],
      "_model_module": "@jupyter-widgets/controls",
      "_model_module_version": "1.5.0",
      "_model_name": "HBoxModel",
      "_view_count": null,
      "_view_module": "@jupyter-widgets/controls",
      "_view_module_version": "1.5.0",
      "_view_name": "HBoxView",
      "box_style": "",
      "children": [
       "IPY_MODEL_d2ccd973cb544b189933eb7dd87e47da",
       "IPY_MODEL_5e922d4d3798421b841fbc10567d4088"
      ],
      "layout": "IPY_MODEL_a9d22e6f5f144510a3b04eb6b043a301"
     }
    },
    "3e1f77d31dde4cf5891c1e8b28902c8a": {
     "model_module": "@jupyter-widgets/base",
     "model_name": "LayoutModel",
     "state": {
      "_model_module": "@jupyter-widgets/base",
      "_model_module_version": "1.2.0",
      "_model_name": "LayoutModel",
      "_view_count": null,
      "_view_module": "@jupyter-widgets/base",
      "_view_module_version": "1.2.0",
      "_view_name": "LayoutView",
      "align_content": null,
      "align_items": null,
      "align_self": null,
      "border": null,
      "bottom": null,
      "display": null,
      "flex": null,
      "flex_flow": null,
      "grid_area": null,
      "grid_auto_columns": null,
      "grid_auto_flow": null,
      "grid_auto_rows": null,
      "grid_column": null,
      "grid_gap": null,
      "grid_row": null,
      "grid_template_areas": null,
      "grid_template_columns": null,
      "grid_template_rows": null,
      "height": null,
      "justify_content": null,
      "justify_items": null,
      "left": null,
      "margin": null,
      "max_height": null,
      "max_width": null,
      "min_height": null,
      "min_width": null,
      "object_fit": null,
      "object_position": null,
      "order": null,
      "overflow": null,
      "overflow_x": null,
      "overflow_y": null,
      "padding": null,
      "right": null,
      "top": null,
      "visibility": null,
      "width": null
     }
    },
    "3e566513291d4a77bb53b709949479d8": {
     "model_module": "@jupyter-widgets/controls",
     "model_name": "ProgressStyleModel",
     "state": {
      "_model_module": "@jupyter-widgets/controls",
      "_model_module_version": "1.5.0",
      "_model_name": "ProgressStyleModel",
      "_view_count": null,
      "_view_module": "@jupyter-widgets/base",
      "_view_module_version": "1.2.0",
      "_view_name": "StyleView",
      "bar_color": null,
      "description_width": "initial"
     }
    },
    "4352210e25f041139ba79c0c6e4bc15c": {
     "model_module": "@jupyter-widgets/controls",
     "model_name": "HBoxModel",
     "state": {
      "_dom_classes": [],
      "_model_module": "@jupyter-widgets/controls",
      "_model_module_version": "1.5.0",
      "_model_name": "HBoxModel",
      "_view_count": null,
      "_view_module": "@jupyter-widgets/controls",
      "_view_module_version": "1.5.0",
      "_view_name": "HBoxView",
      "box_style": "",
      "children": [
       "IPY_MODEL_5a388f118abd4aedb9b60b4137c9ce01",
       "IPY_MODEL_d620388d1cef4c96a192c585b12314ff"
      ],
      "layout": "IPY_MODEL_e0f22b2d546a4e76878bb21e51478980"
     }
    },
    "43a047f4344c41d29de317a987548025": {
     "model_module": "@jupyter-widgets/base",
     "model_name": "LayoutModel",
     "state": {
      "_model_module": "@jupyter-widgets/base",
      "_model_module_version": "1.2.0",
      "_model_name": "LayoutModel",
      "_view_count": null,
      "_view_module": "@jupyter-widgets/base",
      "_view_module_version": "1.2.0",
      "_view_name": "LayoutView",
      "align_content": null,
      "align_items": null,
      "align_self": null,
      "border": null,
      "bottom": null,
      "display": null,
      "flex": null,
      "flex_flow": null,
      "grid_area": null,
      "grid_auto_columns": null,
      "grid_auto_flow": null,
      "grid_auto_rows": null,
      "grid_column": null,
      "grid_gap": null,
      "grid_row": null,
      "grid_template_areas": null,
      "grid_template_columns": null,
      "grid_template_rows": null,
      "height": null,
      "justify_content": null,
      "justify_items": null,
      "left": null,
      "margin": null,
      "max_height": null,
      "max_width": null,
      "min_height": null,
      "min_width": null,
      "object_fit": null,
      "object_position": null,
      "order": null,
      "overflow": null,
      "overflow_x": null,
      "overflow_y": null,
      "padding": null,
      "right": null,
      "top": null,
      "visibility": null,
      "width": null
     }
    },
    "47a48d0ee4a34a2badf79fe20d4da187": {
     "model_module": "@jupyter-widgets/controls",
     "model_name": "FloatProgressModel",
     "state": {
      "_dom_classes": [],
      "_model_module": "@jupyter-widgets/controls",
      "_model_module_version": "1.5.0",
      "_model_name": "FloatProgressModel",
      "_view_count": null,
      "_view_module": "@jupyter-widgets/controls",
      "_view_module_version": "1.5.0",
      "_view_name": "ProgressView",
      "bar_style": "success",
      "description": "100%",
      "description_tooltip": null,
      "layout": "IPY_MODEL_60ef8cdf28314040a691a63873f4b68c",
      "max": 26,
      "min": 0,
      "orientation": "horizontal",
      "style": "IPY_MODEL_0255bb020f0c47d39211fc79fe62e6a0",
      "value": 26
     }
    },
    "50cc2e33077e43488c866d2f6adc880d": {
     "model_module": "@jupyter-widgets/controls",
     "model_name": "DescriptionStyleModel",
     "state": {
      "_model_module": "@jupyter-widgets/controls",
      "_model_module_version": "1.5.0",
      "_model_name": "DescriptionStyleModel",
      "_view_count": null,
      "_view_module": "@jupyter-widgets/base",
      "_view_module_version": "1.2.0",
      "_view_name": "StyleView",
      "description_width": ""
     }
    },
    "53d75915eb7e4fc09fc01ae2179b77f4": {
     "model_module": "@jupyter-widgets/base",
     "model_name": "LayoutModel",
     "state": {
      "_model_module": "@jupyter-widgets/base",
      "_model_module_version": "1.2.0",
      "_model_name": "LayoutModel",
      "_view_count": null,
      "_view_module": "@jupyter-widgets/base",
      "_view_module_version": "1.2.0",
      "_view_name": "LayoutView",
      "align_content": null,
      "align_items": null,
      "align_self": null,
      "border": null,
      "bottom": null,
      "display": null,
      "flex": null,
      "flex_flow": null,
      "grid_area": null,
      "grid_auto_columns": null,
      "grid_auto_flow": null,
      "grid_auto_rows": null,
      "grid_column": null,
      "grid_gap": null,
      "grid_row": null,
      "grid_template_areas": null,
      "grid_template_columns": null,
      "grid_template_rows": null,
      "height": null,
      "justify_content": null,
      "justify_items": null,
      "left": null,
      "margin": null,
      "max_height": null,
      "max_width": null,
      "min_height": null,
      "min_width": null,
      "object_fit": null,
      "object_position": null,
      "order": null,
      "overflow": null,
      "overflow_x": null,
      "overflow_y": null,
      "padding": null,
      "right": null,
      "top": null,
      "visibility": null,
      "width": null
     }
    },
    "57d394fcb3e34416a7177fb480145606": {
     "model_module": "@jupyter-widgets/controls",
     "model_name": "ProgressStyleModel",
     "state": {
      "_model_module": "@jupyter-widgets/controls",
      "_model_module_version": "1.5.0",
      "_model_name": "ProgressStyleModel",
      "_view_count": null,
      "_view_module": "@jupyter-widgets/base",
      "_view_module_version": "1.2.0",
      "_view_name": "StyleView",
      "bar_color": null,
      "description_width": "initial"
     }
    },
    "5a388f118abd4aedb9b60b4137c9ce01": {
     "model_module": "@jupyter-widgets/controls",
     "model_name": "FloatProgressModel",
     "state": {
      "_dom_classes": [],
      "_model_module": "@jupyter-widgets/controls",
      "_model_module_version": "1.5.0",
      "_model_name": "FloatProgressModel",
      "_view_count": null,
      "_view_module": "@jupyter-widgets/controls",
      "_view_module_version": "1.5.0",
      "_view_name": "ProgressView",
      "bar_style": "success",
      "description": "100%",
      "description_tooltip": null,
      "layout": "IPY_MODEL_61ad93a0696f4bf1bf835932a67b0de1",
      "max": 7,
      "min": 0,
      "orientation": "horizontal",
      "style": "IPY_MODEL_994fa4c846a64174995f66f0071489d4",
      "value": 7
     }
    },
    "5e922d4d3798421b841fbc10567d4088": {
     "model_module": "@jupyter-widgets/controls",
     "model_name": "HTMLModel",
     "state": {
      "_dom_classes": [],
      "_model_module": "@jupyter-widgets/controls",
      "_model_module_version": "1.5.0",
      "_model_name": "HTMLModel",
      "_view_count": null,
      "_view_module": "@jupyter-widgets/controls",
      "_view_module_version": "1.5.0",
      "_view_name": "HTMLView",
      "description": "",
      "description_tooltip": null,
      "layout": "IPY_MODEL_24664c2381954eefa3bfca62bc4855de",
      "placeholder": "​",
      "style": "IPY_MODEL_1a1e68468aaa457a9a028e9d3e143493",
      "value": " 15/15 [49:31&lt;00:00, 198.09s/it]"
     }
    },
    "60ef8cdf28314040a691a63873f4b68c": {
     "model_module": "@jupyter-widgets/base",
     "model_name": "LayoutModel",
     "state": {
      "_model_module": "@jupyter-widgets/base",
      "_model_module_version": "1.2.0",
      "_model_name": "LayoutModel",
      "_view_count": null,
      "_view_module": "@jupyter-widgets/base",
      "_view_module_version": "1.2.0",
      "_view_name": "LayoutView",
      "align_content": null,
      "align_items": null,
      "align_self": null,
      "border": null,
      "bottom": null,
      "display": null,
      "flex": null,
      "flex_flow": null,
      "grid_area": null,
      "grid_auto_columns": null,
      "grid_auto_flow": null,
      "grid_auto_rows": null,
      "grid_column": null,
      "grid_gap": null,
      "grid_row": null,
      "grid_template_areas": null,
      "grid_template_columns": null,
      "grid_template_rows": null,
      "height": null,
      "justify_content": null,
      "justify_items": null,
      "left": null,
      "margin": null,
      "max_height": null,
      "max_width": null,
      "min_height": null,
      "min_width": null,
      "object_fit": null,
      "object_position": null,
      "order": null,
      "overflow": null,
      "overflow_x": null,
      "overflow_y": null,
      "padding": null,
      "right": null,
      "top": null,
      "visibility": null,
      "width": null
     }
    },
    "61ad93a0696f4bf1bf835932a67b0de1": {
     "model_module": "@jupyter-widgets/base",
     "model_name": "LayoutModel",
     "state": {
      "_model_module": "@jupyter-widgets/base",
      "_model_module_version": "1.2.0",
      "_model_name": "LayoutModel",
      "_view_count": null,
      "_view_module": "@jupyter-widgets/base",
      "_view_module_version": "1.2.0",
      "_view_name": "LayoutView",
      "align_content": null,
      "align_items": null,
      "align_self": null,
      "border": null,
      "bottom": null,
      "display": null,
      "flex": null,
      "flex_flow": null,
      "grid_area": null,
      "grid_auto_columns": null,
      "grid_auto_flow": null,
      "grid_auto_rows": null,
      "grid_column": null,
      "grid_gap": null,
      "grid_row": null,
      "grid_template_areas": null,
      "grid_template_columns": null,
      "grid_template_rows": null,
      "height": null,
      "justify_content": null,
      "justify_items": null,
      "left": null,
      "margin": null,
      "max_height": null,
      "max_width": null,
      "min_height": null,
      "min_width": null,
      "object_fit": null,
      "object_position": null,
      "order": null,
      "overflow": null,
      "overflow_x": null,
      "overflow_y": null,
      "padding": null,
      "right": null,
      "top": null,
      "visibility": null,
      "width": null
     }
    },
    "61cd07c7dca4442f9eb033a8576d7f29": {
     "model_module": "@jupyter-widgets/base",
     "model_name": "LayoutModel",
     "state": {
      "_model_module": "@jupyter-widgets/base",
      "_model_module_version": "1.2.0",
      "_model_name": "LayoutModel",
      "_view_count": null,
      "_view_module": "@jupyter-widgets/base",
      "_view_module_version": "1.2.0",
      "_view_name": "LayoutView",
      "align_content": null,
      "align_items": null,
      "align_self": null,
      "border": null,
      "bottom": null,
      "display": null,
      "flex": null,
      "flex_flow": null,
      "grid_area": null,
      "grid_auto_columns": null,
      "grid_auto_flow": null,
      "grid_auto_rows": null,
      "grid_column": null,
      "grid_gap": null,
      "grid_row": null,
      "grid_template_areas": null,
      "grid_template_columns": null,
      "grid_template_rows": null,
      "height": null,
      "justify_content": null,
      "justify_items": null,
      "left": null,
      "margin": null,
      "max_height": null,
      "max_width": null,
      "min_height": null,
      "min_width": null,
      "object_fit": null,
      "object_position": null,
      "order": null,
      "overflow": null,
      "overflow_x": null,
      "overflow_y": null,
      "padding": null,
      "right": null,
      "top": null,
      "visibility": null,
      "width": null
     }
    },
    "640c0626a7524ce4b184595f01527c20": {
     "model_module": "@jupyter-widgets/base",
     "model_name": "LayoutModel",
     "state": {
      "_model_module": "@jupyter-widgets/base",
      "_model_module_version": "1.2.0",
      "_model_name": "LayoutModel",
      "_view_count": null,
      "_view_module": "@jupyter-widgets/base",
      "_view_module_version": "1.2.0",
      "_view_name": "LayoutView",
      "align_content": null,
      "align_items": null,
      "align_self": null,
      "border": null,
      "bottom": null,
      "display": null,
      "flex": null,
      "flex_flow": null,
      "grid_area": null,
      "grid_auto_columns": null,
      "grid_auto_flow": null,
      "grid_auto_rows": null,
      "grid_column": null,
      "grid_gap": null,
      "grid_row": null,
      "grid_template_areas": null,
      "grid_template_columns": null,
      "grid_template_rows": null,
      "height": null,
      "justify_content": null,
      "justify_items": null,
      "left": null,
      "margin": null,
      "max_height": null,
      "max_width": null,
      "min_height": null,
      "min_width": null,
      "object_fit": null,
      "object_position": null,
      "order": null,
      "overflow": null,
      "overflow_x": null,
      "overflow_y": null,
      "padding": null,
      "right": null,
      "top": null,
      "visibility": null,
      "width": null
     }
    },
    "64b28a8d0ff94aa0aedfad31bf06d5ce": {
     "model_module": "@jupyter-widgets/controls",
     "model_name": "DescriptionStyleModel",
     "state": {
      "_model_module": "@jupyter-widgets/controls",
      "_model_module_version": "1.5.0",
      "_model_name": "DescriptionStyleModel",
      "_view_count": null,
      "_view_module": "@jupyter-widgets/base",
      "_view_module_version": "1.2.0",
      "_view_name": "StyleView",
      "description_width": ""
     }
    },
    "6f4f40ed2d4b471980cbd6dd0dae4b78": {
     "model_module": "@jupyter-widgets/controls",
     "model_name": "HBoxModel",
     "state": {
      "_dom_classes": [],
      "_model_module": "@jupyter-widgets/controls",
      "_model_module_version": "1.5.0",
      "_model_name": "HBoxModel",
      "_view_count": null,
      "_view_module": "@jupyter-widgets/controls",
      "_view_module_version": "1.5.0",
      "_view_name": "HBoxView",
      "box_style": "",
      "children": [
       "IPY_MODEL_7685d590ec6141d4ad5648130405706c",
       "IPY_MODEL_ab4c0b87150d45a29070c12723eef196"
      ],
      "layout": "IPY_MODEL_91e85836566142b09d00d680f9a26d7c"
     }
    },
    "7685d590ec6141d4ad5648130405706c": {
     "model_module": "@jupyter-widgets/controls",
     "model_name": "FloatProgressModel",
     "state": {
      "_dom_classes": [],
      "_model_module": "@jupyter-widgets/controls",
      "_model_module_version": "1.5.0",
      "_model_name": "FloatProgressModel",
      "_view_count": null,
      "_view_module": "@jupyter-widgets/controls",
      "_view_module_version": "1.5.0",
      "_view_name": "ProgressView",
      "bar_style": "success",
      "description": "100%",
      "description_tooltip": null,
      "layout": "IPY_MODEL_1ab4b60142c84ee1a7d245c6ec76a1f7",
      "max": 15,
      "min": 0,
      "orientation": "horizontal",
      "style": "IPY_MODEL_2f45d104e70c4184bf467c146e14c021",
      "value": 15
     }
    },
    "7c04ec33df38446593dfdffc228d5580": {
     "model_module": "@jupyter-widgets/controls",
     "model_name": "HTMLModel",
     "state": {
      "_dom_classes": [],
      "_model_module": "@jupyter-widgets/controls",
      "_model_module_version": "1.5.0",
      "_model_name": "HTMLModel",
      "_view_count": null,
      "_view_module": "@jupyter-widgets/controls",
      "_view_module_version": "1.5.0",
      "_view_name": "HTMLView",
      "description": "",
      "description_tooltip": null,
      "layout": "IPY_MODEL_c368c52816ce4050834e089c9841fe52",
      "placeholder": "​",
      "style": "IPY_MODEL_c867cc961f364a0a87be013805cf15f6",
      "value": " 26/26 [19:02&lt;00:00, 43.94s/it]"
     }
    },
    "7e45a50ed3e34417be68d825eeb992e7": {
     "model_module": "@jupyter-widgets/controls",
     "model_name": "ProgressStyleModel",
     "state": {
      "_model_module": "@jupyter-widgets/controls",
      "_model_module_version": "1.5.0",
      "_model_name": "ProgressStyleModel",
      "_view_count": null,
      "_view_module": "@jupyter-widgets/base",
      "_view_module_version": "1.2.0",
      "_view_name": "StyleView",
      "bar_color": null,
      "description_width": "initial"
     }
    },
    "805b6a40731c475da2a10b226029a78e": {
     "model_module": "@jupyter-widgets/controls",
     "model_name": "HTMLModel",
     "state": {
      "_dom_classes": [],
      "_model_module": "@jupyter-widgets/controls",
      "_model_module_version": "1.5.0",
      "_model_name": "HTMLModel",
      "_view_count": null,
      "_view_module": "@jupyter-widgets/controls",
      "_view_module_version": "1.5.0",
      "_view_name": "HTMLView",
      "description": "",
      "description_tooltip": null,
      "layout": "IPY_MODEL_53d75915eb7e4fc09fc01ae2179b77f4",
      "placeholder": "​",
      "style": "IPY_MODEL_13d66d8f98364de89b6f1d2ca9aa5b20",
      "value": " 26/26 [16:05&lt;00:00, 37.15s/it]"
     }
    },
    "8255582be886419ab0079ce6f7bfcb6f": {
     "model_module": "@jupyter-widgets/controls",
     "model_name": "ProgressStyleModel",
     "state": {
      "_model_module": "@jupyter-widgets/controls",
      "_model_module_version": "1.5.0",
      "_model_name": "ProgressStyleModel",
      "_view_count": null,
      "_view_module": "@jupyter-widgets/base",
      "_view_module_version": "1.2.0",
      "_view_name": "StyleView",
      "bar_color": null,
      "description_width": "initial"
     }
    },
    "8333c69b55404038a05e10a7bf96ce31": {
     "model_module": "@jupyter-widgets/controls",
     "model_name": "HTMLModel",
     "state": {
      "_dom_classes": [],
      "_model_module": "@jupyter-widgets/controls",
      "_model_module_version": "1.5.0",
      "_model_name": "HTMLModel",
      "_view_count": null,
      "_view_module": "@jupyter-widgets/controls",
      "_view_module_version": "1.5.0",
      "_view_name": "HTMLView",
      "description": "",
      "description_tooltip": null,
      "layout": "IPY_MODEL_1a4f13d8a5bf47e5b9f999ce2b839c19",
      "placeholder": "​",
      "style": "IPY_MODEL_64b28a8d0ff94aa0aedfad31bf06d5ce",
      "value": " 15/15 [1:36:33&lt;00:00, 386.21s/it]"
     }
    },
    "8cf5dd12944b45cc95c0e291615e00a8": {
     "model_module": "@jupyter-widgets/controls",
     "model_name": "HTMLModel",
     "state": {
      "_dom_classes": [],
      "_model_module": "@jupyter-widgets/controls",
      "_model_module_version": "1.5.0",
      "_model_name": "HTMLModel",
      "_view_count": null,
      "_view_module": "@jupyter-widgets/controls",
      "_view_module_version": "1.5.0",
      "_view_name": "HTMLView",
      "description": "",
      "description_tooltip": null,
      "layout": "IPY_MODEL_be8476e28f2d4cba966247cfc4ca513f",
      "placeholder": "​",
      "style": "IPY_MODEL_2eaf41d3bc7a4a74abe4cd729e54d4d9",
      "value": " 34/34 [20:47&lt;00:00, 36.70s/it]"
     }
    },
    "8e31ca2da94942e7ba43d1eb753691de": {
     "model_module": "@jupyter-widgets/controls",
     "model_name": "DescriptionStyleModel",
     "state": {
      "_model_module": "@jupyter-widgets/controls",
      "_model_module_version": "1.5.0",
      "_model_name": "DescriptionStyleModel",
      "_view_count": null,
      "_view_module": "@jupyter-widgets/base",
      "_view_module_version": "1.2.0",
      "_view_name": "StyleView",
      "description_width": ""
     }
    },
    "91e85836566142b09d00d680f9a26d7c": {
     "model_module": "@jupyter-widgets/base",
     "model_name": "LayoutModel",
     "state": {
      "_model_module": "@jupyter-widgets/base",
      "_model_module_version": "1.2.0",
      "_model_name": "LayoutModel",
      "_view_count": null,
      "_view_module": "@jupyter-widgets/base",
      "_view_module_version": "1.2.0",
      "_view_name": "LayoutView",
      "align_content": null,
      "align_items": null,
      "align_self": null,
      "border": null,
      "bottom": null,
      "display": null,
      "flex": null,
      "flex_flow": null,
      "grid_area": null,
      "grid_auto_columns": null,
      "grid_auto_flow": null,
      "grid_auto_rows": null,
      "grid_column": null,
      "grid_gap": null,
      "grid_row": null,
      "grid_template_areas": null,
      "grid_template_columns": null,
      "grid_template_rows": null,
      "height": null,
      "justify_content": null,
      "justify_items": null,
      "left": null,
      "margin": null,
      "max_height": null,
      "max_width": null,
      "min_height": null,
      "min_width": null,
      "object_fit": null,
      "object_position": null,
      "order": null,
      "overflow": null,
      "overflow_x": null,
      "overflow_y": null,
      "padding": null,
      "right": null,
      "top": null,
      "visibility": null,
      "width": null
     }
    },
    "925d022717b148f0b4cb9eebc1c55531": {
     "model_module": "@jupyter-widgets/base",
     "model_name": "LayoutModel",
     "state": {
      "_model_module": "@jupyter-widgets/base",
      "_model_module_version": "1.2.0",
      "_model_name": "LayoutModel",
      "_view_count": null,
      "_view_module": "@jupyter-widgets/base",
      "_view_module_version": "1.2.0",
      "_view_name": "LayoutView",
      "align_content": null,
      "align_items": null,
      "align_self": null,
      "border": null,
      "bottom": null,
      "display": null,
      "flex": null,
      "flex_flow": null,
      "grid_area": null,
      "grid_auto_columns": null,
      "grid_auto_flow": null,
      "grid_auto_rows": null,
      "grid_column": null,
      "grid_gap": null,
      "grid_row": null,
      "grid_template_areas": null,
      "grid_template_columns": null,
      "grid_template_rows": null,
      "height": null,
      "justify_content": null,
      "justify_items": null,
      "left": null,
      "margin": null,
      "max_height": null,
      "max_width": null,
      "min_height": null,
      "min_width": null,
      "object_fit": null,
      "object_position": null,
      "order": null,
      "overflow": null,
      "overflow_x": null,
      "overflow_y": null,
      "padding": null,
      "right": null,
      "top": null,
      "visibility": null,
      "width": null
     }
    },
    "97ec21ad78af43b2891c5c57475f80f5": {
     "model_module": "@jupyter-widgets/base",
     "model_name": "LayoutModel",
     "state": {
      "_model_module": "@jupyter-widgets/base",
      "_model_module_version": "1.2.0",
      "_model_name": "LayoutModel",
      "_view_count": null,
      "_view_module": "@jupyter-widgets/base",
      "_view_module_version": "1.2.0",
      "_view_name": "LayoutView",
      "align_content": null,
      "align_items": null,
      "align_self": null,
      "border": null,
      "bottom": null,
      "display": null,
      "flex": null,
      "flex_flow": null,
      "grid_area": null,
      "grid_auto_columns": null,
      "grid_auto_flow": null,
      "grid_auto_rows": null,
      "grid_column": null,
      "grid_gap": null,
      "grid_row": null,
      "grid_template_areas": null,
      "grid_template_columns": null,
      "grid_template_rows": null,
      "height": null,
      "justify_content": null,
      "justify_items": null,
      "left": null,
      "margin": null,
      "max_height": null,
      "max_width": null,
      "min_height": null,
      "min_width": null,
      "object_fit": null,
      "object_position": null,
      "order": null,
      "overflow": null,
      "overflow_x": null,
      "overflow_y": null,
      "padding": null,
      "right": null,
      "top": null,
      "visibility": null,
      "width": null
     }
    },
    "994fa4c846a64174995f66f0071489d4": {
     "model_module": "@jupyter-widgets/controls",
     "model_name": "ProgressStyleModel",
     "state": {
      "_model_module": "@jupyter-widgets/controls",
      "_model_module_version": "1.5.0",
      "_model_name": "ProgressStyleModel",
      "_view_count": null,
      "_view_module": "@jupyter-widgets/base",
      "_view_module_version": "1.2.0",
      "_view_name": "StyleView",
      "bar_color": null,
      "description_width": "initial"
     }
    },
    "9b51742c76324fdbbdf6d69d2d9d32eb": {
     "model_module": "@jupyter-widgets/base",
     "model_name": "LayoutModel",
     "state": {
      "_model_module": "@jupyter-widgets/base",
      "_model_module_version": "1.2.0",
      "_model_name": "LayoutModel",
      "_view_count": null,
      "_view_module": "@jupyter-widgets/base",
      "_view_module_version": "1.2.0",
      "_view_name": "LayoutView",
      "align_content": null,
      "align_items": null,
      "align_self": null,
      "border": null,
      "bottom": null,
      "display": null,
      "flex": null,
      "flex_flow": null,
      "grid_area": null,
      "grid_auto_columns": null,
      "grid_auto_flow": null,
      "grid_auto_rows": null,
      "grid_column": null,
      "grid_gap": null,
      "grid_row": null,
      "grid_template_areas": null,
      "grid_template_columns": null,
      "grid_template_rows": null,
      "height": null,
      "justify_content": null,
      "justify_items": null,
      "left": null,
      "margin": null,
      "max_height": null,
      "max_width": null,
      "min_height": null,
      "min_width": null,
      "object_fit": null,
      "object_position": null,
      "order": null,
      "overflow": null,
      "overflow_x": null,
      "overflow_y": null,
      "padding": null,
      "right": null,
      "top": null,
      "visibility": null,
      "width": null
     }
    },
    "9c291c05a368424893be04870bf3668f": {
     "model_module": "@jupyter-widgets/base",
     "model_name": "LayoutModel",
     "state": {
      "_model_module": "@jupyter-widgets/base",
      "_model_module_version": "1.2.0",
      "_model_name": "LayoutModel",
      "_view_count": null,
      "_view_module": "@jupyter-widgets/base",
      "_view_module_version": "1.2.0",
      "_view_name": "LayoutView",
      "align_content": null,
      "align_items": null,
      "align_self": null,
      "border": null,
      "bottom": null,
      "display": null,
      "flex": null,
      "flex_flow": null,
      "grid_area": null,
      "grid_auto_columns": null,
      "grid_auto_flow": null,
      "grid_auto_rows": null,
      "grid_column": null,
      "grid_gap": null,
      "grid_row": null,
      "grid_template_areas": null,
      "grid_template_columns": null,
      "grid_template_rows": null,
      "height": null,
      "justify_content": null,
      "justify_items": null,
      "left": null,
      "margin": null,
      "max_height": null,
      "max_width": null,
      "min_height": null,
      "min_width": null,
      "object_fit": null,
      "object_position": null,
      "order": null,
      "overflow": null,
      "overflow_x": null,
      "overflow_y": null,
      "padding": null,
      "right": null,
      "top": null,
      "visibility": null,
      "width": null
     }
    },
    "9c2e635fa2c741978dea3e0a53a289be": {
     "model_module": "@jupyter-widgets/controls",
     "model_name": "HTMLModel",
     "state": {
      "_dom_classes": [],
      "_model_module": "@jupyter-widgets/controls",
      "_model_module_version": "1.5.0",
      "_model_name": "HTMLModel",
      "_view_count": null,
      "_view_module": "@jupyter-widgets/controls",
      "_view_module_version": "1.5.0",
      "_view_name": "HTMLView",
      "description": "",
      "description_tooltip": null,
      "layout": "IPY_MODEL_c0444bc14be844e1acb44eccba554bfc",
      "placeholder": "​",
      "style": "IPY_MODEL_8e31ca2da94942e7ba43d1eb753691de",
      "value": " 15/15 [48:35&lt;00:00, 194.36s/it]"
     }
    },
    "a10e1121f3494ab08c4f10c7925c1534": {
     "model_module": "@jupyter-widgets/controls",
     "model_name": "HBoxModel",
     "state": {
      "_dom_classes": [],
      "_model_module": "@jupyter-widgets/controls",
      "_model_module_version": "1.5.0",
      "_model_name": "HBoxModel",
      "_view_count": null,
      "_view_module": "@jupyter-widgets/controls",
      "_view_module_version": "1.5.0",
      "_view_name": "HBoxView",
      "box_style": "",
      "children": [
       "IPY_MODEL_dee01bb92e1d4517b74e603d2976908e",
       "IPY_MODEL_8333c69b55404038a05e10a7bf96ce31"
      ],
      "layout": "IPY_MODEL_9c291c05a368424893be04870bf3668f"
     }
    },
    "a4ce4d194fda46c1a392aab1fbdd687c": {
     "model_module": "@jupyter-widgets/controls",
     "model_name": "FloatProgressModel",
     "state": {
      "_dom_classes": [],
      "_model_module": "@jupyter-widgets/controls",
      "_model_module_version": "1.5.0",
      "_model_name": "FloatProgressModel",
      "_view_count": null,
      "_view_module": "@jupyter-widgets/controls",
      "_view_module_version": "1.5.0",
      "_view_name": "ProgressView",
      "bar_style": "success",
      "description": "100%",
      "description_tooltip": null,
      "layout": "IPY_MODEL_01d981c98416459dbae5a7a3e0aa9e25",
      "max": 15,
      "min": 0,
      "orientation": "horizontal",
      "style": "IPY_MODEL_1fa6f738b3e4441c9fdfcefb3d3669a8",
      "value": 15
     }
    },
    "a9d22e6f5f144510a3b04eb6b043a301": {
     "model_module": "@jupyter-widgets/base",
     "model_name": "LayoutModel",
     "state": {
      "_model_module": "@jupyter-widgets/base",
      "_model_module_version": "1.2.0",
      "_model_name": "LayoutModel",
      "_view_count": null,
      "_view_module": "@jupyter-widgets/base",
      "_view_module_version": "1.2.0",
      "_view_name": "LayoutView",
      "align_content": null,
      "align_items": null,
      "align_self": null,
      "border": null,
      "bottom": null,
      "display": null,
      "flex": null,
      "flex_flow": null,
      "grid_area": null,
      "grid_auto_columns": null,
      "grid_auto_flow": null,
      "grid_auto_rows": null,
      "grid_column": null,
      "grid_gap": null,
      "grid_row": null,
      "grid_template_areas": null,
      "grid_template_columns": null,
      "grid_template_rows": null,
      "height": null,
      "justify_content": null,
      "justify_items": null,
      "left": null,
      "margin": null,
      "max_height": null,
      "max_width": null,
      "min_height": null,
      "min_width": null,
      "object_fit": null,
      "object_position": null,
      "order": null,
      "overflow": null,
      "overflow_x": null,
      "overflow_y": null,
      "padding": null,
      "right": null,
      "top": null,
      "visibility": null,
      "width": null
     }
    },
    "aa802ba04e12476e8f91feee99e7f6d7": {
     "model_module": "@jupyter-widgets/controls",
     "model_name": "ProgressStyleModel",
     "state": {
      "_model_module": "@jupyter-widgets/controls",
      "_model_module_version": "1.5.0",
      "_model_name": "ProgressStyleModel",
      "_view_count": null,
      "_view_module": "@jupyter-widgets/base",
      "_view_module_version": "1.2.0",
      "_view_name": "StyleView",
      "bar_color": null,
      "description_width": "initial"
     }
    },
    "aad12a54066249bd88af8d42612a261d": {
     "model_module": "@jupyter-widgets/base",
     "model_name": "LayoutModel",
     "state": {
      "_model_module": "@jupyter-widgets/base",
      "_model_module_version": "1.2.0",
      "_model_name": "LayoutModel",
      "_view_count": null,
      "_view_module": "@jupyter-widgets/base",
      "_view_module_version": "1.2.0",
      "_view_name": "LayoutView",
      "align_content": null,
      "align_items": null,
      "align_self": null,
      "border": null,
      "bottom": null,
      "display": null,
      "flex": null,
      "flex_flow": null,
      "grid_area": null,
      "grid_auto_columns": null,
      "grid_auto_flow": null,
      "grid_auto_rows": null,
      "grid_column": null,
      "grid_gap": null,
      "grid_row": null,
      "grid_template_areas": null,
      "grid_template_columns": null,
      "grid_template_rows": null,
      "height": null,
      "justify_content": null,
      "justify_items": null,
      "left": null,
      "margin": null,
      "max_height": null,
      "max_width": null,
      "min_height": null,
      "min_width": null,
      "object_fit": null,
      "object_position": null,
      "order": null,
      "overflow": null,
      "overflow_x": null,
      "overflow_y": null,
      "padding": null,
      "right": null,
      "top": null,
      "visibility": null,
      "width": null
     }
    },
    "ab4c0b87150d45a29070c12723eef196": {
     "model_module": "@jupyter-widgets/controls",
     "model_name": "HTMLModel",
     "state": {
      "_dom_classes": [],
      "_model_module": "@jupyter-widgets/controls",
      "_model_module_version": "1.5.0",
      "_model_name": "HTMLModel",
      "_view_count": null,
      "_view_module": "@jupyter-widgets/controls",
      "_view_module_version": "1.5.0",
      "_view_name": "HTMLView",
      "description": "",
      "description_tooltip": null,
      "layout": "IPY_MODEL_aad12a54066249bd88af8d42612a261d",
      "placeholder": "​",
      "style": "IPY_MODEL_50cc2e33077e43488c866d2f6adc880d",
      "value": " 15/15 [40:47&lt;00:00, 163.18s/it]"
     }
    },
    "b05bf414416843dca9323f1dd6dee499": {
     "model_module": "@jupyter-widgets/controls",
     "model_name": "FloatProgressModel",
     "state": {
      "_dom_classes": [],
      "_model_module": "@jupyter-widgets/controls",
      "_model_module_version": "1.5.0",
      "_model_name": "FloatProgressModel",
      "_view_count": null,
      "_view_module": "@jupyter-widgets/controls",
      "_view_module_version": "1.5.0",
      "_view_name": "ProgressView",
      "bar_style": "success",
      "description": "100%",
      "description_tooltip": null,
      "layout": "IPY_MODEL_e2f8b7f0e8ee4b9595b8d9c3e5dc5d7d",
      "max": 34,
      "min": 0,
      "orientation": "horizontal",
      "style": "IPY_MODEL_aa802ba04e12476e8f91feee99e7f6d7",
      "value": 34
     }
    },
    "b906b5d57fc2415597a951c1b1895920": {
     "model_module": "@jupyter-widgets/base",
     "model_name": "LayoutModel",
     "state": {
      "_model_module": "@jupyter-widgets/base",
      "_model_module_version": "1.2.0",
      "_model_name": "LayoutModel",
      "_view_count": null,
      "_view_module": "@jupyter-widgets/base",
      "_view_module_version": "1.2.0",
      "_view_name": "LayoutView",
      "align_content": null,
      "align_items": null,
      "align_self": null,
      "border": null,
      "bottom": null,
      "display": null,
      "flex": null,
      "flex_flow": null,
      "grid_area": null,
      "grid_auto_columns": null,
      "grid_auto_flow": null,
      "grid_auto_rows": null,
      "grid_column": null,
      "grid_gap": null,
      "grid_row": null,
      "grid_template_areas": null,
      "grid_template_columns": null,
      "grid_template_rows": null,
      "height": null,
      "justify_content": null,
      "justify_items": null,
      "left": null,
      "margin": null,
      "max_height": null,
      "max_width": null,
      "min_height": null,
      "min_width": null,
      "object_fit": null,
      "object_position": null,
      "order": null,
      "overflow": null,
      "overflow_x": null,
      "overflow_y": null,
      "padding": null,
      "right": null,
      "top": null,
      "visibility": null,
      "width": null
     }
    },
    "be8476e28f2d4cba966247cfc4ca513f": {
     "model_module": "@jupyter-widgets/base",
     "model_name": "LayoutModel",
     "state": {
      "_model_module": "@jupyter-widgets/base",
      "_model_module_version": "1.2.0",
      "_model_name": "LayoutModel",
      "_view_count": null,
      "_view_module": "@jupyter-widgets/base",
      "_view_module_version": "1.2.0",
      "_view_name": "LayoutView",
      "align_content": null,
      "align_items": null,
      "align_self": null,
      "border": null,
      "bottom": null,
      "display": null,
      "flex": null,
      "flex_flow": null,
      "grid_area": null,
      "grid_auto_columns": null,
      "grid_auto_flow": null,
      "grid_auto_rows": null,
      "grid_column": null,
      "grid_gap": null,
      "grid_row": null,
      "grid_template_areas": null,
      "grid_template_columns": null,
      "grid_template_rows": null,
      "height": null,
      "justify_content": null,
      "justify_items": null,
      "left": null,
      "margin": null,
      "max_height": null,
      "max_width": null,
      "min_height": null,
      "min_width": null,
      "object_fit": null,
      "object_position": null,
      "order": null,
      "overflow": null,
      "overflow_x": null,
      "overflow_y": null,
      "padding": null,
      "right": null,
      "top": null,
      "visibility": null,
      "width": null
     }
    },
    "c0444bc14be844e1acb44eccba554bfc": {
     "model_module": "@jupyter-widgets/base",
     "model_name": "LayoutModel",
     "state": {
      "_model_module": "@jupyter-widgets/base",
      "_model_module_version": "1.2.0",
      "_model_name": "LayoutModel",
      "_view_count": null,
      "_view_module": "@jupyter-widgets/base",
      "_view_module_version": "1.2.0",
      "_view_name": "LayoutView",
      "align_content": null,
      "align_items": null,
      "align_self": null,
      "border": null,
      "bottom": null,
      "display": null,
      "flex": null,
      "flex_flow": null,
      "grid_area": null,
      "grid_auto_columns": null,
      "grid_auto_flow": null,
      "grid_auto_rows": null,
      "grid_column": null,
      "grid_gap": null,
      "grid_row": null,
      "grid_template_areas": null,
      "grid_template_columns": null,
      "grid_template_rows": null,
      "height": null,
      "justify_content": null,
      "justify_items": null,
      "left": null,
      "margin": null,
      "max_height": null,
      "max_width": null,
      "min_height": null,
      "min_width": null,
      "object_fit": null,
      "object_position": null,
      "order": null,
      "overflow": null,
      "overflow_x": null,
      "overflow_y": null,
      "padding": null,
      "right": null,
      "top": null,
      "visibility": null,
      "width": null
     }
    },
    "c368c52816ce4050834e089c9841fe52": {
     "model_module": "@jupyter-widgets/base",
     "model_name": "LayoutModel",
     "state": {
      "_model_module": "@jupyter-widgets/base",
      "_model_module_version": "1.2.0",
      "_model_name": "LayoutModel",
      "_view_count": null,
      "_view_module": "@jupyter-widgets/base",
      "_view_module_version": "1.2.0",
      "_view_name": "LayoutView",
      "align_content": null,
      "align_items": null,
      "align_self": null,
      "border": null,
      "bottom": null,
      "display": null,
      "flex": null,
      "flex_flow": null,
      "grid_area": null,
      "grid_auto_columns": null,
      "grid_auto_flow": null,
      "grid_auto_rows": null,
      "grid_column": null,
      "grid_gap": null,
      "grid_row": null,
      "grid_template_areas": null,
      "grid_template_columns": null,
      "grid_template_rows": null,
      "height": null,
      "justify_content": null,
      "justify_items": null,
      "left": null,
      "margin": null,
      "max_height": null,
      "max_width": null,
      "min_height": null,
      "min_width": null,
      "object_fit": null,
      "object_position": null,
      "order": null,
      "overflow": null,
      "overflow_x": null,
      "overflow_y": null,
      "padding": null,
      "right": null,
      "top": null,
      "visibility": null,
      "width": null
     }
    },
    "c3d268031536470ba0941f66197ab0a7": {
     "model_module": "@jupyter-widgets/controls",
     "model_name": "HBoxModel",
     "state": {
      "_dom_classes": [],
      "_model_module": "@jupyter-widgets/controls",
      "_model_module_version": "1.5.0",
      "_model_name": "HBoxModel",
      "_view_count": null,
      "_view_module": "@jupyter-widgets/controls",
      "_view_module_version": "1.5.0",
      "_view_name": "HBoxView",
      "box_style": "",
      "children": [
       "IPY_MODEL_0f6a8c36739348818bb3c3fca8b3af5c",
       "IPY_MODEL_7c04ec33df38446593dfdffc228d5580"
      ],
      "layout": "IPY_MODEL_640c0626a7524ce4b184595f01527c20"
     }
    },
    "c867cc961f364a0a87be013805cf15f6": {
     "model_module": "@jupyter-widgets/controls",
     "model_name": "DescriptionStyleModel",
     "state": {
      "_model_module": "@jupyter-widgets/controls",
      "_model_module_version": "1.5.0",
      "_model_name": "DescriptionStyleModel",
      "_view_count": null,
      "_view_module": "@jupyter-widgets/base",
      "_view_module_version": "1.2.0",
      "_view_name": "StyleView",
      "description_width": ""
     }
    },
    "c904155a7fb946bb9e1529e555cab58d": {
     "model_module": "@jupyter-widgets/controls",
     "model_name": "HBoxModel",
     "state": {
      "_dom_classes": [],
      "_model_module": "@jupyter-widgets/controls",
      "_model_module_version": "1.5.0",
      "_model_name": "HBoxModel",
      "_view_count": null,
      "_view_module": "@jupyter-widgets/controls",
      "_view_module_version": "1.5.0",
      "_view_name": "HBoxView",
      "box_style": "",
      "children": [
       "IPY_MODEL_deab6cc737964756a73bada6da91325b",
       "IPY_MODEL_f021b51f0cff41cd96835ff263399afa"
      ],
      "layout": "IPY_MODEL_1854396b20914da7b5c4cd5bcf55f47c"
     }
    },
    "cf5d4ccd93854d7db00e30586e5fad42": {
     "model_module": "@jupyter-widgets/base",
     "model_name": "LayoutModel",
     "state": {
      "_model_module": "@jupyter-widgets/base",
      "_model_module_version": "1.2.0",
      "_model_name": "LayoutModel",
      "_view_count": null,
      "_view_module": "@jupyter-widgets/base",
      "_view_module_version": "1.2.0",
      "_view_name": "LayoutView",
      "align_content": null,
      "align_items": null,
      "align_self": null,
      "border": null,
      "bottom": null,
      "display": null,
      "flex": null,
      "flex_flow": null,
      "grid_area": null,
      "grid_auto_columns": null,
      "grid_auto_flow": null,
      "grid_auto_rows": null,
      "grid_column": null,
      "grid_gap": null,
      "grid_row": null,
      "grid_template_areas": null,
      "grid_template_columns": null,
      "grid_template_rows": null,
      "height": null,
      "justify_content": null,
      "justify_items": null,
      "left": null,
      "margin": null,
      "max_height": null,
      "max_width": null,
      "min_height": null,
      "min_width": null,
      "object_fit": null,
      "object_position": null,
      "order": null,
      "overflow": null,
      "overflow_x": null,
      "overflow_y": null,
      "padding": null,
      "right": null,
      "top": null,
      "visibility": null,
      "width": null
     }
    },
    "d031d1f0a1834f8e910d3fa7dfaf46fa": {
     "model_module": "@jupyter-widgets/controls",
     "model_name": "ProgressStyleModel",
     "state": {
      "_model_module": "@jupyter-widgets/controls",
      "_model_module_version": "1.5.0",
      "_model_name": "ProgressStyleModel",
      "_view_count": null,
      "_view_module": "@jupyter-widgets/base",
      "_view_module_version": "1.2.0",
      "_view_name": "StyleView",
      "bar_color": null,
      "description_width": "initial"
     }
    },
    "d2ccd973cb544b189933eb7dd87e47da": {
     "model_module": "@jupyter-widgets/controls",
     "model_name": "FloatProgressModel",
     "state": {
      "_dom_classes": [],
      "_model_module": "@jupyter-widgets/controls",
      "_model_module_version": "1.5.0",
      "_model_name": "FloatProgressModel",
      "_view_count": null,
      "_view_module": "@jupyter-widgets/controls",
      "_view_module_version": "1.5.0",
      "_view_name": "ProgressView",
      "bar_style": "success",
      "description": "100%",
      "description_tooltip": null,
      "layout": "IPY_MODEL_925d022717b148f0b4cb9eebc1c55531",
      "max": 15,
      "min": 0,
      "orientation": "horizontal",
      "style": "IPY_MODEL_57d394fcb3e34416a7177fb480145606",
      "value": 15
     }
    },
    "d620388d1cef4c96a192c585b12314ff": {
     "model_module": "@jupyter-widgets/controls",
     "model_name": "HTMLModel",
     "state": {
      "_dom_classes": [],
      "_model_module": "@jupyter-widgets/controls",
      "_model_module_version": "1.5.0",
      "_model_name": "HTMLModel",
      "_view_count": null,
      "_view_module": "@jupyter-widgets/controls",
      "_view_module_version": "1.5.0",
      "_view_name": "HTMLView",
      "description": "",
      "description_tooltip": null,
      "layout": "IPY_MODEL_e400aa1dfaf64d92bdb3fd71877c0d48",
      "placeholder": "​",
      "style": "IPY_MODEL_f0dac016750440bba52b512c8dd4ea7e",
      "value": " 7/7 [48:41&lt;00:00, 417.29s/it]"
     }
    },
    "d9effc8d2fdd40a3816cf420e87d0e16": {
     "model_module": "@jupyter-widgets/controls",
     "model_name": "HBoxModel",
     "state": {
      "_dom_classes": [],
      "_model_module": "@jupyter-widgets/controls",
      "_model_module_version": "1.5.0",
      "_model_name": "HBoxModel",
      "_view_count": null,
      "_view_module": "@jupyter-widgets/controls",
      "_view_module_version": "1.5.0",
      "_view_name": "HBoxView",
      "box_style": "",
      "children": [
       "IPY_MODEL_a4ce4d194fda46c1a392aab1fbdd687c",
       "IPY_MODEL_9c2e635fa2c741978dea3e0a53a289be"
      ],
      "layout": "IPY_MODEL_43a047f4344c41d29de317a987548025"
     }
    },
    "deab6cc737964756a73bada6da91325b": {
     "model_module": "@jupyter-widgets/controls",
     "model_name": "FloatProgressModel",
     "state": {
      "_dom_classes": [],
      "_model_module": "@jupyter-widgets/controls",
      "_model_module_version": "1.5.0",
      "_model_name": "FloatProgressModel",
      "_view_count": null,
      "_view_module": "@jupyter-widgets/controls",
      "_view_module_version": "1.5.0",
      "_view_name": "ProgressView",
      "bar_style": "success",
      "description": "100%",
      "description_tooltip": null,
      "layout": "IPY_MODEL_17bc452daac44045afd23e0f8c295120",
      "max": 7,
      "min": 0,
      "orientation": "horizontal",
      "style": "IPY_MODEL_8255582be886419ab0079ce6f7bfcb6f",
      "value": 7
     }
    },
    "dee01bb92e1d4517b74e603d2976908e": {
     "model_module": "@jupyter-widgets/controls",
     "model_name": "FloatProgressModel",
     "state": {
      "_dom_classes": [],
      "_model_module": "@jupyter-widgets/controls",
      "_model_module_version": "1.5.0",
      "_model_name": "FloatProgressModel",
      "_view_count": null,
      "_view_module": "@jupyter-widgets/controls",
      "_view_module_version": "1.5.0",
      "_view_name": "ProgressView",
      "bar_style": "success",
      "description": "100%",
      "description_tooltip": null,
      "layout": "IPY_MODEL_0f21081840c54939b30ee0369db26566",
      "max": 15,
      "min": 0,
      "orientation": "horizontal",
      "style": "IPY_MODEL_7e45a50ed3e34417be68d825eeb992e7",
      "value": 15
     }
    },
    "e0f22b2d546a4e76878bb21e51478980": {
     "model_module": "@jupyter-widgets/base",
     "model_name": "LayoutModel",
     "state": {
      "_model_module": "@jupyter-widgets/base",
      "_model_module_version": "1.2.0",
      "_model_name": "LayoutModel",
      "_view_count": null,
      "_view_module": "@jupyter-widgets/base",
      "_view_module_version": "1.2.0",
      "_view_name": "LayoutView",
      "align_content": null,
      "align_items": null,
      "align_self": null,
      "border": null,
      "bottom": null,
      "display": null,
      "flex": null,
      "flex_flow": null,
      "grid_area": null,
      "grid_auto_columns": null,
      "grid_auto_flow": null,
      "grid_auto_rows": null,
      "grid_column": null,
      "grid_gap": null,
      "grid_row": null,
      "grid_template_areas": null,
      "grid_template_columns": null,
      "grid_template_rows": null,
      "height": null,
      "justify_content": null,
      "justify_items": null,
      "left": null,
      "margin": null,
      "max_height": null,
      "max_width": null,
      "min_height": null,
      "min_width": null,
      "object_fit": null,
      "object_position": null,
      "order": null,
      "overflow": null,
      "overflow_x": null,
      "overflow_y": null,
      "padding": null,
      "right": null,
      "top": null,
      "visibility": null,
      "width": null
     }
    },
    "e2f8b7f0e8ee4b9595b8d9c3e5dc5d7d": {
     "model_module": "@jupyter-widgets/base",
     "model_name": "LayoutModel",
     "state": {
      "_model_module": "@jupyter-widgets/base",
      "_model_module_version": "1.2.0",
      "_model_name": "LayoutModel",
      "_view_count": null,
      "_view_module": "@jupyter-widgets/base",
      "_view_module_version": "1.2.0",
      "_view_name": "LayoutView",
      "align_content": null,
      "align_items": null,
      "align_self": null,
      "border": null,
      "bottom": null,
      "display": null,
      "flex": null,
      "flex_flow": null,
      "grid_area": null,
      "grid_auto_columns": null,
      "grid_auto_flow": null,
      "grid_auto_rows": null,
      "grid_column": null,
      "grid_gap": null,
      "grid_row": null,
      "grid_template_areas": null,
      "grid_template_columns": null,
      "grid_template_rows": null,
      "height": null,
      "justify_content": null,
      "justify_items": null,
      "left": null,
      "margin": null,
      "max_height": null,
      "max_width": null,
      "min_height": null,
      "min_width": null,
      "object_fit": null,
      "object_position": null,
      "order": null,
      "overflow": null,
      "overflow_x": null,
      "overflow_y": null,
      "padding": null,
      "right": null,
      "top": null,
      "visibility": null,
      "width": null
     }
    },
    "e400aa1dfaf64d92bdb3fd71877c0d48": {
     "model_module": "@jupyter-widgets/base",
     "model_name": "LayoutModel",
     "state": {
      "_model_module": "@jupyter-widgets/base",
      "_model_module_version": "1.2.0",
      "_model_name": "LayoutModel",
      "_view_count": null,
      "_view_module": "@jupyter-widgets/base",
      "_view_module_version": "1.2.0",
      "_view_name": "LayoutView",
      "align_content": null,
      "align_items": null,
      "align_self": null,
      "border": null,
      "bottom": null,
      "display": null,
      "flex": null,
      "flex_flow": null,
      "grid_area": null,
      "grid_auto_columns": null,
      "grid_auto_flow": null,
      "grid_auto_rows": null,
      "grid_column": null,
      "grid_gap": null,
      "grid_row": null,
      "grid_template_areas": null,
      "grid_template_columns": null,
      "grid_template_rows": null,
      "height": null,
      "justify_content": null,
      "justify_items": null,
      "left": null,
      "margin": null,
      "max_height": null,
      "max_width": null,
      "min_height": null,
      "min_width": null,
      "object_fit": null,
      "object_position": null,
      "order": null,
      "overflow": null,
      "overflow_x": null,
      "overflow_y": null,
      "padding": null,
      "right": null,
      "top": null,
      "visibility": null,
      "width": null
     }
    },
    "e9021739a74745e78ab3f378459cf21f": {
     "model_module": "@jupyter-widgets/controls",
     "model_name": "HTMLModel",
     "state": {
      "_dom_classes": [],
      "_model_module": "@jupyter-widgets/controls",
      "_model_module_version": "1.5.0",
      "_model_name": "HTMLModel",
      "_view_count": null,
      "_view_module": "@jupyter-widgets/controls",
      "_view_module_version": "1.5.0",
      "_view_name": "HTMLView",
      "description": "",
      "description_tooltip": null,
      "layout": "IPY_MODEL_b906b5d57fc2415597a951c1b1895920",
      "placeholder": "​",
      "style": "IPY_MODEL_2b52d8edc73e450983dfd14b57a1edba",
      "value": " 32/32 [21:08&lt;00:00, 39.64s/it]"
     }
    },
    "f021b51f0cff41cd96835ff263399afa": {
     "model_module": "@jupyter-widgets/controls",
     "model_name": "HTMLModel",
     "state": {
      "_dom_classes": [],
      "_model_module": "@jupyter-widgets/controls",
      "_model_module_version": "1.5.0",
      "_model_name": "HTMLModel",
      "_view_count": null,
      "_view_module": "@jupyter-widgets/controls",
      "_view_module_version": "1.5.0",
      "_view_name": "HTMLView",
      "description": "",
      "description_tooltip": null,
      "layout": "IPY_MODEL_97ec21ad78af43b2891c5c57475f80f5",
      "placeholder": "​",
      "style": "IPY_MODEL_0b6145324ac54970b0f853675d03570d",
      "value": " 7/7 [45:45&lt;00:00, 392.21s/it]"
     }
    },
    "f0dac016750440bba52b512c8dd4ea7e": {
     "model_module": "@jupyter-widgets/controls",
     "model_name": "DescriptionStyleModel",
     "state": {
      "_model_module": "@jupyter-widgets/controls",
      "_model_module_version": "1.5.0",
      "_model_name": "DescriptionStyleModel",
      "_view_count": null,
      "_view_module": "@jupyter-widgets/base",
      "_view_module_version": "1.2.0",
      "_view_name": "StyleView",
      "description_width": ""
     }
    }
   }
  }
 },
 "nbformat": 4,
 "nbformat_minor": 1
}
