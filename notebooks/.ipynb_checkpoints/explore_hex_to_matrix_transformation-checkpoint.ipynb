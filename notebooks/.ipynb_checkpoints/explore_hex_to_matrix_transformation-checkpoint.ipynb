{
 "cells": [
  {
   "cell_type": "markdown",
   "metadata": {},
   "source": [
    "#### exploration of the hexconv step starting from an event"
   ]
  },
  {
   "cell_type": "code",
   "execution_count": 1,
   "metadata": {},
   "outputs": [],
   "source": [
    "import os\n",
    "from os import path\n",
    "import pandas as pd\n",
    "import tables\n",
    "from uuid import uuid4\n",
    "import csv\n",
    "import numpy as np\n",
    "import matplotlib.pyplot as plt"
   ]
  },
  {
   "cell_type": "markdown",
   "metadata": {},
   "source": [
    "#### read the event"
   ]
  },
  {
   "cell_type": "code",
   "execution_count": 2,
   "metadata": {},
   "outputs": [
    {
     "name": "stdout",
     "output_type": "stream",
     "text": [
      "Tables:\n",
      "\t /Array_Information (Table(99,), shuffle, lzo(1)) 'Table of array/subarray information'\n",
      "\t /Events (Table(8521,), shuffle, lzo(1)) 'Table of Event Information'\n",
      "\t /LST_LSTCam (Table(4103,), shuffle, lzo(1)) 'Table of LST:LSTCam images'\n",
      "\t /MST_FlashCam (Table(18941,), shuffle, lzo(1)) 'Table of MST:FlashCam images'\n",
      "\t /SST1M_DigiCam (Table(14099,), shuffle, lzo(1)) 'Table of SST-1M:DigiCam images'\n",
      "\t /Telescope_Type_Information (Table(3,), shuffle, lzo(1)) 'Table of telescope type information'\n"
     ]
    }
   ],
   "source": [
    "path_local = \"/home/bapanes/Research-Now/local/ml-valpo-local\"\n",
    "\n",
    "#umonna_h5 = f\"{path_local}/umonna/events/gamma_20deg_0deg_runs3977-4937___cta-prod3-demo_desert-2150m-Paranal-baseline_cone10.h5\"\n",
    "umonna_h5 = f\"{path_local}/umonna/events/gamma_20deg_0deg_runs2-1422___cta-prod3-demo_desert-2150m-Paranal-baseline_cone10.h5\"\n",
    "\n",
    "#h5_file_train = tables.open_file(train_files[1], \"r\")\n",
    "h5_file_train = tables.open_file(umonna_h5, \"r\")\n",
    "\n",
    "train_files = [h5_file_train]\n",
    "\n",
    "print(\"Tables:\")\n",
    "for t in h5_file_train.root:\n",
    "    print(\"\\t\",t)"
   ]
  },
  {
   "cell_type": "markdown",
   "metadata": {},
   "source": [
    "#### routines"
   ]
  },
  {
   "cell_type": "code",
   "execution_count": 16,
   "metadata": {},
   "outputs": [],
   "source": [
    "output_shapes = {\n",
    "    # Train|Test\n",
    "    \"LST_LSTCam\" : (2, 55, 47, 3),\n",
    "    \"SST1M_DigiCam\" : (2, 72, 25, 3),\n",
    "    \"MST_FlashCam\" : (2, 84, 29, 3),\n",
    "}\n",
    "\n",
    "peak_shapes = {\n",
    "    # Train|Test\n",
    "    # (energy_peak, time_peak)\n",
    "    \"LST_LSTCam\" : (1855, 2),\n",
    "    \"SST1M_DigiCam\" : (1296, 2),\n",
    "    \"MST_FlashCam\" : (1764, 2),\n",
    "}\n",
    "\n",
    "def hexagon_to_matrix(charge, time_peaks, tel_type, pixel_position_folder):\n",
    "    \"\"\"\n",
    "    __hexagon_save\n",
    "        TODO: docstring\n",
    "    \"\"\"\n",
    "    __pixels_position = np.loadtxt(f\"{pixel_position_folder}/{tel_type}.npy\")\n",
    "    \n",
    "    # get pixels positions\n",
    "    x = __pixels_position[0,:]\n",
    "    y = __pixels_position[1,:]\n",
    "\n",
    "    # indices of x and y pixels position\n",
    "    i = np.arange(0, len(y))\n",
    "\n",
    "    # row values of the telescope\n",
    "    y_levels = np.sort(np.unique(y))\n",
    "\n",
    "    # image dimension\n",
    "    nrows = len(y_levels)\n",
    "    ncols = len(np.unique(x))//2 + 1\n",
    "\n",
    "    # new translated pixel positions\n",
    "    new_x_l = np.copy(x) # new pixels x positions left shift\n",
    "    new_x_r = np.copy(x) # new pixels x positions right shift\n",
    "    new_y = np.copy(y)\n",
    "\n",
    "    # shift odd rows\n",
    "    dx = 0\n",
    "    for level, y_value in enumerate(y_levels):\n",
    "        indices = i[y == y_value]\n",
    "        if dx == 0:\n",
    "            dx = np.diff(np.sort(x[indices])).min()/2\n",
    "        if level % 2 != 0:\n",
    "            new_x_l[indices] -= dx\n",
    "            new_x_r[indices] += dx\n",
    "\n",
    "    # round values\n",
    "    new_x_l = np.round(new_x_l, 3)\n",
    "    new_x_r = np.round(new_x_r, 3)\n",
    "\n",
    "    # max indices of image output\n",
    "    max_col_l = len(np.unique(new_x_l)) - 1\n",
    "    max_col_r = len(np.unique(new_x_r)) - 1\n",
    "    max_row = nrows - 1\n",
    "\n",
    "    # apply lineal transfomation\n",
    "    new_x_l = ((max_col_l/(new_x_l.max() - new_x_l.min())) * (new_x_l - new_x_l.min()))\n",
    "    new_x_l = np.round(new_x_l).astype(int)\n",
    "\n",
    "    new_x_r = ((max_col_r/(new_x_r.max() - new_x_r.min())) * (new_x_r - new_x_r.min()))\n",
    "    new_x_r = np.round(new_x_r).astype(int)\n",
    "\n",
    "    new_y = ((max_row/(new_y.max() - new_y.min())) * (new_y - new_y.min()))\n",
    "    new_y = np.round(new_y).astype(int)\n",
    "\n",
    "    # Save indices\n",
    "    pix_pos = np.vstack((new_x_l, new_x_r, new_y)).T\n",
    "    \n",
    "    # Save Peak and Time\n",
    "    values = np.vstack((charge, time_peaks)).T\n",
    "    \n",
    "    return pix_pos, values\n",
    "\n",
    "def scatter_hexagon(data, title=\"\"):\n",
    "    plt.figure(figsize=(12,10))\n",
    "    plt.suptitle(title)\n",
    "\n",
    "    plt.subplot(231)\n",
    "    plt.title(\"charge (left)\")\n",
    "    plt.imshow(data[0,:,:,0])\n",
    "\n",
    "    plt.subplot(232)\n",
    "    plt.title(\"time peak (left)\")\n",
    "    plt.imshow(data[0,:,:,1])\n",
    "\n",
    "    plt.subplot(233)\n",
    "    plt.title(\"mask (left)\")\n",
    "    plt.imshow(data[0,:,:,2])\n",
    "\n",
    "    plt.subplot(234)\n",
    "    plt.title(\"charge (right)\")\n",
    "    plt.imshow(data[1,:,:,0])\n",
    "\n",
    "    plt.subplot(235)\n",
    "    plt.title(\"time peak (right)\")\n",
    "    plt.imshow(data[1,:,:,1])\n",
    "\n",
    "    plt.subplot(236)\n",
    "    plt.title(\"mask (right)\")\n",
    "    plt.imshow(data[1,:,:,2])\n",
    "    plt.show()\n",
    "    \n",
    "def generate_matrix_data(pix_pos_matrix, values):\n",
    "\n",
    "    # preprare new canvas\n",
    "    new_x_l =  pix_pos_matrix[:,0]\n",
    "    new_x_r =  pix_pos_matrix[:,1]\n",
    "    new_y =  pix_pos_matrix[:,2]\n",
    "\n",
    "    #canvas = np.zeros(output_shapes[tel_type], dtype=\"float32\")\n",
    "    canvas = np.zeros(output_shapes[tel_type], dtype=\"float32\")\n",
    "\n",
    "    peaks = values[:,:]\n",
    "    mask = np.ones((len(peaks), 1), dtype=\"float32\")\n",
    "\n",
    "    # left shift canvas\n",
    "    canvas[0, new_y, new_x_l, :2] = peaks[:,:]\n",
    "    canvas[0, new_y, new_x_l, 2] = mask[:,0]\n",
    "\n",
    "    # rigth shift canvas\n",
    "    canvas[1, new_y, new_x_r, :2] = peaks[:,:]\n",
    "    canvas[1, new_y, new_x_r, 2] = mask[:,0]\n",
    "    \n",
    "    return canvas"
   ]
  },
  {
   "cell_type": "markdown",
   "metadata": {},
   "source": [
    "#### create and save numpy file with the raw pixels from one telescope"
   ]
  },
  {
   "cell_type": "code",
   "execution_count": 4,
   "metadata": {},
   "outputs": [
    {
     "data": {
      "text/plain": [
       "/Telescope_Type_Information.cols (Cols), 5 columns\n",
       "  camera (Column(3,), |S20)\n",
       "  num_pixels (Column(3,), uint32)\n",
       "  optics (Column(3,), |S20)\n",
       "  pixel_positions (Column(3, 1855, 2), ('<f4', (1855, 2)))\n",
       "  type (Column(3,), |S20)"
      ]
     },
     "execution_count": 4,
     "metadata": {},
     "output_type": "execute_result"
    }
   ],
   "source": [
    "tel_info = h5_file_train.root[\"Telescope_Type_Information\"]\n",
    "tel_info.cols"
   ]
  },
  {
   "cell_type": "code",
   "execution_count": 5,
   "metadata": {},
   "outputs": [
    {
     "name": "stdout",
     "output_type": "stream",
     "text": [
      "telescope info element:  0\n",
      "b'SST1M_DigiCam'\n",
      "b'DigiCam'\n",
      "b'SST-1M'\n",
      "1296\n",
      "telescope info element:  1\n",
      "b'MST_FlashCam'\n",
      "b'FlashCam'\n",
      "b'MST'\n",
      "1764\n",
      "telescope info element:  2\n",
      "b'LST_LSTCam'\n",
      "b'LSTCam'\n",
      "b'LST'\n",
      "1855\n"
     ]
    }
   ],
   "source": [
    "element = 2\n",
    "\n",
    "for element in range(3):\n",
    "    print(\"telescope info element: \", element)\n",
    "    print(tel_info[element][\"type\"])\n",
    "    print(tel_info[element][\"camera\"])\n",
    "    print(tel_info[element][\"optics\"])\n",
    "    print(tel_info[element][\"num_pixels\"])"
   ]
  },
  {
   "cell_type": "markdown",
   "metadata": {},
   "source": [
    "#### for instance, let us consider the pixels of telescope 0"
   ]
  },
  {
   "cell_type": "code",
   "execution_count": 24,
   "metadata": {},
   "outputs": [
    {
     "name": "stdout",
     "output_type": "stream",
     "text": [
      "pixels_position/SST1M_DigiCam.npy [[ 0.4837   0.46327  0.46327 ... -0.45645 -0.47689 -0.47689]\n",
      " [-0.0118  -0.0472  -0.0236  ...  0.0354  -0.0236   0.     ]]\n"
     ]
    }
   ],
   "source": [
    "element = 0\n",
    "\n",
    "tel_type = tel_info[element][\"type\"].decode(\"utf-8\") \n",
    "pixeles = np.transpose(tel_info[element][\"pixel_positions\"][:tel_info[element][\"num_pixels\"]])\n",
    "\n",
    "np.savetxt(f\"pixels_position/{tel_type}.npy\", pixeles)\n",
    "\n",
    "print(f\"pixels_position/{tel_type}.npy\", pixeles)"
   ]
  },
  {
   "cell_type": "markdown",
   "metadata": {},
   "source": [
    "#### now we access to the information of one event"
   ]
  },
  {
   "cell_type": "code",
   "execution_count": 7,
   "metadata": {},
   "outputs": [
    {
     "name": "stdout",
     "output_type": "stream",
     "text": [
      "Events: 8521\n"
     ]
    },
    {
     "data": {
      "text/plain": [
       "/Events.cols (Cols), 16 columns\n",
       "  LST_LSTCam_indices (Column(8521, 4), ('<u4', (4,)))\n",
       "  LST_LSTCam_multiplicity (Column(8521,), uint32)\n",
       "  MST_FlashCam_indices (Column(8521, 25), ('<u4', (25,)))\n",
       "  MST_FlashCam_multiplicity (Column(8521,), uint32)\n",
       "  SST1M_DigiCam_indices (Column(8521, 70), ('<u4', (70,)))\n",
       "  SST1M_DigiCam_multiplicity (Column(8521,), uint32)\n",
       "  alt (Column(8521,), float32)\n",
       "  az (Column(8521,), float32)\n",
       "  core_x (Column(8521,), float32)\n",
       "  core_y (Column(8521,), float32)\n",
       "  event_id (Column(8521,), uint32)\n",
       "  h_first_int (Column(8521,), float32)\n",
       "  mc_energy (Column(8521,), float32)\n",
       "  obs_id (Column(8521,), uint32)\n",
       "  shower_primary_id (Column(8521,), uint8)\n",
       "  x_max (Column(8521,), float32)"
      ]
     },
     "execution_count": 7,
     "metadata": {},
     "output_type": "execute_result"
    }
   ],
   "source": [
    "events = h5_file_train.root[\"Events\"]\n",
    "\n",
    "print(\"Events:\", len(events))\n",
    "events.cols"
   ]
  },
  {
   "cell_type": "code",
   "execution_count": 8,
   "metadata": {},
   "outputs": [
    {
     "name": "stdout",
     "output_type": "stream",
     "text": [
      "event id:  140211_076593a0\n"
     ]
    }
   ],
   "source": [
    "event = events[10]\n",
    "event_number =  str(event['event_id']) + \"_\" + uuid4().hex[:8]\n",
    "\n",
    "print(\"event id: \",event_number)"
   ]
  },
  {
   "cell_type": "markdown",
   "metadata": {},
   "source": [
    "#### each event also gives us a list of indices to find the proper images in the corresponding telescope"
   ]
  },
  {
   "cell_type": "code",
   "execution_count": 9,
   "metadata": {},
   "outputs": [
    {
     "name": "stdout",
     "output_type": "stream",
     "text": [
      "LST_LSTCam_indices\n",
      "Non-zero are activated telescopes, the number is not the telescope index. Instead, is the image (observation) index.\n",
      "Telescopes: [0 0 0 0]\n",
      "4\n"
     ]
    }
   ],
   "source": [
    "tel_indice = f\"LST_LSTCam_indices\"\n",
    "print(tel_indice)\n",
    "\n",
    "print(\"Non-zero are activated telescopes, the number is not the telescope index. Instead, is the \"+\\\n",
    "      \"image (observation) index.\")\n",
    "print(\"Telescopes:\", event[tel_indice])\n",
    "print(len(event[tel_indice]))"
   ]
  },
  {
   "cell_type": "code",
   "execution_count": 10,
   "metadata": {},
   "outputs": [
    {
     "name": "stdout",
     "output_type": "stream",
     "text": [
      "SST1M_DigiCam_indices\n",
      "Non-zero are activated telescopes, the number is not the telescope index. Instead, is the image (observation) index.\n",
      "Telescopes: [ 0  0  0 40  0  0  0 41  0  0  0  0  0  0  0  0  0  0  0  0  0  0  0  0\n",
      "  0  0  0  0  0  0  0  0  0  0  0  0  0  0  0  0  0  0  0  0  0  0  0  0\n",
      "  0  0  0  0  0  0  0  0  0  0  0  0  0  0  0  0  0  0  0  0  0  0]\n",
      "70\n"
     ]
    }
   ],
   "source": [
    "tel_indice = f\"SST1M_DigiCam_indices\"\n",
    "print(tel_indice)\n",
    "\n",
    "print(\"Non-zero are activated telescopes, the number is not the telescope index. Instead, is the \"+\\\n",
    "      \"image (observation) index.\")\n",
    "print(\"Telescopes:\", event[tel_indice])\n",
    "print(len(event[tel_indice]))"
   ]
  },
  {
   "cell_type": "code",
   "execution_count": 11,
   "metadata": {},
   "outputs": [
    {
     "name": "stdout",
     "output_type": "stream",
     "text": [
      "MST_FlashCam_indices\n",
      "Non-zero are activated telescopes, the number is not the telescope index. Instead, is the image (observation) index.\n",
      "Telescopes: [ 0  0  0  0  0  0  0  0  0  0  0 54  0  0  0  0  0  0 55  0  0  0  0 56\n",
      "  0]\n",
      "25\n"
     ]
    }
   ],
   "source": [
    "tel_indice = f\"MST_FlashCam_indices\"\n",
    "print(tel_indice)\n",
    "\n",
    "print(\"Non-zero are activated telescopes, the number is not the telescope index. Instead, is the \"+\\\n",
    "      \"image (observation) index.\")\n",
    "print(\"Telescopes:\", event[tel_indice])\n",
    "print(len(event[tel_indice]))"
   ]
  },
  {
   "cell_type": "markdown",
   "metadata": {},
   "source": [
    "#### now, from a given telescope we get one of the indices of the event\n",
    "\n",
    "In hexagon_to_matrix we get the conversion of the pixels from hexagon to matrix "
   ]
  },
  {
   "cell_type": "code",
   "execution_count": 20,
   "metadata": {},
   "outputs": [],
   "source": [
    "tel_type = \"SST1M_DigiCam\"\n",
    "indice = 41\n",
    "\n",
    "#charge distribution from the main variable that refers to the file\n",
    "charge_peaks = h5_file_train.root[tel_type][indice][\"charge\"]\n",
    "time_peaks = h5_file_train.root[tel_type][indice][\"peakpos\"]"
   ]
  },
  {
   "cell_type": "code",
   "execution_count": 25,
   "metadata": {},
   "outputs": [],
   "source": [
    "pix_pos_matrix, charge_time_peaks = hexagon_to_matrix(charge_peaks, time_peaks, tel_type, \"pixels_position/\")"
   ]
  },
  {
   "cell_type": "markdown",
   "metadata": {},
   "source": [
    "#### creation of left and right images"
   ]
  },
  {
   "cell_type": "code",
   "execution_count": 26,
   "metadata": {},
   "outputs": [
    {
     "name": "stdout",
     "output_type": "stream",
     "text": [
      "(2, 72, 25, 3)\n"
     ]
    }
   ],
   "source": [
    "input_data_matrix = generate_matrix_data(pix_pos_matrix, charge_time_peaks)\n",
    "\n",
    "print(input_data_matrix.shape)"
   ]
  },
  {
   "cell_type": "code",
   "execution_count": 27,
   "metadata": {},
   "outputs": [
    {
     "data": {
      "image/png": "[encoded data removed]",
      "text/plain": [
       "<Figure size 864x720 with 6 Axes>"
      ]
     },
     "metadata": {
      "needs_background": "light"
     },
     "output_type": "display_data"
    }
   ],
   "source": [
    "scatter_hexagon(input_data_matrix, title=\"\")"
   ]
  },
  {
   "cell_type": "code",
   "execution_count": null,
   "metadata": {},
   "outputs": [],
   "source": []
  }
 ],
 "metadata": {
  "kernelspec": {
   "display_name": "Python 3",
   "language": "python",
   "name": "python3"
  },
  "language_info": {
   "codemirror_mode": {
    "name": "ipython",
    "version": 3
   },
   "file_extension": ".py",
   "mimetype": "text/x-python",
   "name": "python",
   "nbconvert_exporter": "python",
   "pygments_lexer": "ipython3",
   "version": "3.8.3"
  }
 },
 "nbformat": 4,
 "nbformat_minor": 4
}
