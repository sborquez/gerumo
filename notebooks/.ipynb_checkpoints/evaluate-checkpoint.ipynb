{
 "cells": [
  {
   "cell_type": "markdown",
   "metadata": {},
   "source": [
    "<h1 align=\"center\"><a href=\"https://github.com/sborquez/gerumo/\">*</a> GeRUMo - Gamma-ray Events Reconstructor with Uncertain models</h1>\n",
    "\n",
    "<h2 align=\"center\">Evaluate</h2>\n",
    "\n",
    "<center>\n",
    "<img src=\"https://upload.wikimedia.org/wikipedia/commons/2/2f/Cta_concept.jpg\" width=\"30%\" alt=\"icon\"></img>\n",
    "</center>\n",
    "\n",
    "\n",
    "\n"
   ]
  },
  {
   "cell_type": "markdown",
   "metadata": {},
   "source": [
    "## Setup\n",
    "\n",
    "The first step is to sync this notebook with Google Drive, and change directory to gerumo repository."
   ]
  },
  {
   "cell_type": "code",
   "execution_count": 4,
   "metadata": {},
   "outputs": [
    {
     "name": "stdout",
     "output_type": "stream",
     "text": [
      "[WinError 3] El sistema no puede encontrar la ruta especificada: '/content/drive/My Drive/Projects/gerumo'\n",
      "D:\\sebas\\Google Drive\\Projects\\gerumo\\notebooks\n"
     ]
    }
   ],
   "source": [
    "%cd \"/content/drive/My Drive/Projects/gerumo\"\n",
    "!ls"
   ]
  },
  {
   "cell_type": "code",
   "execution_count": 5,
   "metadata": {},
   "outputs": [
    {
     "name": "stdout",
     "output_type": "stream",
     "text": [
      "D:\\sebas\\Google Drive\\Projects\\gerumo\n"
     ]
    }
   ],
   "source": [
    "%cd .."
   ]
  },
  {
   "cell_type": "markdown",
   "metadata": {},
   "source": [
    "## Load Gerumo and extra modules."
   ]
  },
  {
   "cell_type": "code",
   "execution_count": 6,
   "metadata": {},
   "outputs": [],
   "source": [
    "from gerumo import *\n",
    "\n",
    "import logging\n",
    "import time\n",
    "from os import path\n",
    "\n",
    "import numpy as np\n",
    "from tensorflow import keras\n",
    "from tensorflow.keras.utils import plot_model\n",
    "\n",
    "import json\n",
    "from tqdm.notebook import tqdm"
   ]
  },
  {
   "cell_type": "markdown",
   "metadata": {},
   "source": [
    "## Load Configuration file"
   ]
  },
  {
   "cell_type": "code",
   "execution_count": null,
   "metadata": {},
   "outputs": [],
   "source": [
    "config_file = \"/content/drive/My Drive/Projects/gerumo/train/config/umonna_mst_colab.json\""
   ]
  },
  {
   "cell_type": "code",
   "execution_count": null,
   "metadata": {},
   "outputs": [],
   "source": [
    "print(f\"Loading config from: {config_file}\")\n",
    "with open(config_file) as cfg_file:\n",
    "    config = json.load(cfg_file)\n",
    "\n",
    "# Model\n",
    "model_name = config[\"model_name\"]\n",
    "model_constructor = MODELS[config[\"model_constructor\"]]\n",
    "model_extra_params = config[\"model_extra_params\"]\n",
    "\n",
    "# Dataset Parameters\n",
    "output_folder = config[\"output_folder\"]\n",
    "replace_folder_train = config[\"replace_folder_train\"]\n",
    "replace_folder_validation = config[\"replace_folder_validation\"]\n",
    "train_events_csv    = config[\"train_events_csv\"]\n",
    "train_telescope_csv = config[\"train_telescope_csv\"]\n",
    "validation_events_csv    = config[\"validation_events_csv\"]\n",
    "validation_telescope_csv = config[\"validation_telescope_csv\"]\n",
    "\n",
    "# Input and Target Parameters \n",
    "telescope = config[\"telescope\"]\n",
    "min_observations = config[\"min_observations\"]\n",
    "input_image_mode = config[\"input_image_mode\"]\n",
    "input_image_mask = config[\"input_image_mask\"]\n",
    "input_features = config[\"input_features\"]\n",
    "targets = config[\"targets\"]\n",
    "target_mode = \"one_cell\" #config[\"target_mode\"]\n",
    "target_shapes = config[\"target_shapes\"]\n",
    "target_domains = config[\"target_domains\"]\n",
    "target_resolutions = get_resolution(targets, target_domains, target_shapes)\n",
    "\n",
    "# Prepare Generator target_mode_config \n",
    "target_mode_config = {\n",
    "    \"target_shapes\":      tuple([target_shapes[target]      for target in targets]),\n",
    "    \"target_domains\":     tuple([target_domains[target]     for target in targets]),\n",
    "    \"target_resolutions\": tuple([target_resolutions[target] for target in targets])\n",
    "}\n",
    "if target_mode == \"probability_map\":\n",
    "    target_sigmas = config[\"target_sigmas\"]\n",
    "    target_mode_config[\"target_sigmas\"] = tuple([target_sigmas[target] for target in targets])\n",
    "\n",
    "# Training Parameters\n",
    "batch_size = 64 #config[\"batch_size\"]\n",
    "epochs = config[\"epochs\"]\n",
    "loss = config[\"loss\"]\n",
    "learning_rate = config[\"learning_rate\"]\n",
    "save_checkpoints = config[\"save_checkpoints\"]"
   ]
  },
  {
   "cell_type": "code",
   "execution_count": null,
   "metadata": {},
   "outputs": [],
   "source": [
    "import pprint\n",
    "pprint.pprint(config, width=1)"
   ]
  }
 ],
 "metadata": {
  "kernelspec": {
   "display_name": "Python 3",
   "language": "python",
   "name": "python3"
  },
  "language_info": {
   "codemirror_mode": {
    "name": "ipython",
    "version": 3
   },
   "file_extension": ".py",
   "mimetype": "text/x-python",
   "name": "python",
   "nbconvert_exporter": "python",
   "pygments_lexer": "ipython3",
   "version": "3.7.7"
  }
 },
 "nbformat": 4,
 "nbformat_minor": 4
}
