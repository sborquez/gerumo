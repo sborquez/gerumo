{
 "cells": [
  {
   "cell_type": "code",
   "execution_count": 1,
   "metadata": {},
   "outputs": [
    {
     "name": "stdout",
     "output_type": "stream",
     "text": [
      "/mnt/d/sebas/Projects/gerumo\n"
     ]
    }
   ],
   "source": [
    "%cd .."
   ]
  },
  {
   "cell_type": "code",
   "execution_count": 2,
   "metadata": {},
   "outputs": [],
   "source": [
    "from gerumo import *"
   ]
  },
  {
   "cell_type": "code",
   "execution_count": 3,
   "metadata": {},
   "outputs": [],
   "source": [
    "import scipy.stats as st\n",
    "import numpy as np\n",
    "import matplotlib.pyplot as plt"
   ]
  },
  {
   "cell_type": "markdown",
   "metadata": {},
   "source": [
    "# Models and Ensembles"
   ]
  },
  {
   "cell_type": "markdown",
   "metadata": {},
   "source": [
    "## load_model_from_experiment"
   ]
  },
  {
   "cell_type": "code",
   "execution_count": 4,
   "metadata": {},
   "outputs": [
    {
     "name": "stdout",
     "output_type": "stream",
     "text": [
      "WARNING:tensorflow:AutoGraph could not transform <bound method HexConvLayer.call of <gerumo.models.layers.HexConvLayer object at 0x7f2692eb5910>> and will run it as-is.\n",
      "Please report this to the TensorFlow team. When filing the bug, set the verbosity to 10 (on Linux, `export AUTOGRAPH_VERBOSITY=10`) and attach the full output.\n",
      "Cause: Mangled names are not yet supported by AutoGraph\n",
      "WARNING: AutoGraph could not transform <bound method HexConvLayer.call of <gerumo.models.layers.HexConvLayer object at 0x7f2692eb5910>> and will run it as-is.\n",
      "Please report this to the TensorFlow team. When filing the bug, set the verbosity to 10 (on Linux, `export AUTOGRAPH_VERBOSITY=10`) and attach the full output.\n",
      "Cause: Mangled names are not yet supported by AutoGraph\n"
     ]
    }
   ],
   "source": [
    "experiment_folder = \"/mnt/e/projects/gerumo-results/baseline/alt_az/BMO_UNIT_MST_e166d9\"\n",
    "config, model, assembler = load_model_from_experiment(experiment_folder, assemblers=ASSEMBLERS, custom_objects=CUSTOM_OBJECTS, epoch=29)"
   ]
  },
  {
   "cell_type": "markdown",
   "metadata": {},
   "source": [
    "## load_model_from_configuration"
   ]
  },
  {
   "cell_type": "code",
   "execution_count": 5,
   "metadata": {},
   "outputs": [
    {
     "name": "stdout",
     "output_type": "stream",
     "text": [
      "WARNING:tensorflow:AutoGraph could not transform <bound method HexConvLayer.call of <gerumo.models.layers.HexConvLayer object at 0x7f26806a7fd0>> and will run it as-is.\n",
      "Please report this to the TensorFlow team. When filing the bug, set the verbosity to 10 (on Linux, `export AUTOGRAPH_VERBOSITY=10`) and attach the full output.\n",
      "Cause: Mangled names are not yet supported by AutoGraph\n",
      "WARNING: AutoGraph could not transform <bound method HexConvLayer.call of <gerumo.models.layers.HexConvLayer object at 0x7f26806a7fd0>> and will run it as-is.\n",
      "Please report this to the TensorFlow team. When filing the bug, set the verbosity to 10 (on Linux, `export AUTOGRAPH_VERBOSITY=10`) and attach the full output.\n",
      "Cause: Mangled names are not yet supported by AutoGraph\n"
     ]
    }
   ],
   "source": [
    "model_checkpoint = \"/mnt/e/projects/gerumo-results/baseline/alt_az/BMO_UNIT_MST_e166d9/checkpoints/BMO_UNIT_MST_MST_FlashCam_mae_e029_0.0137.h5\"\n",
    "model_config_file = \"/mnt/e/projects/gerumo-results/baseline/alt_az/BMO_UNIT_MST_e166d9/bmo_mst.json\"\n",
    "config, model, assembler = load_model_from_configuration(model_checkpoint, model_config_file, assemblers=ASSEMBLERS, custom_objects=CUSTOM_OBJECTS)"
   ]
  },
  {
   "cell_type": "markdown",
   "metadata": {},
   "source": [
    "## load_assembler_from_configuration\n"
   ]
  },
  {
   "cell_type": "code",
   "execution_count": 15,
   "metadata": {},
   "outputs": [
    {
     "name": "stdout",
     "output_type": "stream",
     "text": [
      "WARNING:tensorflow:AutoGraph could not transform <bound method HexConvLayer.call of <gerumo.models.layers.HexConvLayer object at 0x7f26600f5f10>> and will run it as-is.\n",
      "Please report this to the TensorFlow team. When filing the bug, set the verbosity to 10 (on Linux, `export AUTOGRAPH_VERBOSITY=10`) and attach the full output.\n",
      "Cause: Mangled names are not yet supported by AutoGraph\n",
      "WARNING: AutoGraph could not transform <bound method HexConvLayer.call of <gerumo.models.layers.HexConvLayer object at 0x7f26600f5f10>> and will run it as-is.\n",
      "Please report this to the TensorFlow team. When filing the bug, set the verbosity to 10 (on Linux, `export AUTOGRAPH_VERBOSITY=10`) and attach the full output.\n",
      "Cause: Mangled names are not yet supported by AutoGraph\n"
     ]
    }
   ],
   "source": [
    "assembler_config_file = \"/mnt/d/sebas/Projects/gerumo/train/config/local/alt_az/BMO_assembler_methods/bmo_assembler_kde.json\"\n",
    "assembler_config, assembler=load_assembler_from_configuration(assembler_config_file, assemblers=ASSEMBLERS)"
   ]
  },
  {
   "cell_type": "markdown",
   "metadata": {},
   "source": [
    "## get_target_mode_config"
   ]
  },
  {
   "cell_type": "code",
   "execution_count": 16,
   "metadata": {},
   "outputs": [
    {
     "data": {
      "text/plain": [
       "{'target_domains': ([1.15, 1.3], [-0.25, 0.25]),\n",
       " 'target_shapes': (inf, inf),\n",
       " 'target_resolutions': (inf, inf)}"
      ]
     },
     "execution_count": 16,
     "metadata": {},
     "output_type": "execute_result"
    }
   ],
   "source": [
    "target_mode_config = get_target_mode_config(assembler_config)\n",
    "target_mode_config"
   ]
  },
  {
   "cell_type": "markdown",
   "metadata": {},
   "source": [
    "# Data"
   ]
  },
  {
   "cell_type": "markdown",
   "metadata": {},
   "source": [
    "## load_dataset_from_experiment"
   ]
  },
  {
   "cell_type": "code",
   "execution_count": 7,
   "metadata": {},
   "outputs": [
    {
     "name": "stderr",
     "output_type": "stream",
     "text": [
      "/home/rei/miniconda3/envs/gerumo/lib/python3.7/site-packages/sklearn/base.py:334: UserWarning: Trying to unpickle estimator MinMaxScaler from version 0.23.1 when using version 0.23.2. This might lead to breaking code or invalid results. Use at your own risk.\n",
      "  UserWarning)\n",
      "/home/rei/miniconda3/envs/gerumo/lib/python3.7/site-packages/sklearn/base.py:334: UserWarning: Trying to unpickle estimator MinMaxScaler from version 0.23.1 when using version 0.23.2. This might lead to breaking code or invalid results. Use at your own risk.\n",
      "  UserWarning)\n"
     ]
    }
   ],
   "source": [
    "ret = load_dataset_from_experiment(experiment_folder, include_samples_dataset=True)\n",
    "(generator, dataset), (sample_generator, sample_dataset) = ret"
   ]
  },
  {
   "cell_type": "code",
   "execution_count": 8,
   "metadata": {},
   "outputs": [
    {
     "data": {
      "image/png": "[encoded data removed]",
      "text/plain": [
       "<Figure size 864x432 with 6 Axes>"
      ]
     },
     "metadata": {
      "needs_background": "light"
     },
     "output_type": "display_data"
    }
   ],
   "source": [
    "x_batch, y_batch, meta_batch = generator[0]\n",
    "# event i: 0\n",
    "xi = (x_batch[0][0], x_batch[1][0]) # (image, telescope_features)\n",
    "plot_input_sample(xi[0], input_image_mode=config[\"input_image_mode\"], input_features_sample=xi[1], make_simple=True)"
   ]
  },
  {
   "cell_type": "markdown",
   "metadata": {},
   "source": [
    "## load_dataset_from_configuration"
   ]
  },
  {
   "cell_type": "code",
   "execution_count": 9,
   "metadata": {},
   "outputs": [
    {
     "name": "stderr",
     "output_type": "stream",
     "text": [
      "/home/rei/miniconda3/envs/gerumo/lib/python3.7/site-packages/sklearn/base.py:334: UserWarning: Trying to unpickle estimator MinMaxScaler from version 0.23.1 when using version 0.23.2. This might lead to breaking code or invalid results. Use at your own risk.\n",
      "  UserWarning)\n"
     ]
    }
   ],
   "source": [
    "ret = load_dataset_from_configuration(model_config_file, include_samples_dataset=True)\n",
    "(generator, dataset), (sample_generator, sample_dataset) = ret"
   ]
  },
  {
   "cell_type": "code",
   "execution_count": 10,
   "metadata": {},
   "outputs": [
    {
     "data": {
      "image/png": "[encoded data removed]",
      "text/plain": [
       "<Figure size 864x432 with 6 Axes>"
      ]
     },
     "metadata": {
      "needs_background": "light"
     },
     "output_type": "display_data"
    }
   ],
   "source": [
    "x_batch, y_batch, meta_batch = generator[0]\n",
    "# event i: 0\n",
    "xi = (x_batch[0][0], x_batch[1][0]) # (image, telescope_features)\n",
    "plot_input_sample(xi[0], input_image_mode=config[\"input_image_mode\"], input_features_sample=xi[1], make_simple=True)"
   ]
  },
  {
   "cell_type": "markdown",
   "metadata": {},
   "source": [
    "## load_dataset_from_assembler_config"
   ]
  },
  {
   "cell_type": "code",
   "execution_count": 25,
   "metadata": {},
   "outputs": [
    {
     "name": "stdout",
     "output_type": "stream",
     "text": [
      "files 2\n",
      "events 5\n",
      "observations 15\n",
      "obsevation by telescopes\n",
      "MST_FlashCam    15\n",
      "Name: type, dtype: int64\n"
     ]
    }
   ],
   "source": [
    "describe_dataset(sample_generator.dataset)"
   ]
  },
  {
   "cell_type": "code",
   "execution_count": 17,
   "metadata": {},
   "outputs": [
    {
     "name": "stderr",
     "output_type": "stream",
     "text": [
      "/home/rei/miniconda3/envs/gerumo/lib/python3.7/site-packages/sklearn/base.py:334: UserWarning: Trying to unpickle estimator MinMaxScaler from version 0.23.1 when using version 0.23.2. This might lead to breaking code or invalid results. Use at your own risk.\n",
      "  UserWarning)\n"
     ]
    }
   ],
   "source": [
    "ret = load_dataset_from_assembler_configuration(assembler_config_file, include_samples_dataset=True)\n",
    "(assembler_generator, assembler_dataset), (assembler_sample_generator, assembler_sample_dataset, assembler_sample_telescopes) = ret"
   ]
  },
  {
   "cell_type": "code",
   "execution_count": 12,
   "metadata": {},
   "outputs": [
    {
     "name": "stdout",
     "output_type": "stream",
     "text": [
      "9\n"
     ]
    },
    {
     "data": {
      "image/png": "[encoded data removed]",
      "text/plain": [
       "<Figure size 864x432 with 6 Axes>"
      ]
     },
     "metadata": {
      "needs_background": "light"
     },
     "output_type": "display_data"
    }
   ],
   "source": [
    "b = 1 #3\n",
    "i = 2 #6\n",
    "\n",
    "X_batch, y_batch, meta_batch = assembler_generator[b]\n",
    "Xi = X_batch[i]\n",
    "y_i_true = y_batch[i]\n",
    "Xi_mst = Xi[\"MST_FlashCam\"]\n",
    "print(len(Xi_mst[0]))\n",
    "# telescope t0\n",
    "Xi_mst_t0 = (Xi_mst[0][0], Xi_mst[1][0]) # (image, telescope_features)\n",
    "plot_input_sample(Xi_mst_t0[0], input_image_mode=assembler_config[\"input_image_mode\"], input_features_sample=Xi_mst_t0[1], make_simple=True)"
   ]
  }
 ],
 "metadata": {
  "kernelspec": {
   "display_name": "Python 3",
   "language": "python",
   "name": "python3"
  },
  "language_info": {
   "codemirror_mode": {
    "name": "ipython",
    "version": 3
   },
   "file_extension": ".py",
   "mimetype": "text/x-python",
   "name": "python",
   "nbconvert_exporter": "python",
   "pygments_lexer": "ipython3",
   "version": "3.7.9"
  }
 },
 "nbformat": 4,
 "nbformat_minor": 4
}
