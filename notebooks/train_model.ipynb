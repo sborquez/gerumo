{
 "cells": [
  {
   "cell_type": "markdown",
   "metadata": {
    "colab_type": "text",
    "id": "GxaRcmvGGQpb"
   },
   "source": [
    "<h1 align=\"center\"><a href=\"https://github.com/sborquez/gerumo/\">*</a> GeRUMo - Gamma-ray Events Reconstructor with Uncertain models</h1>\n",
    "\n",
    "<h2 align=\"center\">Train Model</h2>\n",
    "\n",
    "<center>\n",
    "<img src=\"https://upload.wikimedia.org/wikipedia/commons/2/2f/Cta_concept.jpg\" width=\"30%\" alt=\"icon\"></img>\n",
    "</center>\n",
    "\n",
    "\n",
    "\n"
   ]
  },
  {
   "cell_type": "markdown",
   "metadata": {
    "colab_type": "text",
    "id": "yRQBPThYIX9_"
   },
   "source": [
    "## Setup\n",
    "\n",
    "The first step is to sync this notebook with Google Drive, and change directory to gerumo repository."
   ]
  },
  {
   "cell_type": "markdown",
   "metadata": {},
   "source": [
    "#### Colab Setup"
   ]
  },
  {
   "cell_type": "code",
   "execution_count": null,
   "metadata": {},
   "outputs": [],
   "source": [
    "!pip install -q ctaplot"
   ]
  },
  {
   "cell_type": "code",
   "execution_count": null,
   "metadata": {},
   "outputs": [],
   "source": [
    "from google.colab import drive\n",
    "drive.mount('/content/drive')"
   ]
  },
  {
   "cell_type": "code",
   "execution_count": null,
   "metadata": {
    "colab": {
     "base_uri": "https://localhost:8080/",
     "height": 69
    },
    "colab_type": "code",
    "executionInfo": {
     "elapsed": 2171,
     "status": "ok",
     "timestamp": 1588005934217,
     "user": {
      "displayName": "Sebastián Bórquez",
      "photoUrl": "https://lh3.googleusercontent.com/a-/AOh14GjxWwI8bJunba57PuyxAam6CPZ6TAt-b6ZBMCcbHw=s64",
      "userId": "11886092938956714392"
     },
     "user_tz": 240
    },
    "id": "Bp0YhTAPFViQ",
    "outputId": "5ff34bb8-e2bb-435f-8b18-c5de1dd9f432"
   },
   "outputs": [],
   "source": [
    "%cd \"/content/drive/My Drive/Projects/gerumo\"\n",
    "!ls"
   ]
  },
  {
   "cell_type": "markdown",
   "metadata": {},
   "source": [
    "#### Local Setup"
   ]
  },
  {
   "cell_type": "code",
   "execution_count": null,
   "metadata": {},
   "outputs": [],
   "source": [
    "%cd D:\\sebas\\Google Drive\\Projects\\gerumo"
   ]
  },
  {
   "cell_type": "code",
   "execution_count": 1,
   "metadata": {},
   "outputs": [
    {
     "name": "stdout",
     "output_type": "stream",
     "text": [
      "/home/bapanes/Research-Now/gerumo\n"
     ]
    }
   ],
   "source": [
    "%cd /home/bapanes/Research-Now/gerumo"
   ]
  },
  {
   "cell_type": "markdown",
   "metadata": {
    "colab_type": "text",
    "id": "etajuCz8MUts"
   },
   "source": [
    "## Load Gerumo and extra modules."
   ]
  },
  {
   "cell_type": "code",
   "execution_count": 2,
   "metadata": {
    "colab": {},
    "colab_type": "code",
    "id": "jJPuP9b9MS6t"
   },
   "outputs": [],
   "source": [
    "from gerumo import *\n",
    "\n",
    "import logging\n",
    "import time\n",
    "from os import path\n",
    "\n",
    "import numpy as np\n",
    "from tensorflow import keras\n",
    "from tensorflow.keras.utils import plot_model\n",
    "\n",
    "import json\n",
    "from tqdm.notebook import tqdm"
   ]
  },
  {
   "cell_type": "markdown",
   "metadata": {
    "colab_type": "text",
    "id": "o0BhssyQME-d"
   },
   "source": [
    "## Load Configuration file"
   ]
  },
  {
   "cell_type": "code",
   "execution_count": 3,
   "metadata": {
    "colab": {},
    "colab_type": "code",
    "id": "K6iWVhA3MENI"
   },
   "outputs": [],
   "source": [
    "#config_file = \"/content/drive/My Drive/Projects/gerumo/train/config/umonna_sst_colab.json\"\n",
    "#config_file = \"/content/drive/My Drive/Projects/gerumo/train/config/umonna_mst_colab.json\"\n",
    "#config_file = \"/content/drive/My Drive/Projects/gerumo/train/config/umonna_lst_colab.json\"\n",
    "\n",
    "#config_file = \"D:/sebas/Google Drive/Projects/gerumo/train/config/local/alt_az/bmo_mst_local.json\"\n",
    "config_file = \"/home/bapanes/Research-Now/gerumo/train/config/local/alt_az/bmo_mst_local_bapanes.json\""
   ]
  },
  {
   "cell_type": "code",
   "execution_count": 4,
   "metadata": {
    "colab": {
     "base_uri": "https://localhost:8080/",
     "height": 35
    },
    "colab_type": "code",
    "executionInfo": {
     "elapsed": 2038,
     "status": "ok",
     "timestamp": 1588005956134,
     "user": {
      "displayName": "Sebastián Bórquez",
      "photoUrl": "https://lh3.googleusercontent.com/a-/AOh14GjxWwI8bJunba57PuyxAam6CPZ6TAt-b6ZBMCcbHw=s64",
      "userId": "11886092938956714392"
     },
     "user_tz": 240
    },
    "id": "zelmXfSCLdQy",
    "outputId": "6ce7eb2b-9ab3-49c4-acdb-f77bfb3af7c6"
   },
   "outputs": [
    {
     "name": "stdout",
     "output_type": "stream",
     "text": [
      "Loading config from: /home/bapanes/Research-Now/gerumo/train/config/local/alt_az/bmo_mst_local_bapanes.json\n"
     ]
    }
   ],
   "source": [
    "print(f\"Loading config from: {config_file}\")\n",
    "with open(config_file) as cfg_file:\n",
    "    config = json.load(cfg_file)\n",
    "\n",
    "# Model\n",
    "model_name = config[\"model_name\"]\n",
    "model_constructor = MODELS[config[\"model_constructor\"]]\n",
    "model_extra_params = config[\"model_extra_params\"]\n",
    "\n",
    "# Dataset Parameters\n",
    "version = config[\"version\"]\n",
    "output_folder = config[\"output_folder\"]\n",
    "replace_folder_train = config[\"replace_folder_train\"]\n",
    "replace_folder_validation = config[\"replace_folder_validation\"]\n",
    "train_events_csv    = config[\"train_events_csv\"]\n",
    "train_telescope_csv = config[\"train_telescope_csv\"]\n",
    "validation_events_csv    = config[\"validation_events_csv\"]\n",
    "validation_telescope_csv = config[\"validation_telescope_csv\"]\n",
    "\n",
    "# Input and Target Parameters \n",
    "telescope = config[\"telescope\"]\n",
    "min_observations = config[\"min_observations\"]\n",
    "input_image_mode = config[\"input_image_mode\"]\n",
    "input_image_mask = config[\"input_image_mask\"]\n",
    "input_features = config[\"input_features\"]\n",
    "targets = config[\"targets\"]\n",
    "target_mode = config[\"target_mode\"]\n",
    "target_shapes = config[\"target_shapes\"]\n",
    "target_domains = config[\"target_domains\"]\n",
    "#\n",
    "if config[\"model_constructor\"] == 'umonna':\n",
    "    target_resolutions = get_resolution(targets, target_domains, target_shapes)\n",
    "\n",
    "    # Prepare Generator target_mode_config \n",
    "    target_mode_config = {\n",
    "        \"target_shapes\":      tuple([target_shapes[target]      for target in targets]),\n",
    "        \"target_domains\":     tuple([target_domains[target]     for target in targets]),\n",
    "        \"target_resolutions\": tuple([target_resolutions[target] for target in targets])\n",
    "    }\n",
    "    if target_mode == \"probability_map\":\n",
    "        target_sigmas = config[\"target_sigmas\"]\n",
    "        target_mode_config[\"target_sigmas\"] = tuple([target_sigmas[target] for target in targets])\n",
    "else:\n",
    "    target_mode_config = {\n",
    "        \"target_domains\":     tuple([target_domains[target]     for target in targets]),\n",
    "        \"target_shapes\":      tuple([np.inf                     for target in targets]),\n",
    "        \"target_resolutions\": tuple([np.inf                     for target in targets])\n",
    "    }\n",
    "    target_resolutions = tuple([np.inf      for target in targets])\n",
    "\n",
    "# Training Parameters\n",
    "batch_size = config[\"batch_size\"]\n",
    "epochs = config[\"epochs\"]\n",
    "loss = config[\"loss\"]\n",
    "optimizer = config[\"optimizer\"][\"name\"].lower()\n",
    "learning_rate = config[\"optimizer\"][\"learning_rate\"]\n",
    "optimizer_parameters = config[\"optimizer\"][\"extra_parameters\"]\n",
    "optimizer_parameters = {} if optimizer_parameters is None else optimizer_parameters\n",
    "save_checkpoints = config[\"save_checkpoints\"]\n",
    "\n",
    "# Debug\n",
    "save_plot = config[\"save_plot\"]\n",
    "plot_only = config[\"plot_only\"]\n",
    "summary = config[\"summary\"]"
   ]
  },
  {
   "cell_type": "code",
   "execution_count": 5,
   "metadata": {
    "colab": {
     "base_uri": "https://localhost:8080/",
     "height": 919
    },
    "colab_type": "code",
    "executionInfo": {
     "elapsed": 1267,
     "status": "ok",
     "timestamp": 1588005972336,
     "user": {
      "displayName": "Sebastián Bórquez",
      "photoUrl": "https://lh3.googleusercontent.com/a-/AOh14GjxWwI8bJunba57PuyxAam6CPZ6TAt-b6ZBMCcbHw=s64",
      "userId": "11886092938956714392"
     },
     "user_tz": 240
    },
    "id": "ul_OR6ZtzAG4",
    "outputId": "7d144014-8689-466f-9321-ac4ae2a1e7ff"
   },
   "outputs": [
    {
     "name": "stdout",
     "output_type": "stream",
     "text": [
      "{'batch_size': 64,\n",
      " 'epochs': 50,\n",
      " 'input_features': ['x',\n",
      "                    'y'],\n",
      " 'input_image_mask': True,\n",
      " 'input_image_mode': 'simple-shift',\n",
      " 'loss': 'mse',\n",
      " 'min_observations': 1,\n",
      " 'model_constructor': 'bmo_unit',\n",
      " 'model_extra_params': {'dropout_rate': 0.25,\n",
      "                        'latent_variables': 600},\n",
      " 'model_name': 'BMO_UNIT_MST',\n",
      " 'optimizer': {'extra_parameters': {'momentum': 0.01,\n",
      "                                    'nesterov': True},\n",
      "               'learning_rate': 0.001,\n",
      "               'name': 'sgd'},\n",
      " 'output_folder': '/home/bapanes/Research-Now/local/ml-valpo-local/umonna/dataset/ML1/train_output_models/',\n",
      " 'plot_only': False,\n",
      " 'replace_folder_test': '...',\n",
      " 'replace_folder_train': '/home/bapanes/Research-Now/local/ml-valpo-local/umonna/dataset/ML1/raw_data_generation_list/',\n",
      " 'replace_folder_validation': '/home/bapanes/Research-Now/local/ml-valpo-local/umonna/dataset/ML1/raw_data_generation_list/',\n",
      " 'save_checkpoints': True,\n",
      " 'save_plot': False,\n",
      " 'summary': False,\n",
      " 'target_domains': {'alt': [1.05,\n",
      "                            1.382],\n",
      "                    'az': [-0.52,\n",
      "                           0.52],\n",
      "                    'log10_mc_energy': [-2.351,\n",
      "                                        2.47]},\n",
      " 'target_mode': 'lineal',\n",
      " 'target_shapes': None,\n",
      " 'target_sigmas': None,\n",
      " 'targets': ['alt',\n",
      "             'az'],\n",
      " 'telescope': 'MST_FlashCam',\n",
      " 'test_events_csv': '...',\n",
      " 'test_telescope_csv': '...',\n",
      " 'train_events_csv': '/home/bapanes/Research-Now/local/ml-valpo-local/umonna/dataset/ML1/generated/train_events.csv',\n",
      " 'train_telescope_csv': '/home/bapanes/Research-Now/local/ml-valpo-local/umonna/dataset/ML1/generated/train_telescopes.csv',\n",
      " 'validation_events_csv': '/home/bapanes/Research-Now/local/ml-valpo-local/umonna/dataset/ML1/generated/validation_events.csv',\n",
      " 'validation_telescope_csv': '/home/bapanes/Research-Now/local/ml-valpo-local/umonna/dataset/ML1/generated/validation_telescopes.csv',\n",
      " 'version': 'ML1'}\n"
     ]
    }
   ],
   "source": [
    "import pprint\n",
    "pprint.pprint(config, width=1)"
   ]
  },
  {
   "cell_type": "markdown",
   "metadata": {
    "colab_type": "text",
    "id": "MUbWfxOCNPxy"
   },
   "source": [
    "## Load Dataset"
   ]
  },
  {
   "cell_type": "code",
   "execution_count": 6,
   "metadata": {
    "colab": {},
    "colab_type": "code",
    "id": "u44oEHPe1lad"
   },
   "outputs": [],
   "source": [
    "import pandas as pd"
   ]
  },
  {
   "cell_type": "code",
   "execution_count": 7,
   "metadata": {
    "colab": {},
    "colab_type": "code",
    "id": "-ZOap4-gNRZa"
   },
   "outputs": [],
   "source": [
    "# Prepare datasets\n",
    "train_dataset      = load_dataset(train_events_csv, train_telescope_csv, replace_folder_train)\n",
    "validation_dataset = load_dataset(validation_events_csv, validation_telescope_csv, replace_folder_validation)\n",
    "\n",
    "train_dataset = aggregate_dataset(train_dataset, az=True, log10_mc_energy=True)\n",
    "train_dataset = filter_dataset(train_dataset, telescope, min_observations, target_domains)\n",
    "\n",
    "validation_dataset = aggregate_dataset(validation_dataset, az=True, log10_mc_energy=True, hdf5_file=True)\n",
    "validation_dataset = filter_dataset(validation_dataset, telescope, min_observations, target_domains)\n",
    "\n",
    "# Preprocessing pipes\n",
    "preprocess_input_pipes = []\n",
    "preprocess_output_pipes = []"
   ]
  },
  {
   "cell_type": "code",
   "execution_count": 8,
   "metadata": {
    "colab": {
     "base_uri": "https://localhost:8080/",
     "height": 161
    },
    "colab_type": "code",
    "executionInfo": {
     "elapsed": 143654,
     "status": "ok",
     "timestamp": 1588006123458,
     "user": {
      "displayName": "Sebastián Bórquez",
      "photoUrl": "https://lh3.googleusercontent.com/a-/AOh14GjxWwI8bJunba57PuyxAam6CPZ6TAt-b6ZBMCcbHw=s64",
      "userId": "11886092938956714392"
     },
     "user_tz": 240
    },
    "id": "cMe5oMXCNWi8",
    "outputId": "a23e5a89-0636-4a4c-b7c0-441b7b972b41"
   },
   "outputs": [
    {
     "data": {
      "text/html": [
       "<div>\n",
       "<style scoped>\n",
       "    .dataframe tbody tr th:only-of-type {\n",
       "        vertical-align: middle;\n",
       "    }\n",
       "\n",
       "    .dataframe tbody tr th {\n",
       "        vertical-align: top;\n",
       "    }\n",
       "\n",
       "    .dataframe thead tr th {\n",
       "        text-align: left;\n",
       "    }\n",
       "\n",
       "    .dataframe thead tr:last-of-type th {\n",
       "        text-align: right;\n",
       "    }\n",
       "</style>\n",
       "<table border=\"1\" class=\"dataframe\">\n",
       "  <thead>\n",
       "    <tr>\n",
       "      <th></th>\n",
       "      <th colspan=\"8\" halign=\"left\">alt</th>\n",
       "      <th colspan=\"5\" halign=\"left\">az</th>\n",
       "      <th colspan=\"8\" halign=\"left\">log10_mc_energy</th>\n",
       "    </tr>\n",
       "    <tr>\n",
       "      <th></th>\n",
       "      <th>count</th>\n",
       "      <th>mean</th>\n",
       "      <th>std</th>\n",
       "      <th>min</th>\n",
       "      <th>25%</th>\n",
       "      <th>50%</th>\n",
       "      <th>75%</th>\n",
       "      <th>max</th>\n",
       "      <th>count</th>\n",
       "      <th>mean</th>\n",
       "      <th>...</th>\n",
       "      <th>75%</th>\n",
       "      <th>max</th>\n",
       "      <th>count</th>\n",
       "      <th>mean</th>\n",
       "      <th>std</th>\n",
       "      <th>min</th>\n",
       "      <th>25%</th>\n",
       "      <th>50%</th>\n",
       "      <th>75%</th>\n",
       "      <th>max</th>\n",
       "    </tr>\n",
       "    <tr>\n",
       "      <th>type</th>\n",
       "      <th></th>\n",
       "      <th></th>\n",
       "      <th></th>\n",
       "      <th></th>\n",
       "      <th></th>\n",
       "      <th></th>\n",
       "      <th></th>\n",
       "      <th></th>\n",
       "      <th></th>\n",
       "      <th></th>\n",
       "      <th></th>\n",
       "      <th></th>\n",
       "      <th></th>\n",
       "      <th></th>\n",
       "      <th></th>\n",
       "      <th></th>\n",
       "      <th></th>\n",
       "      <th></th>\n",
       "      <th></th>\n",
       "      <th></th>\n",
       "      <th></th>\n",
       "    </tr>\n",
       "  </thead>\n",
       "  <tbody>\n",
       "    <tr>\n",
       "      <th>MST_FlashCam</th>\n",
       "      <td>3841.0</td>\n",
       "      <td>1.217563</td>\n",
       "      <td>0.041101</td>\n",
       "      <td>1.069269</td>\n",
       "      <td>1.185915</td>\n",
       "      <td>1.217665</td>\n",
       "      <td>1.24741</td>\n",
       "      <td>1.3529</td>\n",
       "      <td>3841.0</td>\n",
       "      <td>-0.008639</td>\n",
       "      <td>...</td>\n",
       "      <td>0.086528</td>\n",
       "      <td>0.499082</td>\n",
       "      <td>3841.0</td>\n",
       "      <td>-0.135418</td>\n",
       "      <td>0.772045</td>\n",
       "      <td>-1.989464</td>\n",
       "      <td>-0.747702</td>\n",
       "      <td>-0.274761</td>\n",
       "      <td>0.339106</td>\n",
       "      <td>2.160553</td>\n",
       "    </tr>\n",
       "  </tbody>\n",
       "</table>\n",
       "<p>1 rows × 24 columns</p>\n",
       "</div>"
      ],
      "text/plain": [
       "                 alt                                                    \\\n",
       "               count      mean       std       min       25%       50%   \n",
       "type                                                                     \n",
       "MST_FlashCam  3841.0  1.217563  0.041101  1.069269  1.185915  1.217665   \n",
       "\n",
       "                                   az            ...                      \\\n",
       "                  75%     max   count      mean  ...       75%       max   \n",
       "type                                             ...                       \n",
       "MST_FlashCam  1.24741  1.3529  3841.0 -0.008639  ...  0.086528  0.499082   \n",
       "\n",
       "             log10_mc_energy                                          \\\n",
       "                       count      mean       std       min       25%   \n",
       "type                                                                   \n",
       "MST_FlashCam          3841.0 -0.135418  0.772045 -1.989464 -0.747702   \n",
       "\n",
       "                                            \n",
       "                   50%       75%       max  \n",
       "type                                        \n",
       "MST_FlashCam -0.274761  0.339106  2.160553  \n",
       "\n",
       "[1 rows x 24 columns]"
      ]
     },
     "execution_count": 8,
     "metadata": {},
     "output_type": "execute_result"
    }
   ],
   "source": [
    "train_dataset.groupby(\"type\")[[\"alt\", \"az\",\"log10_mc_energy\"]].describe()"
   ]
  },
  {
   "cell_type": "code",
   "execution_count": 9,
   "metadata": {
    "colab": {
     "base_uri": "https://localhost:8080/",
     "height": 161
    },
    "colab_type": "code",
    "executionInfo": {
     "elapsed": 143334,
     "status": "ok",
     "timestamp": 1588006123702,
     "user": {
      "displayName": "Sebastián Bórquez",
      "photoUrl": "https://lh3.googleusercontent.com/a-/AOh14GjxWwI8bJunba57PuyxAam6CPZ6TAt-b6ZBMCcbHw=s64",
      "userId": "11886092938956714392"
     },
     "user_tz": 240
    },
    "id": "dF-nUxEASzh8",
    "outputId": "3d5797f8-3ae6-4825-f5a6-8dd53c855082"
   },
   "outputs": [
    {
     "data": {
      "text/html": [
       "<div>\n",
       "<style scoped>\n",
       "    .dataframe tbody tr th:only-of-type {\n",
       "        vertical-align: middle;\n",
       "    }\n",
       "\n",
       "    .dataframe tbody tr th {\n",
       "        vertical-align: top;\n",
       "    }\n",
       "\n",
       "    .dataframe thead tr th {\n",
       "        text-align: left;\n",
       "    }\n",
       "\n",
       "    .dataframe thead tr:last-of-type th {\n",
       "        text-align: right;\n",
       "    }\n",
       "</style>\n",
       "<table border=\"1\" class=\"dataframe\">\n",
       "  <thead>\n",
       "    <tr>\n",
       "      <th></th>\n",
       "      <th colspan=\"8\" halign=\"left\">alt</th>\n",
       "      <th colspan=\"5\" halign=\"left\">az</th>\n",
       "      <th colspan=\"8\" halign=\"left\">log10_mc_energy</th>\n",
       "    </tr>\n",
       "    <tr>\n",
       "      <th></th>\n",
       "      <th>count</th>\n",
       "      <th>mean</th>\n",
       "      <th>std</th>\n",
       "      <th>min</th>\n",
       "      <th>25%</th>\n",
       "      <th>50%</th>\n",
       "      <th>75%</th>\n",
       "      <th>max</th>\n",
       "      <th>count</th>\n",
       "      <th>mean</th>\n",
       "      <th>...</th>\n",
       "      <th>75%</th>\n",
       "      <th>max</th>\n",
       "      <th>count</th>\n",
       "      <th>mean</th>\n",
       "      <th>std</th>\n",
       "      <th>min</th>\n",
       "      <th>25%</th>\n",
       "      <th>50%</th>\n",
       "      <th>75%</th>\n",
       "      <th>max</th>\n",
       "    </tr>\n",
       "    <tr>\n",
       "      <th>type</th>\n",
       "      <th></th>\n",
       "      <th></th>\n",
       "      <th></th>\n",
       "      <th></th>\n",
       "      <th></th>\n",
       "      <th></th>\n",
       "      <th></th>\n",
       "      <th></th>\n",
       "      <th></th>\n",
       "      <th></th>\n",
       "      <th></th>\n",
       "      <th></th>\n",
       "      <th></th>\n",
       "      <th></th>\n",
       "      <th></th>\n",
       "      <th></th>\n",
       "      <th></th>\n",
       "      <th></th>\n",
       "      <th></th>\n",
       "      <th></th>\n",
       "      <th></th>\n",
       "    </tr>\n",
       "  </thead>\n",
       "  <tbody>\n",
       "    <tr>\n",
       "      <th>MST_FlashCam</th>\n",
       "      <td>366.0</td>\n",
       "      <td>1.222962</td>\n",
       "      <td>0.044939</td>\n",
       "      <td>1.101235</td>\n",
       "      <td>1.191892</td>\n",
       "      <td>1.222966</td>\n",
       "      <td>1.257264</td>\n",
       "      <td>1.334297</td>\n",
       "      <td>366.0</td>\n",
       "      <td>-0.004328</td>\n",
       "      <td>...</td>\n",
       "      <td>0.100594</td>\n",
       "      <td>0.367815</td>\n",
       "      <td>366.0</td>\n",
       "      <td>-0.318261</td>\n",
       "      <td>0.654453</td>\n",
       "      <td>-1.711332</td>\n",
       "      <td>-0.92434</td>\n",
       "      <td>-0.360779</td>\n",
       "      <td>0.20917</td>\n",
       "      <td>2.157028</td>\n",
       "    </tr>\n",
       "  </tbody>\n",
       "</table>\n",
       "<p>1 rows × 24 columns</p>\n",
       "</div>"
      ],
      "text/plain": [
       "                alt                                                    \\\n",
       "              count      mean       std       min       25%       50%   \n",
       "type                                                                    \n",
       "MST_FlashCam  366.0  1.222962  0.044939  1.101235  1.191892  1.222966   \n",
       "\n",
       "                                     az            ...                      \\\n",
       "                   75%       max  count      mean  ...       75%       max   \n",
       "type                                               ...                       \n",
       "MST_FlashCam  1.257264  1.334297  366.0 -0.004328  ...  0.100594  0.367815   \n",
       "\n",
       "             log10_mc_energy                                                   \\\n",
       "                       count      mean       std       min      25%       50%   \n",
       "type                                                                            \n",
       "MST_FlashCam           366.0 -0.318261  0.654453 -1.711332 -0.92434 -0.360779   \n",
       "\n",
       "                                 \n",
       "                  75%       max  \n",
       "type                             \n",
       "MST_FlashCam  0.20917  2.157028  \n",
       "\n",
       "[1 rows x 24 columns]"
      ]
     },
     "execution_count": 9,
     "metadata": {},
     "output_type": "execute_result"
    }
   ],
   "source": [
    "validation_dataset.groupby(\"type\")[[\"alt\", \"az\",\"log10_mc_energy\"]].describe()"
   ]
  },
  {
   "cell_type": "markdown",
   "metadata": {
    "colab_type": "text",
    "id": "E8M1avOiTZDb"
   },
   "source": [
    "## Data Generators"
   ]
  },
  {
   "cell_type": "code",
   "execution_count": 10,
   "metadata": {
    "colab": {},
    "colab_type": "code",
    "id": "Bpq9Lul6TY15"
   },
   "outputs": [],
   "source": [
    "# Generators\n",
    "train_generator = AssemblerUnitGenerator(train_dataset, batch_size, \n",
    "                                        input_image_mode=input_image_mode, \n",
    "                                        input_image_mask=input_image_mask, \n",
    "                                        input_features=input_features,\n",
    "                                        targets=targets,\n",
    "                                        target_mode=target_mode, \n",
    "                                        target_mode_config=target_mode_config,\n",
    "                                        preprocess_input_pipes=preprocess_input_pipes,\n",
    "                                        preprocess_output_pipes=preprocess_output_pipes,\n",
    "                                        version=version\n",
    "                                        )\n",
    "validation_generator = AssemblerUnitGenerator(validation_dataset, batch_size//2, \n",
    "                                                input_image_mode=input_image_mode,\n",
    "                                                input_image_mask=input_image_mask, \n",
    "                                                input_features=input_features,\n",
    "                                                targets=targets,\n",
    "                                                target_mode=target_mode, \n",
    "                                                target_mode_config=target_mode_config,\n",
    "                                                preprocess_input_pipes=preprocess_input_pipes,\n",
    "                                                preprocess_output_pipes=preprocess_output_pipes,\n",
    "                                                version=version\n",
    "                                            )"
   ]
  },
  {
   "cell_type": "markdown",
   "metadata": {
    "colab_type": "text",
    "id": "TwKdFpk-Tlg2"
   },
   "source": [
    "### Generator sample"
   ]
  },
  {
   "cell_type": "code",
   "execution_count": 11,
   "metadata": {
    "colab": {
     "base_uri": "https://localhost:8080/",
     "height": 173
    },
    "colab_type": "code",
    "executionInfo": {
     "elapsed": 12304,
     "status": "ok",
     "timestamp": 1588006136024,
     "user": {
      "displayName": "Sebastián Bórquez",
      "photoUrl": "https://lh3.googleusercontent.com/a-/AOh14GjxWwI8bJunba57PuyxAam6CPZ6TAt-b6ZBMCcbHw=s64",
      "userId": "11886092938956714392"
     },
     "user_tz": 240
    },
    "id": "LFBnZyHwThEP",
    "outputId": "1eef7e8d-dfb1-4a21-ab43-85a33999efa4"
   },
   "outputs": [
    {
     "name": "stdout",
     "output_type": "stream",
     "text": [
      "Batch size: 64\n",
      "\n",
      "Input mode: simple-shift\n",
      "Input image shape: (2, 84, 29, 3)\n",
      "Input features: ['x', 'y']\n",
      "Input features shape: (2,)\n",
      "\n",
      "Target mode: lineal\n",
      "Target shape: (2,)\n"
     ]
    }
   ],
   "source": [
    "i = 4\n",
    "batch_i = train_generator[i]\n",
    "print(f\"Batch size: {batch_i[0][0].shape[0]}\")\n",
    "print()\n",
    "print(f\"Input mode: {input_image_mode}\")\n",
    "print(f\"Input image shape: {batch_i[0][0].shape[1:]}\")\n",
    "print(f\"Input features: {input_features}\")\n",
    "print(f\"Input features shape: {batch_i[0][1].shape[1:]}\")\n",
    "print()\n",
    "print(f\"Target mode: {target_mode}\")\n",
    "print(f\"Target shape: {batch_i[1].shape[1:]}\")\n",
    "\n",
    "img_sample =batch_i[0][0][0]\n",
    "feature_sample = batch_i[0][1][0]\n",
    "target_sample = batch_i[1][0]\n",
    "\n",
    "#show_input_sample(img_sample, input_image_mode, feature_sample, make_simple=False)\n",
    "\n",
    "#show_target_sample(target_sample, targets, target_mode, target_domains)"
   ]
  },
  {
   "cell_type": "code",
   "execution_count": 12,
   "metadata": {
    "colab": {
     "base_uri": "https://localhost:8080/",
     "height": 116,
     "referenced_widgets": [
      "1d0f8f6579734f05b7391e9829d2f9a6",
      "ef98a2274a5f46d48b65274eea26f25d",
      "195bd64b8c2b483b901941fb78ec4bba",
      "b8d49981427f416c99e26648838ac134",
      "b6df01646af44516ac381b386db747de",
      "e03f4c8935d046caa6b30203b4a3390f",
      "677ea2d0ddb2488f8f7f0734e87685f8",
      "b3cbe4f4685d4b3ca9f535a1eba1a110",
      "1f1ffce6a0de471eaa8a188c53a71dac",
      "7cbf02e059854a369dac769217036cba",
      "8036c7aaef844b6e880e06cda63f10f6",
      "9b7a24d875dd4cac8b639447f9b2bedd",
      "8f39c013db3b4a8fb0e1f01d1516ba1e",
      "e0c9399f66f44a1b86da7d913050d970",
      "b16f04cccffc402fbedb4b93a0a9a0e6",
      "060191ba8f334ee0bcf2f2b1bf2e70fa"
     ]
    },
    "colab_type": "code",
    "executionInfo": {
     "elapsed": 956924,
     "status": "ok",
     "timestamp": 1588007080660,
     "user": {
      "displayName": "Sebastián Bórquez",
      "photoUrl": "https://lh3.googleusercontent.com/a-/AOh14GjxWwI8bJunba57PuyxAam6CPZ6TAt-b6ZBMCcbHw=s64",
      "userId": "11886092938956714392"
     },
     "user_tz": 240
    },
    "id": "bw7f59a7U2j8",
    "outputId": "b66a3438-a68d-46ab-868c-a87001a5e15a"
   },
   "outputs": [
    {
     "data": {
      "application/vnd.jupyter.widget-view+json": {
       "model_id": "85b3de412ac743f98c64ebb2bc2fc0e8",
       "version_major": 2,
       "version_minor": 0
      },
      "text/plain": [
       "HBox(children=(FloatProgress(value=0.0, max=60.0), HTML(value='')))"
      ]
     },
     "metadata": {},
     "output_type": "display_data"
    },
    {
     "name": "stdout",
     "output_type": "stream",
     "text": [
      "\n"
     ]
    },
    {
     "data": {
      "application/vnd.jupyter.widget-view+json": {
       "model_id": "88b4bab234dd45b2b9ca15a5280a1818",
       "version_major": 2,
       "version_minor": 0
      },
      "text/plain": [
       "HBox(children=(FloatProgress(value=0.0, max=11.0), HTML(value='')))"
      ]
     },
     "metadata": {},
     "output_type": "display_data"
    },
    {
     "name": "stdout",
     "output_type": "stream",
     "text": [
      "\n"
     ]
    }
   ],
   "source": [
    "# Debug: Check if train dataset is loadable\n",
    "for i in tqdm(range(len(train_generator))):\n",
    "  _ = train_generator[i]\n",
    "\n",
    "# Debug: Check if train dataset is loadable\n",
    "for i in tqdm(range(len(validation_generator))):\n",
    "  _ = validation_generator[i]"
   ]
  },
  {
   "cell_type": "markdown",
   "metadata": {
    "colab_type": "text",
    "id": "ntnrJUiWNLwL"
   },
   "source": [
    "## Compile model "
   ]
  },
  {
   "cell_type": "code",
   "execution_count": 13,
   "metadata": {},
   "outputs": [
    {
     "data": {
      "text/plain": [
       "'/home/bapanes/Research-Now/local/ml-valpo-local/umonna/dataset/ML1/train_output_models/'"
      ]
     },
     "execution_count": 13,
     "metadata": {},
     "output_type": "execute_result"
    }
   ],
   "source": [
    "output_folder"
   ]
  },
  {
   "cell_type": "code",
   "execution_count": 14,
   "metadata": {},
   "outputs": [
    {
     "data": {
      "text/plain": [
       "'BMO_UNIT_MST'"
      ]
     },
     "execution_count": 14,
     "metadata": {},
     "output_type": "execute_result"
    }
   ],
   "source": [
    "model_name"
   ]
  },
  {
   "cell_type": "code",
   "execution_count": 15,
   "metadata": {},
   "outputs": [
    {
     "data": {
      "text/plain": [
       "'MST_FlashCam'"
      ]
     },
     "execution_count": 15,
     "metadata": {},
     "output_type": "execute_result"
    }
   ],
   "source": [
    "telescope"
   ]
  },
  {
   "cell_type": "code",
   "execution_count": 16,
   "metadata": {},
   "outputs": [
    {
     "data": {
      "text/plain": [
       "'mse'"
      ]
     },
     "execution_count": 16,
     "metadata": {},
     "output_type": "execute_result"
    }
   ],
   "source": [
    "loss"
   ]
  },
  {
   "cell_type": "code",
   "execution_count": 17,
   "metadata": {
    "colab": {
     "base_uri": "https://localhost:8080/",
     "height": 141
    },
    "colab_type": "code",
    "executionInfo": {
     "elapsed": 966296,
     "status": "ok",
     "timestamp": 1588007090036,
     "user": {
      "displayName": "Sebastián Bórquez",
      "photoUrl": "https://lh3.googleusercontent.com/a-/AOh14GjxWwI8bJunba57PuyxAam6CPZ6TAt-b6ZBMCcbHw=s64",
      "userId": "11886092938956714392"
     },
     "user_tz": 240
    },
    "id": "yP_xO8HzNK8U",
    "outputId": "108f5f14-e798-4489-b8dc-3ebda2e1ca28"
   },
   "outputs": [
    {
     "name": "stdout",
     "output_type": "stream",
     "text": [
      "WARNING:tensorflow:AutoGraph could not transform <bound method HexConvLayer.call of <gerumo.models.layers.HexConvLayer object at 0x7fd852965210>> and will run it as-is.\n",
      "Cause: mangled names are not yet supported\n",
      "To silence this warning, decorate the function with @tf.autograph.experimental.do_not_convert\n",
      "WARNING: AutoGraph could not transform <bound method HexConvLayer.call of <gerumo.models.layers.HexConvLayer object at 0x7fd852965210>> and will run it as-is.\n",
      "Cause: mangled names are not yet supported\n",
      "To silence this warning, decorate the function with @tf.autograph.experimental.do_not_convert\n"
     ]
    }
   ],
   "source": [
    "# CallBacks\n",
    "callbacks = []\n",
    "save_checkpoints = True\n",
    "\n",
    "if save_checkpoints:\n",
    "#if False:\n",
    "    # Checkpoint parameters\n",
    "    checkpoint_filepath = \"%s_%s_%s_e{epoch:03d}_{val_loss:.4f}.h5\"%(model_name, telescope, loss)\n",
    "    checkpoint_filepath = path.join(output_folder, checkpoint_filepath)\n",
    "    callbacks.append(\n",
    "        keras.callbacks.ModelCheckpoint(checkpoint_filepath, monitor='val_loss', \n",
    "              verbose=1, save_weights_only=False, mode='min', save_best_only=True))\n",
    "\n",
    "# Train\n",
    "input_img_shape = INPUT_SHAPE[f\"{input_image_mode}-mask\" if input_image_mask else input_image_mode][telescope]\n",
    "input_features_shape = (len(input_features),)\n",
    "target_shapes = target_mode_config[\"target_shapes\"]\n",
    "model = model_constructor(telescope, input_image_mode, input_image_mask, \n",
    "                input_img_shape, input_features_shape,\n",
    "                targets, target_mode, \n",
    "                target_shapes=target_shapes, \n",
    "                **model_extra_params)"
   ]
  },
  {
   "cell_type": "markdown",
   "metadata": {
    "colab_type": "text",
    "id": "vbsecI9HZp82"
   },
   "source": [
    "### Summary model"
   ]
  },
  {
   "cell_type": "code",
   "execution_count": 18,
   "metadata": {
    "colab": {},
    "colab_type": "code",
    "id": "xCrY1C2QMt7Q"
   },
   "outputs": [
    {
     "name": "stdout",
     "output_type": "stream",
     "text": [
      "Model: \"BMO_Unit_MST_FlashCam\"\n",
      "__________________________________________________________________________________________________\n",
      "Layer (type)                    Output Shape         Param #     Connected to                     \n",
      "==================================================================================================\n",
      "image_input (InputLayer)        [(None, 2, 84, 29, 3 0                                            \n",
      "__________________________________________________________________________________________________\n",
      "encoder_hex_conv_layer (HexConv (None, 41, 13, 32)   896         image_input[0][0]                \n",
      "__________________________________________________________________________________________________\n",
      "encoder_conv_layer_1_a (Conv2D) (None, 41, 13, 32)   25632       encoder_hex_conv_layer[0][0]     \n",
      "__________________________________________________________________________________________________\n",
      "encoder_ReLU_1_a (Activation)   (None, 41, 13, 32)   0           encoder_conv_layer_1_a[0][0]     \n",
      "__________________________________________________________________________________________________\n",
      "encoder_batchnorm_1_a (BatchNor (None, 41, 13, 32)   128         encoder_ReLU_1_a[0][0]           \n",
      "__________________________________________________________________________________________________\n",
      "encoder_conv_layer_1_b (Conv2D) (None, 41, 13, 32)   25632       encoder_batchnorm_1_a[0][0]      \n",
      "__________________________________________________________________________________________________\n",
      "encoder_ReLU_1_b (Activation)   (None, 41, 13, 32)   0           encoder_conv_layer_1_b[0][0]     \n",
      "__________________________________________________________________________________________________\n",
      "encoder_batchnorm_1_b (BatchNor (None, 41, 13, 32)   128         encoder_ReLU_1_b[0][0]           \n",
      "__________________________________________________________________________________________________\n",
      "encoder_maxpool_layer_1 (MaxPoo (None, 20, 6, 32)    0           encoder_batchnorm_1_b[0][0]      \n",
      "__________________________________________________________________________________________________\n",
      "encoder_conv_layer_2_a (Conv2D) (None, 20, 6, 64)    18496       encoder_maxpool_layer_1[0][0]    \n",
      "__________________________________________________________________________________________________\n",
      "encoder_ReLU_2_a (Activation)   (None, 20, 6, 64)    0           encoder_conv_layer_2_a[0][0]     \n",
      "__________________________________________________________________________________________________\n",
      "encoder_batchnorm_2_a (BatchNor (None, 20, 6, 64)    256         encoder_ReLU_2_a[0][0]           \n",
      "__________________________________________________________________________________________________\n",
      "encoder_conv_layer_2_b (Conv2D) (None, 20, 6, 64)    36928       encoder_batchnorm_2_a[0][0]      \n",
      "__________________________________________________________________________________________________\n",
      "encoder_ReLU_2_b (Activation)   (None, 20, 6, 64)    0           encoder_conv_layer_2_b[0][0]     \n",
      "__________________________________________________________________________________________________\n",
      "encoder_batchnorm_2_b (BatchNor (None, 20, 6, 64)    256         encoder_ReLU_2_b[0][0]           \n",
      "__________________________________________________________________________________________________\n",
      "encoder_maxpool_layer_2 (MaxPoo (None, 10, 3, 64)    0           encoder_batchnorm_2_b[0][0]      \n",
      "__________________________________________________________________________________________________\n",
      "encoder_conv_layer_3_a (Conv2D) (None, 10, 3, 128)   73856       encoder_maxpool_layer_2[0][0]    \n",
      "__________________________________________________________________________________________________\n",
      "encoder_ReLU_3_a (Activation)   (None, 10, 3, 128)   0           encoder_conv_layer_3_a[0][0]     \n",
      "__________________________________________________________________________________________________\n",
      "encoder_batchnorm_3_a (BatchNor (None, 10, 3, 128)   512         encoder_ReLU_3_a[0][0]           \n",
      "__________________________________________________________________________________________________\n",
      "encoder_conv_layer_3_b (Conv2D) (None, 10, 3, 128)   147584      encoder_batchnorm_3_a[0][0]      \n",
      "__________________________________________________________________________________________________\n",
      "encoder_ReLU_3_b (Activation)   (None, 10, 3, 128)   0           encoder_conv_layer_3_b[0][0]     \n",
      "__________________________________________________________________________________________________\n",
      "encoder_batchnorm_3_b (BatchNor (None, 10, 3, 128)   512         encoder_ReLU_3_b[0][0]           \n",
      "__________________________________________________________________________________________________\n",
      "encoder_maxpool_layer_3 (MaxPoo (None, 5, 1, 128)    0           encoder_batchnorm_3_b[0][0]      \n",
      "__________________________________________________________________________________________________\n",
      "encoder_conv_layer_compress (Co (None, 1, 1, 256)    164096      encoder_maxpool_layer_3[0][0]    \n",
      "__________________________________________________________________________________________________\n",
      "encoder_conv_layer_to_latent (C (None, 1, 1, 600)    154200      encoder_conv_layer_compress[0][0]\n",
      "__________________________________________________________________________________________________\n",
      "feature_input (InputLayer)      [(None, 2)]          0                                            \n",
      "__________________________________________________________________________________________________\n",
      "encoder_flatten_to_latent (Flat (None, 600)          0           encoder_conv_layer_to_latent[0][0\n",
      "__________________________________________________________________________________________________\n",
      "concatenate_1 (Concatenate)     (None, 602)          0           feature_input[0][0]              \n",
      "                                                                 encoder_flatten_to_latent[0][0]  \n",
      "__________________________________________________________________________________________________\n",
      "logic_dense_0 (Dense)           (None, 300)          180900      concatenate_1[0][0]              \n",
      "__________________________________________________________________________________________________\n",
      "logic_ReLU_0 (Activation)       (None, 300)          0           logic_dense_0[0][0]              \n",
      "__________________________________________________________________________________________________\n",
      "logic_batchnorm_0 (BatchNormali (None, 300)          1200        logic_ReLU_0[0][0]               \n",
      "__________________________________________________________________________________________________\n",
      "bayesian_Dropout_0 (Dropout)    (None, 300)          0           logic_batchnorm_0[0][0]          \n",
      "__________________________________________________________________________________________________\n",
      "logic_dense_1 (Dense)           (None, 300)          90300       bayesian_Dropout_0[0][0]         \n",
      "__________________________________________________________________________________________________\n",
      "logic_ReLU_1 (Activation)       (None, 300)          0           logic_dense_1[0][0]              \n",
      "__________________________________________________________________________________________________\n",
      "logic_batchnorm_1 (BatchNormali (None, 300)          1200        logic_ReLU_1[0][0]               \n",
      "__________________________________________________________________________________________________\n",
      "bayesian_Dropout_1 (Dropout)    (None, 300)          0           logic_batchnorm_1[0][0]          \n",
      "__________________________________________________________________________________________________\n",
      "logic_dense_2 (Dense)           (None, 300)          90300       bayesian_Dropout_1[0][0]         \n",
      "__________________________________________________________________________________________________\n",
      "logic_ReLU_2 (Activation)       (None, 300)          0           logic_dense_2[0][0]              \n",
      "__________________________________________________________________________________________________\n",
      "logic_batchnorm_2 (BatchNormali (None, 300)          1200        logic_ReLU_2[0][0]               \n",
      "__________________________________________________________________________________________________\n",
      "bayesian_Dropout_2 (Dropout)    (None, 300)          0           logic_batchnorm_2[0][0]          \n",
      "__________________________________________________________________________________________________\n",
      "logic_dense_3 (Dense)           (None, 300)          90300       bayesian_Dropout_2[0][0]         \n",
      "__________________________________________________________________________________________________\n",
      "logic_ReLU_3 (Activation)       (None, 300)          0           logic_dense_3[0][0]              \n",
      "__________________________________________________________________________________________________\n",
      "logic_batchnorm_3 (BatchNormali (None, 300)          1200        logic_ReLU_3[0][0]               \n",
      "__________________________________________________________________________________________________\n",
      "bayesian_Dropout_3 (Dropout)    (None, 300)          0           logic_batchnorm_3[0][0]          \n",
      "__________________________________________________________________________________________________\n",
      "logic_dense_4 (Dense)           (None, 300)          90300       bayesian_Dropout_3[0][0]         \n",
      "__________________________________________________________________________________________________\n",
      "logic_dense_shortcut (Dense)    (None, 300)          180300      encoder_flatten_to_latent[0][0]  \n",
      "__________________________________________________________________________________________________\n",
      "logic_ReLU_4 (Activation)       (None, 300)          0           logic_dense_4[0][0]              \n",
      "__________________________________________________________________________________________________\n",
      "logic_ReLU_shortcut (Activation (None, 300)          0           logic_dense_shortcut[0][0]       \n",
      "__________________________________________________________________________________________________\n",
      "logic_batchnorm_4 (BatchNormali (None, 300)          1200        logic_ReLU_4[0][0]               \n",
      "__________________________________________________________________________________________________\n",
      "logic_batchnorm_shortcut (Batch (None, 300)          1200        logic_ReLU_shortcut[0][0]        \n",
      "__________________________________________________________________________________________________\n",
      "bayesian_Dropout_4 (Dropout)    (None, 300)          0           logic_batchnorm_4[0][0]          \n",
      "__________________________________________________________________________________________________\n",
      "bayesian_Dropout_shortcut (Drop (None, 300)          0           logic_batchnorm_shortcut[0][0]   \n",
      "__________________________________________________________________________________________________\n",
      "add (Add)                       (None, 300)          0           bayesian_Dropout_4[0][0]         \n",
      "                                                                 bayesian_Dropout_shortcut[0][0]  \n",
      "__________________________________________________________________________________________________\n",
      "logic_reshape (Reshape)         (None, 1, 1, 300)    0           add[0][0]                        \n",
      "__________________________________________________________________________________________________\n",
      "logic_dense_last (Conv2D)       (None, 1, 1, 300)    90300       logic_reshape[0][0]              \n",
      "__________________________________________________________________________________________________\n",
      "activation (Activation)         (None, 1, 1, 300)    0           logic_dense_last[0][0]           \n",
      "__________________________________________________________________________________________________\n",
      "batch_normalization (BatchNorma (None, 1, 1, 300)    1200        activation[0][0]                 \n",
      "__________________________________________________________________________________________________\n",
      "bayesian_Dropout_5 (Dropout)    (None, 1, 1, 300)    0           batch_normalization[0][0]        \n",
      "__________________________________________________________________________________________________\n",
      "dense (Dense)                   (None, 1, 1, 64)     19264       bayesian_Dropout_5[0][0]         \n",
      "__________________________________________________________________________________________________\n",
      "activation_1 (Activation)       (None, 1, 1, 64)     0           dense[0][0]                      \n",
      "__________________________________________________________________________________________________\n",
      "batch_normalization_1 (BatchNor (None, 1, 1, 64)     256         activation_1[0][0]               \n",
      "__________________________________________________________________________________________________\n",
      "bayesian_Dropout_6 (Dropout)    (None, 1, 1, 64)     0           batch_normalization_1[0][0]      \n",
      "__________________________________________________________________________________________________\n",
      "dense_1 (Dense)                 (None, 1, 1, 64)     4160        bayesian_Dropout_6[0][0]         \n",
      "__________________________________________________________________________________________________\n",
      "activation_2 (Activation)       (None, 1, 1, 64)     0           dense_1[0][0]                    \n",
      "__________________________________________________________________________________________________\n",
      "batch_normalization_2 (BatchNor (None, 1, 1, 64)     256         activation_2[0][0]               \n",
      "__________________________________________________________________________________________________\n",
      "bayesian_Dropout_7 (Dropout)    (None, 1, 1, 64)     0           batch_normalization_2[0][0]      \n",
      "__________________________________________________________________________________________________\n",
      "dense_2 (Dense)                 (None, 1, 1, 2)      130         bayesian_Dropout_7[0][0]         \n",
      "==================================================================================================\n",
      "Total params: 1,494,278\n",
      "Trainable params: 1,488,926\n",
      "Non-trainable params: 5,352\n",
      "__________________________________________________________________________________________________\n"
     ]
    }
   ],
   "source": [
    "model.summary()"
   ]
  },
  {
   "cell_type": "code",
   "execution_count": 19,
   "metadata": {
    "colab": {},
    "colab_type": "code",
    "id": "R8S5seskNEpX"
   },
   "outputs": [
    {
     "name": "stdout",
     "output_type": "stream",
     "text": [
      "Failed to import pydot. You must install pydot and graphviz for `pydotprint` to work.\n"
     ]
    }
   ],
   "source": [
    "plot_model(model, to_file=\"./model.png\", show_shapes=True)"
   ]
  },
  {
   "cell_type": "markdown",
   "metadata": {
    "colab_type": "text",
    "id": "0Hqu-j2CZm3c"
   },
   "source": [
    "### Loss Function"
   ]
  },
  {
   "cell_type": "code",
   "execution_count": null,
   "metadata": {
    "colab": {},
    "colab_type": "code",
    "id": "LfABIZp9ZW6l"
   },
   "outputs": [],
   "source": [
    "## Loss function\n",
    "loss = loss if loss.split('_')[-1] == 'loss' else f'{loss}_loss'\n",
    "if loss == \"crossentropy\":\n",
    "    loss_ = LOSS[loss](dimensions=len(targets))\n",
    "elif loss == \"distance\":\n",
    "    loss_ = mean_distance_loss(target_shapes)\n",
    "else:\n",
    "    loss_ = LOSS[loss]()"
   ]
  },
  {
   "cell_type": "markdown",
   "metadata": {},
   "source": [
    "### Optimizer"
   ]
  },
  {
   "cell_type": "code",
   "execution_count": null,
   "metadata": {},
   "outputs": [],
   "source": [
    "optimizer_ = OPTIMIZERS[optimizer](\n",
    "    learning_rate=learning_rate,\n",
    "    **optimizer_parameters\n",
    ")"
   ]
  },
  {
   "cell_type": "markdown",
   "metadata": {
    "colab_type": "text",
    "id": "VfRYmVldZ5B8"
   },
   "source": [
    "## Fit Model"
   ]
  },
  {
   "cell_type": "code",
   "execution_count": null,
   "metadata": {
    "colab": {},
    "colab_type": "code",
    "id": "N0-W7tASZvcE"
   },
   "outputs": [],
   "source": [
    "model.compile(\n",
    "    optimizer=optimizer_,\n",
    "    loss=loss_\n",
    ")"
   ]
  },
  {
   "cell_type": "code",
   "execution_count": null,
   "metadata": {
    "colab": {
     "base_uri": "https://localhost:8080/",
     "height": 191
    },
    "colab_type": "code",
    "executionInfo": {
     "elapsed": 1029363,
     "status": "ok",
     "timestamp": 1588008783340,
     "user": {
      "displayName": "Sebastián Bórquez",
      "photoUrl": "https://lh3.googleusercontent.com/a-/AOh14GjxWwI8bJunba57PuyxAam6CPZ6TAt-b6ZBMCcbHw=s64",
      "userId": "11886092938956714392"
     },
     "user_tz": 240
    },
    "id": "sJ13Ygl9Z1Oe",
    "outputId": "f8492410-a18f-40ed-e3e9-e1d942f9bbbd"
   },
   "outputs": [],
   "source": [
    "start_time = time.time()\n",
    "history = model.fit(\n",
    "    train_generator,\n",
    "    epochs = epochs,\n",
    "    verbose = 1,\n",
    "    validation_data = validation_generator,\n",
    "    validation_steps = len(validation_generator),\n",
    "    callbacks = callbacks,\n",
    "    #use_multiprocessing = True,\n",
    "    #workers = 4,\n",
    "    max_queue_size = 75\n",
    ")\n",
    "training_time = (time.time() - start_time)/60.0"
   ]
  },
  {
   "cell_type": "markdown",
   "metadata": {
    "colab_type": "text",
    "id": "mwv7hY-zpXVE"
   },
   "source": [
    "## Show some predictions (DEPRECATED)"
   ]
  },
  {
   "cell_type": "code",
   "execution_count": null,
   "metadata": {
    "colab": {
     "base_uri": "https://localhost:8080/",
     "height": 1000
    },
    "colab_type": "code",
    "executionInfo": {
     "elapsed": 1049777,
     "status": "ok",
     "timestamp": 1588008806816,
     "user": {
      "displayName": "Sebastián Bórquez",
      "photoUrl": "https://lh3.googleusercontent.com/a-/AOh14GjxWwI8bJunba57PuyxAam6CPZ6TAt-b6ZBMCcbHw=s64",
      "userId": "11886092938956714392"
     },
     "user_tz": 240
    },
    "id": "YqPdILcaalXt",
    "outputId": "801c65d8-3e8c-4e26-fc3f-5ff7b6e10cb8"
   },
   "outputs": [],
   "source": [
    "'''\n",
    "import matplotlib.pyplot as plt\n",
    "\n",
    "# Validate\n",
    "s = 0\n",
    "for j in range(0,50,2):\n",
    "  s += 1\n",
    "  batch_0 = validation_generator[j]\n",
    "  i=np.random.randint(len(batch_0[1]))\n",
    "  #prediction = model.predict(batch_0[0])[i]\n",
    "  prediction = BMO.bayesian_estimation(model, batch_0[0], 100, 0)[0][i]\n",
    "  target = batch_0[1][i]\n",
    "  input_img_e = batch_0[0][0][i][0][:,:,0]\n",
    "  input_img_t = batch_0[0][0][i][0][:,:,1]\n",
    "  input_img_m = batch_0[0][0][i][0][:,:,2]\n",
    "\n",
    "  # TODO: Add plots to viz module\n",
    "  fig, (ax0, ax1, ax2) = plt.subplots(1, 3, figsize=(8, 4))\n",
    "  fig.suptitle(f'validation sample {s}')\n",
    "  ax0.imshow(input_img_e)\n",
    "  ax0.set_title(f\"Input charge\")\n",
    "  ax1.imshow(input_img_t)\n",
    "  ax1.set_title(f\"Input peak\")\n",
    "  ax2.imshow(input_img_m)\n",
    "  ax2.set_title(f\"Input mask\")\n",
    "  plt.show()\n",
    "\n",
    "  _, (ax2, ax3)  = plt.subplots(1, 2, figsize=(8, 4))\n",
    "  ax2.imshow(target, cmap=\"jet\")\n",
    "  ax2.set_title(f\"Target\")\n",
    "\n",
    "  #ax3.imshow(prediction, cmap=\"jet\")\n",
    "  #ax3.set_title(\"Prediction\")\n",
    "  show_pdf_2d(prediction, prediction_point, targets, target_domains, targets_values=None, axis=ax3)\n",
    "  plt.show()\n",
    "  ''';"
   ]
  },
  {
   "cell_type": "code",
   "execution_count": null,
   "metadata": {
    "colab": {},
    "colab_type": "code",
    "id": "5sH3N90vp1pP"
   },
   "outputs": [],
   "source": []
  }
 ],
 "metadata": {
  "accelerator": "GPU",
  "colab": {
   "authorship_tag": "ABX9TyMnj4C1Ak2Vgs8MnlQULADq",
   "collapsed_sections": [],
   "mount_file_id": "1N4AZYXNaoajln34U3-XPCK83ZRVL-J10",
   "name": "train_model.ipynb",
   "provenance": []
  },
  "kernelspec": {
   "display_name": "Python 3",
   "language": "python",
   "name": "python3"
  },
  "language_info": {
   "codemirror_mode": {
    "name": "ipython",
    "version": 3
   },
   "file_extension": ".py",
   "mimetype": "text/x-python",
   "name": "python",
   "nbconvert_exporter": "python",
   "pygments_lexer": "ipython3",
   "version": "3.7.7"
  },
  "widgets": {
   "application/vnd.jupyter.widget-state+json": {
    "060191ba8f334ee0bcf2f2b1bf2e70fa": {
     "model_module": "@jupyter-widgets/base",
     "model_name": "LayoutModel",
     "state": {
      "_model_module": "@jupyter-widgets/base",
      "_model_module_version": "1.2.0",
      "_model_name": "LayoutModel",
      "_view_count": null,
      "_view_module": "@jupyter-widgets/base",
      "_view_module_version": "1.2.0",
      "_view_name": "LayoutView",
      "align_content": null,
      "align_items": null,
      "align_self": null,
      "border": null,
      "bottom": null,
      "display": null,
      "flex": null,
      "flex_flow": null,
      "grid_area": null,
      "grid_auto_columns": null,
      "grid_auto_flow": null,
      "grid_auto_rows": null,
      "grid_column": null,
      "grid_gap": null,
      "grid_row": null,
      "grid_template_areas": null,
      "grid_template_columns": null,
      "grid_template_rows": null,
      "height": null,
      "justify_content": null,
      "justify_items": null,
      "left": null,
      "margin": null,
      "max_height": null,
      "max_width": null,
      "min_height": null,
      "min_width": null,
      "object_fit": null,
      "object_position": null,
      "order": null,
      "overflow": null,
      "overflow_x": null,
      "overflow_y": null,
      "padding": null,
      "right": null,
      "top": null,
      "visibility": null,
      "width": null
     }
    },
    "195bd64b8c2b483b901941fb78ec4bba": {
     "model_module": "@jupyter-widgets/controls",
     "model_name": "IntProgressModel",
     "state": {
      "_dom_classes": [],
      "_model_module": "@jupyter-widgets/controls",
      "_model_module_version": "1.5.0",
      "_model_name": "IntProgressModel",
      "_view_count": null,
      "_view_module": "@jupyter-widgets/controls",
      "_view_module_version": "1.5.0",
      "_view_name": "ProgressView",
      "bar_style": "success",
      "description": "100%",
      "description_tooltip": null,
      "layout": "IPY_MODEL_e03f4c8935d046caa6b30203b4a3390f",
      "max": 1148,
      "min": 0,
      "orientation": "horizontal",
      "style": "IPY_MODEL_b6df01646af44516ac381b386db747de",
      "value": 1148
     }
    },
    "1d0f8f6579734f05b7391e9829d2f9a6": {
     "model_module": "@jupyter-widgets/controls",
     "model_name": "HBoxModel",
     "state": {
      "_dom_classes": [],
      "_model_module": "@jupyter-widgets/controls",
      "_model_module_version": "1.5.0",
      "_model_name": "HBoxModel",
      "_view_count": null,
      "_view_module": "@jupyter-widgets/controls",
      "_view_module_version": "1.5.0",
      "_view_name": "HBoxView",
      "box_style": "",
      "children": [
       "IPY_MODEL_195bd64b8c2b483b901941fb78ec4bba",
       "IPY_MODEL_b8d49981427f416c99e26648838ac134"
      ],
      "layout": "IPY_MODEL_ef98a2274a5f46d48b65274eea26f25d"
     }
    },
    "1f1ffce6a0de471eaa8a188c53a71dac": {
     "model_module": "@jupyter-widgets/controls",
     "model_name": "HBoxModel",
     "state": {
      "_dom_classes": [],
      "_model_module": "@jupyter-widgets/controls",
      "_model_module_version": "1.5.0",
      "_model_name": "HBoxModel",
      "_view_count": null,
      "_view_module": "@jupyter-widgets/controls",
      "_view_module_version": "1.5.0",
      "_view_name": "HBoxView",
      "box_style": "",
      "children": [
       "IPY_MODEL_8036c7aaef844b6e880e06cda63f10f6",
       "IPY_MODEL_9b7a24d875dd4cac8b639447f9b2bedd"
      ],
      "layout": "IPY_MODEL_7cbf02e059854a369dac769217036cba"
     }
    },
    "677ea2d0ddb2488f8f7f0734e87685f8": {
     "model_module": "@jupyter-widgets/controls",
     "model_name": "DescriptionStyleModel",
     "state": {
      "_model_module": "@jupyter-widgets/controls",
      "_model_module_version": "1.5.0",
      "_model_name": "DescriptionStyleModel",
      "_view_count": null,
      "_view_module": "@jupyter-widgets/base",
      "_view_module_version": "1.2.0",
      "_view_name": "StyleView",
      "description_width": ""
     }
    },
    "7cbf02e059854a369dac769217036cba": {
     "model_module": "@jupyter-widgets/base",
     "model_name": "LayoutModel",
     "state": {
      "_model_module": "@jupyter-widgets/base",
      "_model_module_version": "1.2.0",
      "_model_name": "LayoutModel",
      "_view_count": null,
      "_view_module": "@jupyter-widgets/base",
      "_view_module_version": "1.2.0",
      "_view_name": "LayoutView",
      "align_content": null,
      "align_items": null,
      "align_self": null,
      "border": null,
      "bottom": null,
      "display": null,
      "flex": null,
      "flex_flow": null,
      "grid_area": null,
      "grid_auto_columns": null,
      "grid_auto_flow": null,
      "grid_auto_rows": null,
      "grid_column": null,
      "grid_gap": null,
      "grid_row": null,
      "grid_template_areas": null,
      "grid_template_columns": null,
      "grid_template_rows": null,
      "height": null,
      "justify_content": null,
      "justify_items": null,
      "left": null,
      "margin": null,
      "max_height": null,
      "max_width": null,
      "min_height": null,
      "min_width": null,
      "object_fit": null,
      "object_position": null,
      "order": null,
      "overflow": null,
      "overflow_x": null,
      "overflow_y": null,
      "padding": null,
      "right": null,
      "top": null,
      "visibility": null,
      "width": null
     }
    },
    "8036c7aaef844b6e880e06cda63f10f6": {
     "model_module": "@jupyter-widgets/controls",
     "model_name": "IntProgressModel",
     "state": {
      "_dom_classes": [],
      "_model_module": "@jupyter-widgets/controls",
      "_model_module_version": "1.5.0",
      "_model_name": "IntProgressModel",
      "_view_count": null,
      "_view_module": "@jupyter-widgets/controls",
      "_view_module_version": "1.5.0",
      "_view_name": "ProgressView",
      "bar_style": "success",
      "description": "100%",
      "description_tooltip": null,
      "layout": "IPY_MODEL_e0c9399f66f44a1b86da7d913050d970",
      "max": 1336,
      "min": 0,
      "orientation": "horizontal",
      "style": "IPY_MODEL_8f39c013db3b4a8fb0e1f01d1516ba1e",
      "value": 1336
     }
    },
    "8f39c013db3b4a8fb0e1f01d1516ba1e": {
     "model_module": "@jupyter-widgets/controls",
     "model_name": "ProgressStyleModel",
     "state": {
      "_model_module": "@jupyter-widgets/controls",
      "_model_module_version": "1.5.0",
      "_model_name": "ProgressStyleModel",
      "_view_count": null,
      "_view_module": "@jupyter-widgets/base",
      "_view_module_version": "1.2.0",
      "_view_name": "StyleView",
      "bar_color": null,
      "description_width": "initial"
     }
    },
    "9b7a24d875dd4cac8b639447f9b2bedd": {
     "model_module": "@jupyter-widgets/controls",
     "model_name": "HTMLModel",
     "state": {
      "_dom_classes": [],
      "_model_module": "@jupyter-widgets/controls",
      "_model_module_version": "1.5.0",
      "_model_name": "HTMLModel",
      "_view_count": null,
      "_view_module": "@jupyter-widgets/controls",
      "_view_module_version": "1.5.0",
      "_view_name": "HTMLView",
      "description": "",
      "description_tooltip": null,
      "layout": "IPY_MODEL_060191ba8f334ee0bcf2f2b1bf2e70fa",
      "placeholder": "​",
      "style": "IPY_MODEL_b16f04cccffc402fbedb4b93a0a9a0e6",
      "value": " 1336/1336 [19:02&lt;00:00,  1.17it/s]"
     }
    },
    "b16f04cccffc402fbedb4b93a0a9a0e6": {
     "model_module": "@jupyter-widgets/controls",
     "model_name": "DescriptionStyleModel",
     "state": {
      "_model_module": "@jupyter-widgets/controls",
      "_model_module_version": "1.5.0",
      "_model_name": "DescriptionStyleModel",
      "_view_count": null,
      "_view_module": "@jupyter-widgets/base",
      "_view_module_version": "1.2.0",
      "_view_name": "StyleView",
      "description_width": ""
     }
    },
    "b3cbe4f4685d4b3ca9f535a1eba1a110": {
     "model_module": "@jupyter-widgets/base",
     "model_name": "LayoutModel",
     "state": {
      "_model_module": "@jupyter-widgets/base",
      "_model_module_version": "1.2.0",
      "_model_name": "LayoutModel",
      "_view_count": null,
      "_view_module": "@jupyter-widgets/base",
      "_view_module_version": "1.2.0",
      "_view_name": "LayoutView",
      "align_content": null,
      "align_items": null,
      "align_self": null,
      "border": null,
      "bottom": null,
      "display": null,
      "flex": null,
      "flex_flow": null,
      "grid_area": null,
      "grid_auto_columns": null,
      "grid_auto_flow": null,
      "grid_auto_rows": null,
      "grid_column": null,
      "grid_gap": null,
      "grid_row": null,
      "grid_template_areas": null,
      "grid_template_columns": null,
      "grid_template_rows": null,
      "height": null,
      "justify_content": null,
      "justify_items": null,
      "left": null,
      "margin": null,
      "max_height": null,
      "max_width": null,
      "min_height": null,
      "min_width": null,
      "object_fit": null,
      "object_position": null,
      "order": null,
      "overflow": null,
      "overflow_x": null,
      "overflow_y": null,
      "padding": null,
      "right": null,
      "top": null,
      "visibility": null,
      "width": null
     }
    },
    "b6df01646af44516ac381b386db747de": {
     "model_module": "@jupyter-widgets/controls",
     "model_name": "ProgressStyleModel",
     "state": {
      "_model_module": "@jupyter-widgets/controls",
      "_model_module_version": "1.5.0",
      "_model_name": "ProgressStyleModel",
      "_view_count": null,
      "_view_module": "@jupyter-widgets/base",
      "_view_module_version": "1.2.0",
      "_view_name": "StyleView",
      "bar_color": null,
      "description_width": "initial"
     }
    },
    "b8d49981427f416c99e26648838ac134": {
     "model_module": "@jupyter-widgets/controls",
     "model_name": "HTMLModel",
     "state": {
      "_dom_classes": [],
      "_model_module": "@jupyter-widgets/controls",
      "_model_module_version": "1.5.0",
      "_model_name": "HTMLModel",
      "_view_count": null,
      "_view_module": "@jupyter-widgets/controls",
      "_view_module_version": "1.5.0",
      "_view_name": "HTMLView",
      "description": "",
      "description_tooltip": null,
      "layout": "IPY_MODEL_b3cbe4f4685d4b3ca9f535a1eba1a110",
      "placeholder": "​",
      "style": "IPY_MODEL_677ea2d0ddb2488f8f7f0734e87685f8",
      "value": " 1148/1148 [26:59&lt;00:00,  1.41s/it]"
     }
    },
    "e03f4c8935d046caa6b30203b4a3390f": {
     "model_module": "@jupyter-widgets/base",
     "model_name": "LayoutModel",
     "state": {
      "_model_module": "@jupyter-widgets/base",
      "_model_module_version": "1.2.0",
      "_model_name": "LayoutModel",
      "_view_count": null,
      "_view_module": "@jupyter-widgets/base",
      "_view_module_version": "1.2.0",
      "_view_name": "LayoutView",
      "align_content": null,
      "align_items": null,
      "align_self": null,
      "border": null,
      "bottom": null,
      "display": null,
      "flex": null,
      "flex_flow": null,
      "grid_area": null,
      "grid_auto_columns": null,
      "grid_auto_flow": null,
      "grid_auto_rows": null,
      "grid_column": null,
      "grid_gap": null,
      "grid_row": null,
      "grid_template_areas": null,
      "grid_template_columns": null,
      "grid_template_rows": null,
      "height": null,
      "justify_content": null,
      "justify_items": null,
      "left": null,
      "margin": null,
      "max_height": null,
      "max_width": null,
      "min_height": null,
      "min_width": null,
      "object_fit": null,
      "object_position": null,
      "order": null,
      "overflow": null,
      "overflow_x": null,
      "overflow_y": null,
      "padding": null,
      "right": null,
      "top": null,
      "visibility": null,
      "width": null
     }
    },
    "e0c9399f66f44a1b86da7d913050d970": {
     "model_module": "@jupyter-widgets/base",
     "model_name": "LayoutModel",
     "state": {
      "_model_module": "@jupyter-widgets/base",
      "_model_module_version": "1.2.0",
      "_model_name": "LayoutModel",
      "_view_count": null,
      "_view_module": "@jupyter-widgets/base",
      "_view_module_version": "1.2.0",
      "_view_name": "LayoutView",
      "align_content": null,
      "align_items": null,
      "align_self": null,
      "border": null,
      "bottom": null,
      "display": null,
      "flex": null,
      "flex_flow": null,
      "grid_area": null,
      "grid_auto_columns": null,
      "grid_auto_flow": null,
      "grid_auto_rows": null,
      "grid_column": null,
      "grid_gap": null,
      "grid_row": null,
      "grid_template_areas": null,
      "grid_template_columns": null,
      "grid_template_rows": null,
      "height": null,
      "justify_content": null,
      "justify_items": null,
      "left": null,
      "margin": null,
      "max_height": null,
      "max_width": null,
      "min_height": null,
      "min_width": null,
      "object_fit": null,
      "object_position": null,
      "order": null,
      "overflow": null,
      "overflow_x": null,
      "overflow_y": null,
      "padding": null,
      "right": null,
      "top": null,
      "visibility": null,
      "width": null
     }
    },
    "ef98a2274a5f46d48b65274eea26f25d": {
     "model_module": "@jupyter-widgets/base",
     "model_name": "LayoutModel",
     "state": {
      "_model_module": "@jupyter-widgets/base",
      "_model_module_version": "1.2.0",
      "_model_name": "LayoutModel",
      "_view_count": null,
      "_view_module": "@jupyter-widgets/base",
      "_view_module_version": "1.2.0",
      "_view_name": "LayoutView",
      "align_content": null,
      "align_items": null,
      "align_self": null,
      "border": null,
      "bottom": null,
      "display": null,
      "flex": null,
      "flex_flow": null,
      "grid_area": null,
      "grid_auto_columns": null,
      "grid_auto_flow": null,
      "grid_auto_rows": null,
      "grid_column": null,
      "grid_gap": null,
      "grid_row": null,
      "grid_template_areas": null,
      "grid_template_columns": null,
      "grid_template_rows": null,
      "height": null,
      "justify_content": null,
      "justify_items": null,
      "left": null,
      "margin": null,
      "max_height": null,
      "max_width": null,
      "min_height": null,
      "min_width": null,
      "object_fit": null,
      "object_position": null,
      "order": null,
      "overflow": null,
      "overflow_x": null,
      "overflow_y": null,
      "padding": null,
      "right": null,
      "top": null,
      "visibility": null,
      "width": null
     }
    }
   }
  }
 },
 "nbformat": 4,
 "nbformat_minor": 1
}
